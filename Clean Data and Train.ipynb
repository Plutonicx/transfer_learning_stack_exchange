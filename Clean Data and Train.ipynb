{
 "cells": [
  {
   "cell_type": "code",
   "execution_count": 1,
   "metadata": {
    "collapsed": false
   },
   "outputs": [],
   "source": [
    "import numpy as np\n",
    "import pandas as pd\n",
    "import re\n",
    "import string\n",
    "from wordcloud import WordCloud\n",
    "import matplotlib.pyplot as plt\n",
    "%matplotlib inline\n",
    "from nltk.corpus import stopwords # Import the stop word list\n",
    "from tqdm import tqdm, tqdm_pandas\n",
    "from sklearn.feature_extraction.text import CountVectorizer\n",
    "import random"
   ]
  },
  {
   "cell_type": "code",
   "execution_count": 2,
   "metadata": {
    "collapsed": false
   },
   "outputs": [
    {
     "name": "stderr",
     "output_type": "stream",
     "text": [
      "0it [00:00, ?it/s]\n",
      "TqdmDeprecationWarning: Please use `tqdm.pandas(...)` instead of `tqdm_pandas(tqdm(...))`.\n"
     ]
    }
   ],
   "source": [
    "tqdm_pandas(tqdm())"
   ]
  },
  {
   "cell_type": "code",
   "execution_count": 3,
   "metadata": {
    "collapsed": false
   },
   "outputs": [],
   "source": [
    "removeTag = lambda x : re.sub('<[^>]*>','',x)\n",
    "removeNewLine = lambda x: re.sub('\\\\n',' ', x)\n",
    "removePunc = lambda x: re.sub(\"[^a-zA-Z\\s]\",\"\",string.lower(x.translate(string.maketrans(\"\",\"\"), string.punctuation)))\n",
    "reduceSpaces = lambda x: re.sub(\"[\\s]{2,}\",\" \",x)\n",
    "\n",
    "def stripUnMeaningfulWords(sentance):\n",
    "    words = sentance.split(\" \")\n",
    "    newWorldList = [w for w in words if not w in stopwords.words(\"english\")]\n",
    "    return(string.join(newWorldList))\n",
    "\n",
    "removeUnwantedTag = lambda x : x.replace('please-remove-this-tag','')\n",
    "removeCommonWords = lambda x: x.replace('ive','').replace('im','')\n",
    "\n",
    "def wordCloudGenerator(column_heading):\n",
    "\n",
    "    wordcloud = WordCloud().generate(string.join(cooking_frame[column_heading].tolist()))\n",
    "    # lower max_font_size\n",
    "    #wordcloud = WordCloud().generate(text)\n",
    "    plt.figure()\n",
    "    plt.imshow(wordcloud)\n",
    "    plt.axis(\"off\")\n",
    "    plt.show()\n",
    "    \n"
   ]
  },
  {
   "cell_type": "code",
   "execution_count": 4,
   "metadata": {
    "collapsed": true
   },
   "outputs": [],
   "source": [
    "def cleanContent(df, contentColumn):\n",
    "    df['content_clean'] = df[contentColumn].apply(removeTag).apply(removeNewLine).apply(removePunc).apply(reduceSpaces)\n",
    "    df['content_clean'] = df['content_clean'].progress_apply(stripUnMeaningfulWords)\n",
    "    df['content_clean'] = df['content_clean'].apply(removeCommonWords)\n",
    "    return df\n",
    "\n",
    "def cleanTags(df, tagColumn):\n",
    "    df['tags_clean'] = df['tags'].apply(removeUnwantedTag).apply(removeCommonWords)   \n",
    "    return df"
   ]
  },
  {
   "cell_type": "code",
   "execution_count": 5,
   "metadata": {
    "collapsed": false
   },
   "outputs": [],
   "source": [
    "cooking_frame = pd.read_csv('~/Data/cooking.csv')\n",
    "biology_frame = pd.read_csv('~/Data/biology.csv')\n",
    "crypto_frame = pd.read_csv('~/Data/crypto.csv')\n",
    "diy_frame = pd.read_csv('~/Data/diy.csv')\n",
    "robotics_frame = pd.read_csv('~/Data/robotics.csv')\n",
    "travel_frame = pd.read_csv('~/Data/travel.csv')\n"
   ]
  },
  {
   "cell_type": "code",
   "execution_count": 6,
   "metadata": {
    "collapsed": false
   },
   "outputs": [
    {
     "name": "stderr",
     "output_type": "stream",
     "text": [
      "15404it [02:54, 88.50it/s]\n",
      "100%|██████████| 13196/13196 [02:32<00:00, 86.61it/s]\n",
      "100%|██████████| 10432/10432 [02:50<00:00, 61.11it/s]\n",
      "100%|██████████| 25918/25918 [06:15<00:00, 68.93it/s]\n",
      "100%|██████████| 2771/2771 [00:48<00:00, 57.05it/s]\n",
      "100%|██████████| 19279/19279 [03:48<00:00, 84.22it/s]\n"
     ]
    }
   ],
   "source": [
    "cooking_frame = cleanContent(cooking_frame, 'content')\n",
    "biology_frame = cleanContent(biology_frame, 'content')\n",
    "crypto_frame = cleanContent(crypto_frame, 'content')\n",
    "diy_frame = cleanContent(diy_frame, 'content')\n",
    "robotics_frame = cleanContent(robotics_frame, 'content')\n",
    "travel_frame = cleanContent(travel_frame, 'content')"
   ]
  },
  {
   "cell_type": "code",
   "execution_count": 7,
   "metadata": {
    "collapsed": false
   },
   "outputs": [],
   "source": [
    "cooking_frame = cleanTags(cooking_frame, 'tags')\n",
    "biology_frame = cleanTags(biology_frame, 'tags')\n",
    "crypto_frame = cleanTags(crypto_frame, 'tags')\n",
    "diy_frame = cleanTags(diy_frame, 'tags')\n",
    "robotics_frame = cleanTags(robotics_frame, 'tags')\n",
    "travel_frame = cleanTags(travel_frame, 'tags')"
   ]
  },
  {
   "cell_type": "code",
   "execution_count": 8,
   "metadata": {
    "collapsed": true
   },
   "outputs": [],
   "source": [
    "frames = [cooking_frame, biology_frame, crypto_frame, diy_frame, robotics_frame, travel_frame]"
   ]
  },
  {
   "cell_type": "code",
   "execution_count": 9,
   "metadata": {
    "collapsed": false
   },
   "outputs": [],
   "source": [
    "overallFrame = pd.concat(frames)"
   ]
  },
  {
   "cell_type": "code",
   "execution_count": 10,
   "metadata": {
    "collapsed": false
   },
   "outputs": [
    {
     "data": {
      "text/html": [
       "<div>\n",
       "<table border=\"1\" class=\"dataframe\">\n",
       "  <thead>\n",
       "    <tr style=\"text-align: right;\">\n",
       "      <th></th>\n",
       "      <th>id</th>\n",
       "      <th>title</th>\n",
       "      <th>content</th>\n",
       "      <th>tags</th>\n",
       "      <th>content_clean</th>\n",
       "      <th>tags_clean</th>\n",
       "    </tr>\n",
       "  </thead>\n",
       "  <tbody>\n",
       "    <tr>\n",
       "      <th>0</th>\n",
       "      <td>1</td>\n",
       "      <td>How can I get chewy chocolate chip cookies?</td>\n",
       "      <td>&lt;p&gt;My chocolate chips cookies are always too c...</td>\n",
       "      <td>baking cookies texture</td>\n",
       "      <td>chocolate chips cookies always crisp get chewy...</td>\n",
       "      <td>baking cookies texture</td>\n",
       "    </tr>\n",
       "    <tr>\n",
       "      <th>1</th>\n",
       "      <td>2</td>\n",
       "      <td>How should I cook bacon in an oven?</td>\n",
       "      <td>&lt;p&gt;I've heard of people cooking bacon in an ov...</td>\n",
       "      <td>oven cooking-time bacon</td>\n",
       "      <td>heard people cooking bacon oven laying strips...</td>\n",
       "      <td>oven cooking-te bacon</td>\n",
       "    </tr>\n",
       "    <tr>\n",
       "      <th>2</th>\n",
       "      <td>3</td>\n",
       "      <td>What is the difference between white and brown...</td>\n",
       "      <td>&lt;p&gt;I always use brown extra large eggs, but I ...</td>\n",
       "      <td>eggs</td>\n",
       "      <td>always use brown extra large eggs cant honestl...</td>\n",
       "      <td>eggs</td>\n",
       "    </tr>\n",
       "    <tr>\n",
       "      <th>3</th>\n",
       "      <td>4</td>\n",
       "      <td>What is the difference between baking soda and...</td>\n",
       "      <td>&lt;p&gt;And can I use one in place of the other in ...</td>\n",
       "      <td>substitutions please-remove-this-tag baking-so...</td>\n",
       "      <td>use one place certain recipes</td>\n",
       "      <td>substitutions  baking-soda baking-powder</td>\n",
       "    </tr>\n",
       "    <tr>\n",
       "      <th>4</th>\n",
       "      <td>5</td>\n",
       "      <td>In a tomato sauce recipe, how can I cut the ac...</td>\n",
       "      <td>&lt;p&gt;It seems that every time I make a tomato sa...</td>\n",
       "      <td>sauce pasta tomatoes italian-cuisine</td>\n",
       "      <td>seems every te make tomato sauce pasta sauce l...</td>\n",
       "      <td>sauce pasta tomatoes italian-cuisine</td>\n",
       "    </tr>\n",
       "    <tr>\n",
       "      <th>5</th>\n",
       "      <td>6</td>\n",
       "      <td>What ingredients (available in specific region...</td>\n",
       "      <td>&lt;p&gt;I have a recipe that calls for fresh parsle...</td>\n",
       "      <td>substitutions herbs parsley</td>\n",
       "      <td>recipe calls fresh parsley substituted fresh h...</td>\n",
       "      <td>substitutions herbs parsley</td>\n",
       "    </tr>\n",
       "    <tr>\n",
       "      <th>6</th>\n",
       "      <td>9</td>\n",
       "      <td>What is the internal temperature a steak shoul...</td>\n",
       "      <td>&lt;p&gt;I'd like to know when to take my steaks off...</td>\n",
       "      <td>food-safety beef cooking-time</td>\n",
       "      <td>id like know take steaks grill please everybody</td>\n",
       "      <td>food-safety beef cooking-te</td>\n",
       "    </tr>\n",
       "    <tr>\n",
       "      <th>7</th>\n",
       "      <td>11</td>\n",
       "      <td>How should I poach an egg?</td>\n",
       "      <td>&lt;p&gt;What's the best method to poach an egg with...</td>\n",
       "      <td>eggs basics poaching</td>\n",
       "      <td>whats best method poach egg without turning eg...</td>\n",
       "      <td>eggs basics poaching</td>\n",
       "    </tr>\n",
       "    <tr>\n",
       "      <th>8</th>\n",
       "      <td>12</td>\n",
       "      <td>How can I make my Ice Cream \"creamier\"</td>\n",
       "      <td>&lt;p&gt;My ice cream doesn't feel creamy enough.  I...</td>\n",
       "      <td>ice-cream</td>\n",
       "      <td>ice cream doesnt feel creamy enough got recipe...</td>\n",
       "      <td>ice-cream</td>\n",
       "    </tr>\n",
       "    <tr>\n",
       "      <th>9</th>\n",
       "      <td>17</td>\n",
       "      <td>How long and at what temperature do the variou...</td>\n",
       "      <td>&lt;p&gt;I'm interested in baking thighs, legs, brea...</td>\n",
       "      <td>baking chicken cooking-time</td>\n",
       "      <td>interested baking thighs legs breasts wings l...</td>\n",
       "      <td>baking chicken cooking-te</td>\n",
       "    </tr>\n",
       "    <tr>\n",
       "      <th>10</th>\n",
       "      <td>23</td>\n",
       "      <td>Besides salmon, what other meats can be grille...</td>\n",
       "      <td>&lt;p&gt;I've fallen in love with this wonderful &lt;a ...</td>\n",
       "      <td>grilling salmon cedar-plank</td>\n",
       "      <td>fallen love wonderful cedar planked salmon re...</td>\n",
       "      <td>grilling salmon cedar-plank</td>\n",
       "    </tr>\n",
       "    <tr>\n",
       "      <th>11</th>\n",
       "      <td>27</td>\n",
       "      <td>Do I need to sift flour that is labeled sifted?</td>\n",
       "      <td>&lt;p&gt;Is there really an advantage to sifting flo...</td>\n",
       "      <td>baking flour measurements sifting</td>\n",
       "      <td>really advantage sifting flour bought labeled ...</td>\n",
       "      <td>baking flour measurements sifting</td>\n",
       "    </tr>\n",
       "    <tr>\n",
       "      <th>12</th>\n",
       "      <td>28</td>\n",
       "      <td>Storage life for goose fat</td>\n",
       "      <td>&lt;p&gt;When I roast a goose, I decant the fat, str...</td>\n",
       "      <td>storage-method storage-lifetime fats</td>\n",
       "      <td>roast goose decant fat strain freeze typically...</td>\n",
       "      <td>storage-method storage-lifete fats</td>\n",
       "    </tr>\n",
       "    <tr>\n",
       "      <th>13</th>\n",
       "      <td>30</td>\n",
       "      <td>Pressure canning instructions</td>\n",
       "      <td>&lt;p&gt;Where can safe and reliable instructions (i...</td>\n",
       "      <td>canning pressure-canner food-preservation</td>\n",
       "      <td>safe reliable instructions including high low ...</td>\n",
       "      <td>canning pressure-canner food-preservation</td>\n",
       "    </tr>\n",
       "    <tr>\n",
       "      <th>14</th>\n",
       "      <td>32</td>\n",
       "      <td>What's a good resource for knowing what spices...</td>\n",
       "      <td>&lt;p&gt;I know what spices like garlic and black pe...</td>\n",
       "      <td>spices resources basics learning</td>\n",
       "      <td>know spices like garlic black pepper foods typ...</td>\n",
       "      <td>spices resources basics learning</td>\n",
       "    </tr>\n",
       "    <tr>\n",
       "      <th>15</th>\n",
       "      <td>36</td>\n",
       "      <td>Is it safe to leave butter at room temperature?</td>\n",
       "      <td>&lt;p&gt;Is it safe to leave butter at room temperat...</td>\n",
       "      <td>food-safety storage-method storage-lifetime bu...</td>\n",
       "      <td>safe leave butter room temperature long safe k...</td>\n",
       "      <td>food-safety storage-method storage-lifete butter</td>\n",
       "    </tr>\n",
       "    <tr>\n",
       "      <th>16</th>\n",
       "      <td>38</td>\n",
       "      <td>Does resting the dough for a long time reduce ...</td>\n",
       "      <td>&lt;p&gt;In this &lt;a href=\"http://www.chefmichaelsmit...</td>\n",
       "      <td>baking bread dough</td>\n",
       "      <td>article chef michael smith mentions recipe lea...</td>\n",
       "      <td>baking bread dough</td>\n",
       "    </tr>\n",
       "    <tr>\n",
       "      <th>17</th>\n",
       "      <td>54</td>\n",
       "      <td>How should I prepare Risotto</td>\n",
       "      <td>&lt;p&gt;I've been watching a lot of Hells Kitchen, ...</td>\n",
       "      <td>rice italian-cuisine risotto</td>\n",
       "      <td>watching lot hells kitchen one signature dish...</td>\n",
       "      <td>rice italian-cuisine risotto</td>\n",
       "    </tr>\n",
       "    <tr>\n",
       "      <th>18</th>\n",
       "      <td>57</td>\n",
       "      <td>How does a splash of vinegar help when poachin...</td>\n",
       "      <td>&lt;p&gt;What does splashing in a shot of white vine...</td>\n",
       "      <td>eggs food-science vinegar poaching</td>\n",
       "      <td>splashing shot white vinegar smering water poa...</td>\n",
       "      <td>eggs food-science vinegar poaching</td>\n",
       "    </tr>\n",
       "    <tr>\n",
       "      <th>19</th>\n",
       "      <td>61</td>\n",
       "      <td>What are the pros and cons of storing bread in...</td>\n",
       "      <td>&lt;p&gt;Why should/shouldn't I store my bread in th...</td>\n",
       "      <td>storage-method bread</td>\n",
       "      <td>shouldshouldnt store bread fridgefreezerbreadb...</td>\n",
       "      <td>storage-method bread</td>\n",
       "    </tr>\n",
       "  </tbody>\n",
       "</table>\n",
       "</div>"
      ],
      "text/plain": [
       "    id                                              title  \\\n",
       "0    1        How can I get chewy chocolate chip cookies?   \n",
       "1    2                How should I cook bacon in an oven?   \n",
       "2    3  What is the difference between white and brown...   \n",
       "3    4  What is the difference between baking soda and...   \n",
       "4    5  In a tomato sauce recipe, how can I cut the ac...   \n",
       "5    6  What ingredients (available in specific region...   \n",
       "6    9  What is the internal temperature a steak shoul...   \n",
       "7   11                         How should I poach an egg?   \n",
       "8   12             How can I make my Ice Cream \"creamier\"   \n",
       "9   17  How long and at what temperature do the variou...   \n",
       "10  23  Besides salmon, what other meats can be grille...   \n",
       "11  27    Do I need to sift flour that is labeled sifted?   \n",
       "12  28                         Storage life for goose fat   \n",
       "13  30                      Pressure canning instructions   \n",
       "14  32  What's a good resource for knowing what spices...   \n",
       "15  36    Is it safe to leave butter at room temperature?   \n",
       "16  38  Does resting the dough for a long time reduce ...   \n",
       "17  54                       How should I prepare Risotto   \n",
       "18  57  How does a splash of vinegar help when poachin...   \n",
       "19  61  What are the pros and cons of storing bread in...   \n",
       "\n",
       "                                              content  \\\n",
       "0   <p>My chocolate chips cookies are always too c...   \n",
       "1   <p>I've heard of people cooking bacon in an ov...   \n",
       "2   <p>I always use brown extra large eggs, but I ...   \n",
       "3   <p>And can I use one in place of the other in ...   \n",
       "4   <p>It seems that every time I make a tomato sa...   \n",
       "5   <p>I have a recipe that calls for fresh parsle...   \n",
       "6   <p>I'd like to know when to take my steaks off...   \n",
       "7   <p>What's the best method to poach an egg with...   \n",
       "8   <p>My ice cream doesn't feel creamy enough.  I...   \n",
       "9   <p>I'm interested in baking thighs, legs, brea...   \n",
       "10  <p>I've fallen in love with this wonderful <a ...   \n",
       "11  <p>Is there really an advantage to sifting flo...   \n",
       "12  <p>When I roast a goose, I decant the fat, str...   \n",
       "13  <p>Where can safe and reliable instructions (i...   \n",
       "14  <p>I know what spices like garlic and black pe...   \n",
       "15  <p>Is it safe to leave butter at room temperat...   \n",
       "16  <p>In this <a href=\"http://www.chefmichaelsmit...   \n",
       "17  <p>I've been watching a lot of Hells Kitchen, ...   \n",
       "18  <p>What does splashing in a shot of white vine...   \n",
       "19  <p>Why should/shouldn't I store my bread in th...   \n",
       "\n",
       "                                                 tags  \\\n",
       "0                              baking cookies texture   \n",
       "1                             oven cooking-time bacon   \n",
       "2                                                eggs   \n",
       "3   substitutions please-remove-this-tag baking-so...   \n",
       "4                sauce pasta tomatoes italian-cuisine   \n",
       "5                         substitutions herbs parsley   \n",
       "6                       food-safety beef cooking-time   \n",
       "7                                eggs basics poaching   \n",
       "8                                           ice-cream   \n",
       "9                         baking chicken cooking-time   \n",
       "10                        grilling salmon cedar-plank   \n",
       "11                  baking flour measurements sifting   \n",
       "12               storage-method storage-lifetime fats   \n",
       "13          canning pressure-canner food-preservation   \n",
       "14                   spices resources basics learning   \n",
       "15  food-safety storage-method storage-lifetime bu...   \n",
       "16                                 baking bread dough   \n",
       "17                       rice italian-cuisine risotto   \n",
       "18                 eggs food-science vinegar poaching   \n",
       "19                               storage-method bread   \n",
       "\n",
       "                                        content_clean  \\\n",
       "0   chocolate chips cookies always crisp get chewy...   \n",
       "1    heard people cooking bacon oven laying strips...   \n",
       "2   always use brown extra large eggs cant honestl...   \n",
       "3                      use one place certain recipes    \n",
       "4   seems every te make tomato sauce pasta sauce l...   \n",
       "5   recipe calls fresh parsley substituted fresh h...   \n",
       "6    id like know take steaks grill please everybody    \n",
       "7   whats best method poach egg without turning eg...   \n",
       "8   ice cream doesnt feel creamy enough got recipe...   \n",
       "9    interested baking thighs legs breasts wings l...   \n",
       "10   fallen love wonderful cedar planked salmon re...   \n",
       "11  really advantage sifting flour bought labeled ...   \n",
       "12  roast goose decant fat strain freeze typically...   \n",
       "13  safe reliable instructions including high low ...   \n",
       "14  know spices like garlic black pepper foods typ...   \n",
       "15  safe leave butter room temperature long safe k...   \n",
       "16  article chef michael smith mentions recipe lea...   \n",
       "17   watching lot hells kitchen one signature dish...   \n",
       "18  splashing shot white vinegar smering water poa...   \n",
       "19  shouldshouldnt store bread fridgefreezerbreadb...   \n",
       "\n",
       "                                          tags_clean  \n",
       "0                             baking cookies texture  \n",
       "1                              oven cooking-te bacon  \n",
       "2                                               eggs  \n",
       "3           substitutions  baking-soda baking-powder  \n",
       "4               sauce pasta tomatoes italian-cuisine  \n",
       "5                        substitutions herbs parsley  \n",
       "6                        food-safety beef cooking-te  \n",
       "7                               eggs basics poaching  \n",
       "8                                          ice-cream  \n",
       "9                          baking chicken cooking-te  \n",
       "10                       grilling salmon cedar-plank  \n",
       "11                 baking flour measurements sifting  \n",
       "12                storage-method storage-lifete fats  \n",
       "13         canning pressure-canner food-preservation  \n",
       "14                  spices resources basics learning  \n",
       "15  food-safety storage-method storage-lifete butter  \n",
       "16                                baking bread dough  \n",
       "17                      rice italian-cuisine risotto  \n",
       "18                eggs food-science vinegar poaching  \n",
       "19                              storage-method bread  "
      ]
     },
     "execution_count": 10,
     "metadata": {},
     "output_type": "execute_result"
    }
   ],
   "source": [
    "overallFrame.head(20)"
   ]
  },
  {
   "cell_type": "code",
   "execution_count": null,
   "metadata": {
    "collapsed": true
   },
   "outputs": [],
   "source": []
  },
  {
   "cell_type": "code",
   "execution_count": 11,
   "metadata": {
    "collapsed": false
   },
   "outputs": [],
   "source": [
    "pattern = '''([\\w-]+)'''\n",
    "pattern2 = '''(?u)\\\\b\\\\w\\\\w+\\\\b'''\n",
    "#pattern3 = '''(?u)\\\\b\\\\w+\\\\w-w\\\\b'''\n",
    "\n",
    "\n",
    "\n",
    "#vectorizer = CountVectorizer(min_df=1)\n",
    "#http://scikit-learn.org/stable/modules/generated/sklearn.feature_extraction.text.CountVectorizer.html#sklearn.feature_extraction.text.CountVectorizer\n",
    "#vectorizer = CountVectorizer(analyzer=partial(nltk.regexp_tokenize, pattern=pattern) )\n",
    "vectorizer = CountVectorizer(analyzer='word', binary=False, decode_error='strict',\n",
    "       dtype=np.float32, encoding='utf-8', input='content',\n",
    "       lowercase=True, max_df=1.0, max_features=None, min_df=1,\n",
    "       ngram_range=(1, 1), preprocessor=None, stop_words=None,\n",
    "       strip_accents=None, token_pattern=pattern2,\n",
    "       tokenizer=None, vocabulary=None)\n",
    "\n",
    "corpus = overallFrame['content_clean'].tolist()\n",
    "X = vectorizer.fit_transform(corpus)\n",
    "#vectorizer = CountVectorizer(analyzer='word', binary=False, decode_error='strict',\n",
    "#        dtype=np.float32, encoding='utf-8', input='content',\n",
    "#        lowercase=True, max_df=1.0, max_features=None, min_df=1,\n",
    "#        ngram_range=(1, 1), preprocessor=None, stop_words=None,\n",
    "#        strip_accents=None, token_pattern=pattern3,\n",
    "#        tokenizer=None, vocabulary=None)\n"
   ]
  },
  {
   "cell_type": "code",
   "execution_count": 12,
   "metadata": {
    "collapsed": false
   },
   "outputs": [],
   "source": [
    "from functools import partial\n",
    "import nltk\n",
    "#corpus = overallFrame['content_clean'].tolist()\n",
    "#X = vectorizer.fit_transform(corpus)\n",
    "pattern = '''([\\w-]+)'''\n",
    "vectorizer = CountVectorizer(analyzer=partial(nltk.regexp_tokenize, pattern=pattern) )\n",
    "\n",
    "corpus = overallFrame['tags_clean'].tolist()\n",
    "Y = vectorizer.fit_transform(corpus)\n",
    "\n",
    "\n",
    "\n",
    "#overallFrame.head(10)"
   ]
  },
  {
   "cell_type": "code",
   "execution_count": 14,
   "metadata": {
    "collapsed": false
   },
   "outputs": [],
   "source": [
    "#print vectorizer.vocabulary_"
   ]
  },
  {
   "cell_type": "code",
   "execution_count": 15,
   "metadata": {
    "collapsed": false
   },
   "outputs": [
    {
     "data": {
      "text/plain": [
       "array(['cooking-te', 'food-safety', 'beef'], \n",
       "      dtype='|S25')"
      ]
     },
     "execution_count": 15,
     "metadata": {},
     "output_type": "execute_result"
    }
   ],
   "source": [
    "Z = vectorizer.inverse_transform(Y)\n",
    "Z[6]"
   ]
  },
  {
   "cell_type": "code",
   "execution_count": 16,
   "metadata": {
    "collapsed": false
   },
   "outputs": [
    {
     "name": "stderr",
     "output_type": "stream",
     "text": [
      "Using TensorFlow backend.\n"
     ]
    }
   ],
   "source": [
    "import tensorflow as tf\n",
    "\n",
    "from keras.models import Sequential\n",
    "from keras.layers import Input, Dropout, Flatten, Convolution2D, MaxPooling2D, Dense, Activation\n",
    "from keras.optimizers import RMSprop\n",
    "from keras.callbacks import ModelCheckpoint, Callback, EarlyStopping\n",
    "from keras.utils import np_utils"
   ]
  },
  {
   "cell_type": "code",
   "execution_count": 17,
   "metadata": {
    "collapsed": false
   },
   "outputs": [
    {
     "name": "stdout",
     "output_type": "stream",
     "text": [
      "(87000, 139899)\n",
      "(87000, 4267)\n"
     ]
    }
   ],
   "source": [
    "print np.shape(X)\n",
    "\n",
    "print np.shape(Y)"
   ]
  },
  {
   "cell_type": "code",
   "execution_count": 17,
   "metadata": {
    "collapsed": false
   },
   "outputs": [],
   "source": [
    "optimizer = RMSprop(lr=1e-4)\n",
    "objective = 'binary_crossentropy'\n",
    "\n",
    "model = Sequential()\n",
    "\n",
    "#model.add(Convolution2D(32, 3, 3, border_mode='same', input_shape=[WIDTH, HEIGHT, 3], activation='relu'))\n",
    "#model.add(Flatten())\n",
    "model.add(Dense(8000, input_shape=[139899,], activation='relu'))\n",
    "model.add(Dropout(0.5))\n",
    "\n",
    "model.add(Dense(4000, activation='relu'))\n",
    "model.add(Dropout(0.6))\n",
    "\n",
    "model.add(Dense(2000, activation='relu'))\n",
    "model.add(Dropout(0.5))\n",
    "\n",
    "model.add(Dense(4267))\n",
    "model.add(Activation('sigmoid'))\n",
    "\n",
    "model.compile(loss=objective, optimizer=optimizer, metrics=['accuracy'])"
   ]
  },
  {
   "cell_type": "code",
   "execution_count": 18,
   "metadata": {
    "collapsed": true
   },
   "outputs": [],
   "source": [
    "nb_epoch = 5\n",
    "batch_size = 150\n",
    "\n",
    "## Callback for loss logging per epoch\n",
    "class LossHistory(Callback):\n",
    "    def on_train_begin(self, logs={}):\n",
    "        self.losses = []\n",
    "        self.val_losses = []\n",
    "        \n",
    "    def on_epoch_end(self, batch, logs={}):\n",
    "        self.losses.append(logs.get('loss'))\n",
    "        self.val_losses.append(logs.get('val_loss'))\n",
    "\n",
    "early_stopping = EarlyStopping(monitor='val_loss', patience=3, verbose=1, mode='auto') "
   ]
  },
  {
   "cell_type": "code",
   "execution_count": 19,
   "metadata": {
    "collapsed": false
   },
   "outputs": [],
   "source": [
    "history = LossHistory()\n",
    "\n",
    "\n",
    "#train_x = np.array(train_x).astype(float)\n",
    "\n",
    "\n",
    "\n",
    "\n",
    "#train_y = np.array(train_y).astype(float)\n",
    "\n",
    "\n",
    "#test_x = [test[i] for i in range(len(test))]\n",
    "#test_x = np.array(test_x).astype(float)"
   ]
  },
  {
   "cell_type": "code",
   "execution_count": 20,
   "metadata": {
    "collapsed": false
   },
   "outputs": [
    {
     "ename": "MemoryError",
     "evalue": "",
     "output_type": "error",
     "traceback": [
      "\u001b[1;31m---------------------------------------------------------------------------\u001b[0m",
      "\u001b[1;31mMemoryError\u001b[0m                               Traceback (most recent call last)",
      "\u001b[1;32m<ipython-input-20-279e7f73bb78>\u001b[0m in \u001b[0;36m<module>\u001b[1;34m()\u001b[0m\n\u001b[1;32m----> 1\u001b[1;33m \u001b[0mtrain_X\u001b[0m \u001b[1;33m=\u001b[0m \u001b[0mX\u001b[0m\u001b[1;33m.\u001b[0m\u001b[0mtoarray\u001b[0m\u001b[1;33m(\u001b[0m\u001b[1;33m)\u001b[0m\u001b[1;33m\u001b[0m\u001b[0m\n\u001b[0m\u001b[0;32m      2\u001b[0m \u001b[0mtrain_Y\u001b[0m \u001b[1;33m=\u001b[0m \u001b[0mY\u001b[0m\u001b[1;33m.\u001b[0m\u001b[0mtoarray\u001b[0m\u001b[1;33m(\u001b[0m\u001b[1;33m)\u001b[0m\u001b[1;33m\u001b[0m\u001b[0m\n",
      "\u001b[1;32m/home/ubuntu/anaconda2/lib/python2.7/site-packages/scipy/sparse/compressed.pyc\u001b[0m in \u001b[0;36mtoarray\u001b[1;34m(self, order, out)\u001b[0m\n\u001b[0;32m    938\u001b[0m     \u001b[1;32mdef\u001b[0m \u001b[0mtoarray\u001b[0m\u001b[1;33m(\u001b[0m\u001b[0mself\u001b[0m\u001b[1;33m,\u001b[0m \u001b[0morder\u001b[0m\u001b[1;33m=\u001b[0m\u001b[0mNone\u001b[0m\u001b[1;33m,\u001b[0m \u001b[0mout\u001b[0m\u001b[1;33m=\u001b[0m\u001b[0mNone\u001b[0m\u001b[1;33m)\u001b[0m\u001b[1;33m:\u001b[0m\u001b[1;33m\u001b[0m\u001b[0m\n\u001b[0;32m    939\u001b[0m         \u001b[1;34m\"\"\"See the docstring for `spmatrix.toarray`.\"\"\"\u001b[0m\u001b[1;33m\u001b[0m\u001b[0m\n\u001b[1;32m--> 940\u001b[1;33m         \u001b[1;32mreturn\u001b[0m \u001b[0mself\u001b[0m\u001b[1;33m.\u001b[0m\u001b[0mtocoo\u001b[0m\u001b[1;33m(\u001b[0m\u001b[0mcopy\u001b[0m\u001b[1;33m=\u001b[0m\u001b[0mFalse\u001b[0m\u001b[1;33m)\u001b[0m\u001b[1;33m.\u001b[0m\u001b[0mtoarray\u001b[0m\u001b[1;33m(\u001b[0m\u001b[0morder\u001b[0m\u001b[1;33m=\u001b[0m\u001b[0morder\u001b[0m\u001b[1;33m,\u001b[0m \u001b[0mout\u001b[0m\u001b[1;33m=\u001b[0m\u001b[0mout\u001b[0m\u001b[1;33m)\u001b[0m\u001b[1;33m\u001b[0m\u001b[0m\n\u001b[0m\u001b[0;32m    941\u001b[0m \u001b[1;33m\u001b[0m\u001b[0m\n\u001b[0;32m    942\u001b[0m     \u001b[1;31m##############################################################\u001b[0m\u001b[1;33m\u001b[0m\u001b[1;33m\u001b[0m\u001b[0m\n",
      "\u001b[1;32m/home/ubuntu/anaconda2/lib/python2.7/site-packages/scipy/sparse/coo.pyc\u001b[0m in \u001b[0;36mtoarray\u001b[1;34m(self, order, out)\u001b[0m\n\u001b[0;32m    248\u001b[0m     \u001b[1;32mdef\u001b[0m \u001b[0mtoarray\u001b[0m\u001b[1;33m(\u001b[0m\u001b[0mself\u001b[0m\u001b[1;33m,\u001b[0m \u001b[0morder\u001b[0m\u001b[1;33m=\u001b[0m\u001b[0mNone\u001b[0m\u001b[1;33m,\u001b[0m \u001b[0mout\u001b[0m\u001b[1;33m=\u001b[0m\u001b[0mNone\u001b[0m\u001b[1;33m)\u001b[0m\u001b[1;33m:\u001b[0m\u001b[1;33m\u001b[0m\u001b[0m\n\u001b[0;32m    249\u001b[0m         \u001b[1;34m\"\"\"See the docstring for `spmatrix.toarray`.\"\"\"\u001b[0m\u001b[1;33m\u001b[0m\u001b[0m\n\u001b[1;32m--> 250\u001b[1;33m         \u001b[0mB\u001b[0m \u001b[1;33m=\u001b[0m \u001b[0mself\u001b[0m\u001b[1;33m.\u001b[0m\u001b[0m_process_toarray_args\u001b[0m\u001b[1;33m(\u001b[0m\u001b[0morder\u001b[0m\u001b[1;33m,\u001b[0m \u001b[0mout\u001b[0m\u001b[1;33m)\u001b[0m\u001b[1;33m\u001b[0m\u001b[0m\n\u001b[0m\u001b[0;32m    251\u001b[0m         \u001b[0mfortran\u001b[0m \u001b[1;33m=\u001b[0m \u001b[0mint\u001b[0m\u001b[1;33m(\u001b[0m\u001b[0mB\u001b[0m\u001b[1;33m.\u001b[0m\u001b[0mflags\u001b[0m\u001b[1;33m.\u001b[0m\u001b[0mf_contiguous\u001b[0m\u001b[1;33m)\u001b[0m\u001b[1;33m\u001b[0m\u001b[0m\n\u001b[0;32m    252\u001b[0m         \u001b[1;32mif\u001b[0m \u001b[1;32mnot\u001b[0m \u001b[0mfortran\u001b[0m \u001b[1;32mand\u001b[0m \u001b[1;32mnot\u001b[0m \u001b[0mB\u001b[0m\u001b[1;33m.\u001b[0m\u001b[0mflags\u001b[0m\u001b[1;33m.\u001b[0m\u001b[0mc_contiguous\u001b[0m\u001b[1;33m:\u001b[0m\u001b[1;33m\u001b[0m\u001b[0m\n",
      "\u001b[1;32m/home/ubuntu/anaconda2/lib/python2.7/site-packages/scipy/sparse/base.pyc\u001b[0m in \u001b[0;36m_process_toarray_args\u001b[1;34m(self, order, out)\u001b[0m\n\u001b[0;32m    815\u001b[0m             \u001b[1;32mreturn\u001b[0m \u001b[0mout\u001b[0m\u001b[1;33m\u001b[0m\u001b[0m\n\u001b[0;32m    816\u001b[0m         \u001b[1;32melse\u001b[0m\u001b[1;33m:\u001b[0m\u001b[1;33m\u001b[0m\u001b[0m\n\u001b[1;32m--> 817\u001b[1;33m             \u001b[1;32mreturn\u001b[0m \u001b[0mnp\u001b[0m\u001b[1;33m.\u001b[0m\u001b[0mzeros\u001b[0m\u001b[1;33m(\u001b[0m\u001b[0mself\u001b[0m\u001b[1;33m.\u001b[0m\u001b[0mshape\u001b[0m\u001b[1;33m,\u001b[0m \u001b[0mdtype\u001b[0m\u001b[1;33m=\u001b[0m\u001b[0mself\u001b[0m\u001b[1;33m.\u001b[0m\u001b[0mdtype\u001b[0m\u001b[1;33m,\u001b[0m \u001b[0morder\u001b[0m\u001b[1;33m=\u001b[0m\u001b[0morder\u001b[0m\u001b[1;33m)\u001b[0m\u001b[1;33m\u001b[0m\u001b[0m\n\u001b[0m\u001b[0;32m    818\u001b[0m \u001b[1;33m\u001b[0m\u001b[0m\n\u001b[0;32m    819\u001b[0m     \u001b[1;32mdef\u001b[0m \u001b[0m__numpy_ufunc__\u001b[0m\u001b[1;33m(\u001b[0m\u001b[0mself\u001b[0m\u001b[1;33m,\u001b[0m \u001b[0mfunc\u001b[0m\u001b[1;33m,\u001b[0m \u001b[0mmethod\u001b[0m\u001b[1;33m,\u001b[0m \u001b[0mpos\u001b[0m\u001b[1;33m,\u001b[0m \u001b[0minputs\u001b[0m\u001b[1;33m,\u001b[0m \u001b[1;33m**\u001b[0m\u001b[0mkwargs\u001b[0m\u001b[1;33m)\u001b[0m\u001b[1;33m:\u001b[0m\u001b[1;33m\u001b[0m\u001b[0m\n",
      "\u001b[1;31mMemoryError\u001b[0m: "
     ]
    }
   ],
   "source": [
    "train_X = X.toarray()\n",
    "train_Y = Y.toarray()"
   ]
  },
  {
   "cell_type": "code",
   "execution_count": 21,
   "metadata": {
    "collapsed": false
   },
   "outputs": [],
   "source": [
    "#train_x = [X[i,:] for i in tqdm(range(28600))]\n",
    "#train_y = [Y[i,:] for i in tqdm(range(28600))]"
   ]
  },
  {
   "cell_type": "code",
   "execution_count": 22,
   "metadata": {
    "collapsed": false
   },
   "outputs": [
    {
     "data": {
      "text/plain": [
       "array([[ 0.,  0.,  0., ...,  0.,  0.,  0.],\n",
       "       [ 0.,  0.,  0., ...,  0.,  0.,  0.],\n",
       "       [ 0.,  0.,  0., ...,  0.,  0.,  0.],\n",
       "       ..., \n",
       "       [ 0.,  0.,  0., ...,  0.,  0.,  0.],\n",
       "       [ 0.,  0.,  0., ...,  0.,  0.,  0.],\n",
       "       [ 0.,  0.,  0., ...,  0.,  0.,  0.]], dtype=float32)"
      ]
     },
     "execution_count": 22,
     "metadata": {},
     "output_type": "execute_result"
    }
   ],
   "source": [
    "train_X"
   ]
  },
  {
   "cell_type": "code",
   "execution_count": 23,
   "metadata": {
    "collapsed": false
   },
   "outputs": [
    {
     "name": "stdout",
     "output_type": "stream",
     "text": [
      "Train on 22880 samples, validate on 5720 samples\n",
      "Epoch 1/5\n",
      "22880/22880 [==============================] - 29s - loss: 0.1096 - acc: 0.9835 - val_loss: 0.0139 - val_acc: 0.9981\n",
      "Epoch 2/5\n",
      "22880/22880 [==============================] - 28s - loss: 0.0114 - acc: 0.9983 - val_loss: 0.0129 - val_acc: 0.9981\n",
      "Epoch 3/5\n",
      "22880/22880 [==============================] - 28s - loss: 0.0111 - acc: 0.9983 - val_loss: 0.0128 - val_acc: 0.9981\n",
      "Epoch 4/5\n",
      "22880/22880 [==============================] - 28s - loss: 0.0109 - acc: 0.9983 - val_loss: 0.0127 - val_acc: 0.9981\n",
      "Epoch 5/5\n",
      "22880/22880 [==============================] - 28s - loss: 0.0108 - acc: 0.9983 - val_loss: 0.0125 - val_acc: 0.9981\n"
     ]
    },
    {
     "data": {
      "text/plain": [
       "<keras.callbacks.History at 0x7f330919ea90>"
      ]
     },
     "execution_count": 23,
     "metadata": {},
     "output_type": "execute_result"
    }
   ],
   "source": [
    "model.fit(train_X, train_Y, batch_size=batch_size, nb_epoch=nb_epoch,\n",
    "              validation_split=0.20, verbose=1, shuffle=True, callbacks=[history, early_stopping])"
   ]
  },
  {
   "cell_type": "code",
   "execution_count": 47,
   "metadata": {
    "collapsed": false
   },
   "outputs": [],
   "source": [
    "# now predict training features\n",
    "Z = model.predict(train_X)"
   ]
  },
  {
   "cell_type": "code",
   "execution_count": 48,
   "metadata": {
    "collapsed": true
   },
   "outputs": [],
   "source": [
    "low_values_indices = Z < 0.05  # Where values are low\n",
    "Z[low_values_indices] = 0  # All low values set to 0"
   ]
  },
  {
   "cell_type": "code",
   "execution_count": 49,
   "metadata": {
    "collapsed": true
   },
   "outputs": [],
   "source": [
    "new_Y = vectorizer.inverse_transform(Z)"
   ]
  },
  {
   "cell_type": "code",
   "execution_count": 54,
   "metadata": {
    "collapsed": false
   },
   "outputs": [
    {
     "data": {
      "text/plain": [
       "array(['baking', 'food-safety'], \n",
       "      dtype='|S25')"
      ]
     },
     "execution_count": 54,
     "metadata": {},
     "output_type": "execute_result"
    }
   ],
   "source": [
    "new_Y[4]"
   ]
  },
  {
   "cell_type": "code",
   "execution_count": null,
   "metadata": {
    "collapsed": false
   },
   "outputs": [],
   "source": []
  },
  {
   "cell_type": "code",
   "execution_count": null,
   "metadata": {
    "collapsed": true
   },
   "outputs": [],
   "source": []
  },
  {
   "cell_type": "code",
   "execution_count": null,
   "metadata": {
    "collapsed": true
   },
   "outputs": [],
   "source": []
  }
 ],
 "metadata": {
  "kernelspec": {
   "display_name": "Python 2",
   "language": "python",
   "name": "python2"
  },
  "language_info": {
   "codemirror_mode": {
    "name": "ipython",
    "version": 2
   },
   "file_extension": ".py",
   "mimetype": "text/x-python",
   "name": "python",
   "nbconvert_exporter": "python",
   "pygments_lexer": "ipython2",
   "version": "2.7.12"
  }
 },
 "nbformat": 4,
 "nbformat_minor": 0
}
