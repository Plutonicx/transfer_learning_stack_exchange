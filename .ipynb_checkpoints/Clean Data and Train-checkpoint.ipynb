{
 "cells": [
  {
   "cell_type": "code",
   "execution_count": 1,
   "metadata": {
    "collapsed": false
   },
   "outputs": [],
   "source": [
    "import numpy as np\n",
    "import pandas as pd\n",
    "import re\n",
    "import string\n",
    "from wordcloud import WordCloud\n",
    "import matplotlib.pyplot as plt\n",
    "%matplotlib inline\n",
    "from nltk.corpus import stopwords # Import the stop word list\n",
    "from tqdm import tqdm, tqdm_pandas\n",
    "from sklearn.feature_extraction.text import CountVectorizer\n",
    "import random"
   ]
  },
  {
   "cell_type": "code",
   "execution_count": 2,
   "metadata": {
    "collapsed": false
   },
   "outputs": [
    {
     "name": "stderr",
     "output_type": "stream",
     "text": [
      "0it [00:00, ?it/s]\n",
      "TqdmDeprecationWarning: Please use `tqdm.pandas(...)` instead of `tqdm_pandas(tqdm(...))`.\n"
     ]
    }
   ],
   "source": [
    "tqdm_pandas(tqdm())"
   ]
  },
  {
   "cell_type": "code",
   "execution_count": 3,
   "metadata": {
    "collapsed": false
   },
   "outputs": [],
   "source": [
    "removeTag = lambda x : re.sub('<[^>]*>','',x)\n",
    "removeNewLine = lambda x: re.sub('\\\\n',' ', x)\n",
    "removePunc = lambda x: re.sub(\"[^a-zA-Z\\s]\",\"\",string.lower(x.translate(string.maketrans(\"\",\"\"), string.punctuation)))\n",
    "reduceSpaces = lambda x: re.sub(\"[\\s]{2,}\",\" \",x)\n",
    "\n",
    "def stripUnMeaningfulWords(sentance):\n",
    "    words = sentance.split(\" \")\n",
    "    newWorldList = [w for w in words if not w in stopwords.words(\"english\")]\n",
    "    return(string.join(newWorldList))\n",
    "\n",
    "removeUnwantedTag = lambda x : x.replace('please-remove-this-tag','')\n",
    "removeCommonWords = lambda x: x.replace('ive','').replace('im','')\n",
    "\n",
    "def wordCloudGenerator(column_heading):\n",
    "\n",
    "    wordcloud = WordCloud().generate(string.join(cooking_frame[column_heading].tolist()))\n",
    "    # lower max_font_size\n",
    "    #wordcloud = WordCloud().generate(text)\n",
    "    plt.figure()\n",
    "    plt.imshow(wordcloud)\n",
    "    plt.axis(\"off\")\n",
    "    plt.show()\n",
    "    \n"
   ]
  },
  {
   "cell_type": "code",
   "execution_count": 4,
   "metadata": {
    "collapsed": true
   },
   "outputs": [],
   "source": [
    "def cleanContent(df, contentColumn):\n",
    "    df['content_clean'] = df[contentColumn].apply(removeTag).apply(removeNewLine).apply(removePunc).apply(reduceSpaces)\n",
    "    df['content_clean'] = df['content_clean'].progress_apply(stripUnMeaningfulWords)\n",
    "    df['content_clean'] = df['content_clean'].apply(removeCommonWords)\n",
    "    return df\n",
    "\n",
    "def cleanTags(df, tagColumn):\n",
    "    df['tags_clean'] = df['tags'].apply(removeUnwantedTag).apply(removeCommonWords)   \n",
    "    return df"
   ]
  },
  {
   "cell_type": "code",
   "execution_count": 5,
   "metadata": {
    "collapsed": false
   },
   "outputs": [],
   "source": [
    "cooking_frame = pd.read_csv('~/Data/cooking.csv')\n",
    "biology_frame = pd.read_csv('~/Data/biology.csv')\n",
    "crypto_frame = pd.read_csv('~/Data/crypto.csv')\n",
    "diy_frame = pd.read_csv('~/Data/diy.csv')\n",
    "robotics_frame = pd.read_csv('~/Data/robotics.csv')\n",
    "travel_frame = pd.read_csv('~/Data/travel.csv')\n"
   ]
  },
  {
   "cell_type": "code",
   "execution_count": 6,
   "metadata": {
    "collapsed": false
   },
   "outputs": [
    {
     "name": "stderr",
     "output_type": "stream",
     "text": [
      "15404it [02:57, 86.94it/s]\n",
      "100%|██████████| 13196/13196 [02:32<00:00, 86.37it/s]\n"
     ]
    }
   ],
   "source": [
    "cooking_frame = cleanContent(cooking_frame, 'content')\n",
    "biology_frame = cleanContent(biology_frame, 'content')\n",
    "crypto_frame = cleanContent(crypto_frame, 'content')\n",
    "diy_frame = cleanContent(diy_frame, 'content')\n",
    "robotics_frame = cleanContent(robotics_frame, 'content')\n",
    "travel_frame = cleanContent(travel_frame, 'content')"
   ]
  },
  {
   "cell_type": "code",
   "execution_count": 7,
   "metadata": {
    "collapsed": false
   },
   "outputs": [],
   "source": [
    "cooking_frame = cleanTags(cooking_frame, 'tags')\n",
    "biology_frame = cleanTags(biology_frame, 'tags')\n",
    "crypto_frame = cleanTags(crypto_frame, 'tags')\n",
    "diy_frame = cleanTags(diy_frame, 'tags')\n",
    "robotics_frame = cleanTags(robotics_frame, 'tags')\n",
    "travel_frame = cleanTags(travel_frame, 'tags')"
   ]
  },
  {
   "cell_type": "code",
   "execution_count": 8,
   "metadata": {
    "collapsed": true
   },
   "outputs": [],
   "source": [
    "frames = [cooking_frame, biology_frame]\n",
    "#, crypto_frame, diy_frame, robotics_frame, travel_frame]"
   ]
  },
  {
   "cell_type": "code",
   "execution_count": 9,
   "metadata": {
    "collapsed": false
   },
   "outputs": [],
   "source": [
    "overallFrame = pd.concat(frames)"
   ]
  },
  {
   "cell_type": "code",
   "execution_count": 10,
   "metadata": {
    "collapsed": false
   },
   "outputs": [
    {
     "data": {
      "text/html": [
       "<div>\n",
       "<table border=\"1\" class=\"dataframe\">\n",
       "  <thead>\n",
       "    <tr style=\"text-align: right;\">\n",
       "      <th></th>\n",
       "      <th>id</th>\n",
       "      <th>title</th>\n",
       "      <th>content</th>\n",
       "      <th>tags</th>\n",
       "      <th>content_clean</th>\n",
       "      <th>tags_clean</th>\n",
       "    </tr>\n",
       "  </thead>\n",
       "  <tbody>\n",
       "    <tr>\n",
       "      <th>0</th>\n",
       "      <td>1</td>\n",
       "      <td>How can I get chewy chocolate chip cookies?</td>\n",
       "      <td>&lt;p&gt;My chocolate chips cookies are always too c...</td>\n",
       "      <td>baking cookies texture</td>\n",
       "      <td>chocolate chips cookies always crisp get chewy...</td>\n",
       "      <td>baking cookies texture</td>\n",
       "    </tr>\n",
       "    <tr>\n",
       "      <th>1</th>\n",
       "      <td>2</td>\n",
       "      <td>How should I cook bacon in an oven?</td>\n",
       "      <td>&lt;p&gt;I've heard of people cooking bacon in an ov...</td>\n",
       "      <td>oven cooking-time bacon</td>\n",
       "      <td>heard people cooking bacon oven laying strips...</td>\n",
       "      <td>oven cooking-te bacon</td>\n",
       "    </tr>\n",
       "    <tr>\n",
       "      <th>2</th>\n",
       "      <td>3</td>\n",
       "      <td>What is the difference between white and brown...</td>\n",
       "      <td>&lt;p&gt;I always use brown extra large eggs, but I ...</td>\n",
       "      <td>eggs</td>\n",
       "      <td>always use brown extra large eggs cant honestl...</td>\n",
       "      <td>eggs</td>\n",
       "    </tr>\n",
       "    <tr>\n",
       "      <th>3</th>\n",
       "      <td>4</td>\n",
       "      <td>What is the difference between baking soda and...</td>\n",
       "      <td>&lt;p&gt;And can I use one in place of the other in ...</td>\n",
       "      <td>substitutions please-remove-this-tag baking-so...</td>\n",
       "      <td>use one place certain recipes</td>\n",
       "      <td>substitutions  baking-soda baking-powder</td>\n",
       "    </tr>\n",
       "    <tr>\n",
       "      <th>4</th>\n",
       "      <td>5</td>\n",
       "      <td>In a tomato sauce recipe, how can I cut the ac...</td>\n",
       "      <td>&lt;p&gt;It seems that every time I make a tomato sa...</td>\n",
       "      <td>sauce pasta tomatoes italian-cuisine</td>\n",
       "      <td>seems every te make tomato sauce pasta sauce l...</td>\n",
       "      <td>sauce pasta tomatoes italian-cuisine</td>\n",
       "    </tr>\n",
       "    <tr>\n",
       "      <th>5</th>\n",
       "      <td>6</td>\n",
       "      <td>What ingredients (available in specific region...</td>\n",
       "      <td>&lt;p&gt;I have a recipe that calls for fresh parsle...</td>\n",
       "      <td>substitutions herbs parsley</td>\n",
       "      <td>recipe calls fresh parsley substituted fresh h...</td>\n",
       "      <td>substitutions herbs parsley</td>\n",
       "    </tr>\n",
       "    <tr>\n",
       "      <th>6</th>\n",
       "      <td>9</td>\n",
       "      <td>What is the internal temperature a steak shoul...</td>\n",
       "      <td>&lt;p&gt;I'd like to know when to take my steaks off...</td>\n",
       "      <td>food-safety beef cooking-time</td>\n",
       "      <td>id like know take steaks grill please everybody</td>\n",
       "      <td>food-safety beef cooking-te</td>\n",
       "    </tr>\n",
       "    <tr>\n",
       "      <th>7</th>\n",
       "      <td>11</td>\n",
       "      <td>How should I poach an egg?</td>\n",
       "      <td>&lt;p&gt;What's the best method to poach an egg with...</td>\n",
       "      <td>eggs basics poaching</td>\n",
       "      <td>whats best method poach egg without turning eg...</td>\n",
       "      <td>eggs basics poaching</td>\n",
       "    </tr>\n",
       "    <tr>\n",
       "      <th>8</th>\n",
       "      <td>12</td>\n",
       "      <td>How can I make my Ice Cream \"creamier\"</td>\n",
       "      <td>&lt;p&gt;My ice cream doesn't feel creamy enough.  I...</td>\n",
       "      <td>ice-cream</td>\n",
       "      <td>ice cream doesnt feel creamy enough got recipe...</td>\n",
       "      <td>ice-cream</td>\n",
       "    </tr>\n",
       "    <tr>\n",
       "      <th>9</th>\n",
       "      <td>17</td>\n",
       "      <td>How long and at what temperature do the variou...</td>\n",
       "      <td>&lt;p&gt;I'm interested in baking thighs, legs, brea...</td>\n",
       "      <td>baking chicken cooking-time</td>\n",
       "      <td>interested baking thighs legs breasts wings l...</td>\n",
       "      <td>baking chicken cooking-te</td>\n",
       "    </tr>\n",
       "    <tr>\n",
       "      <th>10</th>\n",
       "      <td>23</td>\n",
       "      <td>Besides salmon, what other meats can be grille...</td>\n",
       "      <td>&lt;p&gt;I've fallen in love with this wonderful &lt;a ...</td>\n",
       "      <td>grilling salmon cedar-plank</td>\n",
       "      <td>fallen love wonderful cedar planked salmon re...</td>\n",
       "      <td>grilling salmon cedar-plank</td>\n",
       "    </tr>\n",
       "    <tr>\n",
       "      <th>11</th>\n",
       "      <td>27</td>\n",
       "      <td>Do I need to sift flour that is labeled sifted?</td>\n",
       "      <td>&lt;p&gt;Is there really an advantage to sifting flo...</td>\n",
       "      <td>baking flour measurements sifting</td>\n",
       "      <td>really advantage sifting flour bought labeled ...</td>\n",
       "      <td>baking flour measurements sifting</td>\n",
       "    </tr>\n",
       "    <tr>\n",
       "      <th>12</th>\n",
       "      <td>28</td>\n",
       "      <td>Storage life for goose fat</td>\n",
       "      <td>&lt;p&gt;When I roast a goose, I decant the fat, str...</td>\n",
       "      <td>storage-method storage-lifetime fats</td>\n",
       "      <td>roast goose decant fat strain freeze typically...</td>\n",
       "      <td>storage-method storage-lifete fats</td>\n",
       "    </tr>\n",
       "    <tr>\n",
       "      <th>13</th>\n",
       "      <td>30</td>\n",
       "      <td>Pressure canning instructions</td>\n",
       "      <td>&lt;p&gt;Where can safe and reliable instructions (i...</td>\n",
       "      <td>canning pressure-canner food-preservation</td>\n",
       "      <td>safe reliable instructions including high low ...</td>\n",
       "      <td>canning pressure-canner food-preservation</td>\n",
       "    </tr>\n",
       "    <tr>\n",
       "      <th>14</th>\n",
       "      <td>32</td>\n",
       "      <td>What's a good resource for knowing what spices...</td>\n",
       "      <td>&lt;p&gt;I know what spices like garlic and black pe...</td>\n",
       "      <td>spices resources basics learning</td>\n",
       "      <td>know spices like garlic black pepper foods typ...</td>\n",
       "      <td>spices resources basics learning</td>\n",
       "    </tr>\n",
       "    <tr>\n",
       "      <th>15</th>\n",
       "      <td>36</td>\n",
       "      <td>Is it safe to leave butter at room temperature?</td>\n",
       "      <td>&lt;p&gt;Is it safe to leave butter at room temperat...</td>\n",
       "      <td>food-safety storage-method storage-lifetime bu...</td>\n",
       "      <td>safe leave butter room temperature long safe k...</td>\n",
       "      <td>food-safety storage-method storage-lifete butter</td>\n",
       "    </tr>\n",
       "    <tr>\n",
       "      <th>16</th>\n",
       "      <td>38</td>\n",
       "      <td>Does resting the dough for a long time reduce ...</td>\n",
       "      <td>&lt;p&gt;In this &lt;a href=\"http://www.chefmichaelsmit...</td>\n",
       "      <td>baking bread dough</td>\n",
       "      <td>article chef michael smith mentions recipe lea...</td>\n",
       "      <td>baking bread dough</td>\n",
       "    </tr>\n",
       "    <tr>\n",
       "      <th>17</th>\n",
       "      <td>54</td>\n",
       "      <td>How should I prepare Risotto</td>\n",
       "      <td>&lt;p&gt;I've been watching a lot of Hells Kitchen, ...</td>\n",
       "      <td>rice italian-cuisine risotto</td>\n",
       "      <td>watching lot hells kitchen one signature dish...</td>\n",
       "      <td>rice italian-cuisine risotto</td>\n",
       "    </tr>\n",
       "    <tr>\n",
       "      <th>18</th>\n",
       "      <td>57</td>\n",
       "      <td>How does a splash of vinegar help when poachin...</td>\n",
       "      <td>&lt;p&gt;What does splashing in a shot of white vine...</td>\n",
       "      <td>eggs food-science vinegar poaching</td>\n",
       "      <td>splashing shot white vinegar smering water poa...</td>\n",
       "      <td>eggs food-science vinegar poaching</td>\n",
       "    </tr>\n",
       "    <tr>\n",
       "      <th>19</th>\n",
       "      <td>61</td>\n",
       "      <td>What are the pros and cons of storing bread in...</td>\n",
       "      <td>&lt;p&gt;Why should/shouldn't I store my bread in th...</td>\n",
       "      <td>storage-method bread</td>\n",
       "      <td>shouldshouldnt store bread fridgefreezerbreadb...</td>\n",
       "      <td>storage-method bread</td>\n",
       "    </tr>\n",
       "  </tbody>\n",
       "</table>\n",
       "</div>"
      ],
      "text/plain": [
       "    id                                              title  \\\n",
       "0    1        How can I get chewy chocolate chip cookies?   \n",
       "1    2                How should I cook bacon in an oven?   \n",
       "2    3  What is the difference between white and brown...   \n",
       "3    4  What is the difference between baking soda and...   \n",
       "4    5  In a tomato sauce recipe, how can I cut the ac...   \n",
       "5    6  What ingredients (available in specific region...   \n",
       "6    9  What is the internal temperature a steak shoul...   \n",
       "7   11                         How should I poach an egg?   \n",
       "8   12             How can I make my Ice Cream \"creamier\"   \n",
       "9   17  How long and at what temperature do the variou...   \n",
       "10  23  Besides salmon, what other meats can be grille...   \n",
       "11  27    Do I need to sift flour that is labeled sifted?   \n",
       "12  28                         Storage life for goose fat   \n",
       "13  30                      Pressure canning instructions   \n",
       "14  32  What's a good resource for knowing what spices...   \n",
       "15  36    Is it safe to leave butter at room temperature?   \n",
       "16  38  Does resting the dough for a long time reduce ...   \n",
       "17  54                       How should I prepare Risotto   \n",
       "18  57  How does a splash of vinegar help when poachin...   \n",
       "19  61  What are the pros and cons of storing bread in...   \n",
       "\n",
       "                                              content  \\\n",
       "0   <p>My chocolate chips cookies are always too c...   \n",
       "1   <p>I've heard of people cooking bacon in an ov...   \n",
       "2   <p>I always use brown extra large eggs, but I ...   \n",
       "3   <p>And can I use one in place of the other in ...   \n",
       "4   <p>It seems that every time I make a tomato sa...   \n",
       "5   <p>I have a recipe that calls for fresh parsle...   \n",
       "6   <p>I'd like to know when to take my steaks off...   \n",
       "7   <p>What's the best method to poach an egg with...   \n",
       "8   <p>My ice cream doesn't feel creamy enough.  I...   \n",
       "9   <p>I'm interested in baking thighs, legs, brea...   \n",
       "10  <p>I've fallen in love with this wonderful <a ...   \n",
       "11  <p>Is there really an advantage to sifting flo...   \n",
       "12  <p>When I roast a goose, I decant the fat, str...   \n",
       "13  <p>Where can safe and reliable instructions (i...   \n",
       "14  <p>I know what spices like garlic and black pe...   \n",
       "15  <p>Is it safe to leave butter at room temperat...   \n",
       "16  <p>In this <a href=\"http://www.chefmichaelsmit...   \n",
       "17  <p>I've been watching a lot of Hells Kitchen, ...   \n",
       "18  <p>What does splashing in a shot of white vine...   \n",
       "19  <p>Why should/shouldn't I store my bread in th...   \n",
       "\n",
       "                                                 tags  \\\n",
       "0                              baking cookies texture   \n",
       "1                             oven cooking-time bacon   \n",
       "2                                                eggs   \n",
       "3   substitutions please-remove-this-tag baking-so...   \n",
       "4                sauce pasta tomatoes italian-cuisine   \n",
       "5                         substitutions herbs parsley   \n",
       "6                       food-safety beef cooking-time   \n",
       "7                                eggs basics poaching   \n",
       "8                                           ice-cream   \n",
       "9                         baking chicken cooking-time   \n",
       "10                        grilling salmon cedar-plank   \n",
       "11                  baking flour measurements sifting   \n",
       "12               storage-method storage-lifetime fats   \n",
       "13          canning pressure-canner food-preservation   \n",
       "14                   spices resources basics learning   \n",
       "15  food-safety storage-method storage-lifetime bu...   \n",
       "16                                 baking bread dough   \n",
       "17                       rice italian-cuisine risotto   \n",
       "18                 eggs food-science vinegar poaching   \n",
       "19                               storage-method bread   \n",
       "\n",
       "                                        content_clean  \\\n",
       "0   chocolate chips cookies always crisp get chewy...   \n",
       "1    heard people cooking bacon oven laying strips...   \n",
       "2   always use brown extra large eggs cant honestl...   \n",
       "3                      use one place certain recipes    \n",
       "4   seems every te make tomato sauce pasta sauce l...   \n",
       "5   recipe calls fresh parsley substituted fresh h...   \n",
       "6    id like know take steaks grill please everybody    \n",
       "7   whats best method poach egg without turning eg...   \n",
       "8   ice cream doesnt feel creamy enough got recipe...   \n",
       "9    interested baking thighs legs breasts wings l...   \n",
       "10   fallen love wonderful cedar planked salmon re...   \n",
       "11  really advantage sifting flour bought labeled ...   \n",
       "12  roast goose decant fat strain freeze typically...   \n",
       "13  safe reliable instructions including high low ...   \n",
       "14  know spices like garlic black pepper foods typ...   \n",
       "15  safe leave butter room temperature long safe k...   \n",
       "16  article chef michael smith mentions recipe lea...   \n",
       "17   watching lot hells kitchen one signature dish...   \n",
       "18  splashing shot white vinegar smering water poa...   \n",
       "19  shouldshouldnt store bread fridgefreezerbreadb...   \n",
       "\n",
       "                                          tags_clean  \n",
       "0                             baking cookies texture  \n",
       "1                              oven cooking-te bacon  \n",
       "2                                               eggs  \n",
       "3           substitutions  baking-soda baking-powder  \n",
       "4               sauce pasta tomatoes italian-cuisine  \n",
       "5                        substitutions herbs parsley  \n",
       "6                        food-safety beef cooking-te  \n",
       "7                               eggs basics poaching  \n",
       "8                                          ice-cream  \n",
       "9                          baking chicken cooking-te  \n",
       "10                       grilling salmon cedar-plank  \n",
       "11                 baking flour measurements sifting  \n",
       "12                storage-method storage-lifete fats  \n",
       "13         canning pressure-canner food-preservation  \n",
       "14                  spices resources basics learning  \n",
       "15  food-safety storage-method storage-lifete butter  \n",
       "16                                baking bread dough  \n",
       "17                      rice italian-cuisine risotto  \n",
       "18                eggs food-science vinegar poaching  \n",
       "19                              storage-method bread  "
      ]
     },
     "execution_count": 10,
     "metadata": {},
     "output_type": "execute_result"
    }
   ],
   "source": [
    "overallFrame.head(20)"
   ]
  },
  {
   "cell_type": "code",
   "execution_count": null,
   "metadata": {
    "collapsed": true
   },
   "outputs": [],
   "source": []
  },
  {
   "cell_type": "code",
   "execution_count": 11,
   "metadata": {
    "collapsed": false
   },
   "outputs": [],
   "source": [
    "pattern = '''([\\w-]+)'''\n",
    "pattern2 = '''(?u)\\\\b\\\\w\\\\w+\\\\b'''\n",
    "#pattern3 = '''(?u)\\\\b\\\\w+\\\\w-w\\\\b'''\n",
    "\n",
    "\n",
    "\n",
    "#vectorizer = CountVectorizer(min_df=1)\n",
    "#http://scikit-learn.org/stable/modules/generated/sklearn.feature_extraction.text.CountVectorizer.html#sklearn.feature_extraction.text.CountVectorizer\n",
    "#vectorizer = CountVectorizer(analyzer=partial(nltk.regexp_tokenize, pattern=pattern) )\n",
    "vectorizer = CountVectorizer(analyzer='word', binary=False, decode_error='strict',\n",
    "       dtype=np.float32, encoding='utf-8', input='content',\n",
    "       lowercase=True, max_df=1.0, max_features=None, min_df=1,\n",
    "       ngram_range=(1, 1), preprocessor=None, stop_words=None,\n",
    "       strip_accents=None, token_pattern=pattern2,\n",
    "       tokenizer=None, vocabulary=None)\n",
    "\n",
    "corpus = overallFrame['content_clean'].tolist()\n",
    "X = vectorizer.fit_transform(corpus)\n",
    "#vectorizer = CountVectorizer(analyzer='word', binary=False, decode_error='strict',\n",
    "#        dtype=np.float32, encoding='utf-8', input='content',\n",
    "#        lowercase=True, max_df=1.0, max_features=None, min_df=1,\n",
    "#        ngram_range=(1, 1), preprocessor=None, stop_words=None,\n",
    "#        strip_accents=None, token_pattern=pattern3,\n",
    "#        tokenizer=None, vocabulary=None)\n"
   ]
  },
  {
   "cell_type": "code",
   "execution_count": 12,
   "metadata": {
    "collapsed": false
   },
   "outputs": [],
   "source": [
    "from functools import partial\n",
    "import nltk\n",
    "#corpus = overallFrame['content_clean'].tolist()\n",
    "#X = vectorizer.fit_transform(corpus)\n",
    "pattern = '''([\\w-]+)'''\n",
    "vectorizer = CountVectorizer(analyzer=partial(nltk.regexp_tokenize, pattern=pattern) )\n",
    "\n",
    "corpus = overallFrame['tags_clean'].tolist()\n",
    "Y = vectorizer.fit_transform(corpus)\n",
    "\n",
    "\n",
    "\n",
    "#overallFrame.head(10)"
   ]
  },
  {
   "cell_type": "code",
   "execution_count": 13,
   "metadata": {
    "collapsed": false
   },
   "outputs": [
    {
     "name": "stdout",
     "output_type": "stream",
     "text": [
      "{'splicing': 1211, 'bioluminescence': 111, 'influenza': 658, 'tissue-repair': 1296, 'biopython': 115, 'ceramic': 208, 'waste-disposal': 1366, 'electrophysiology': 425, 'sleep': 1172, 'flow-cytometry': 483, 'parmesan': 919, 'roast-beef': 1090, 'mascarpone': 763, 'peripheral-nervous-system': 943, 'high-altitude': 605, 'automune': 60, 'blueberries': 131, 'knife-skills': 700, 'slow-cooking': 1173, 'mistakes': 814, 'pancetta': 912, 'dairy': 348, 'digest-system': 374, 'health': 595, 'cheese-making': 214, 'green-fluorescent-protein': 571, 'cytokinesis': 346, 'cdna': 192, 'barley': 80, 'allergy': 19, 'competent-cells': 282, 'sashi': 1115, 'apoptosis': 43, 'faq': 460, 'circulatory-system': 254, 'dietary-restriction': 371, 'replication': 1061, 'pork-belly': 989, 'extremophiles': 458, 'offal': 875, 'salmonella': 1109, 'ramen': 1043, 'echolocation': 408, 'basics': 81, 'baking': 72, 'medicinal-chemistry': 777, 'broiler': 151, 'phosphorylation': 954, 'cholesterol': 241, 'hardy-weinberg': 593, 'cookies': 296, 'senescence': 1136, 'tea': 1272, 'bacon': 67, 'chicken-breast': 224, 'cactus': 164, 'protein-engineering': 1013, 'archaea': 49, 'plant-perception': 968, 'cilia': 251, 'pork-shoulder': 991, 'crust': 330, 'microbiology': 800, 'poison': 977, 'children': 229, 'reheating': 1059, 'anecdotal-evidence': 34, 'scallops': 1121, 'movement': 830, 'sequence-alignment': 1142, 'malaria': 750, 'pancakes': 911, 'landscape-ecology': 710, 'endothelium': 430, 'anthropology': 36, 'genetic-linkage': 544, 'sardines': 1114, 'mozzarella': 831, 'antihistamines': 41, 'vegetarian': 1342, 'prion': 1005, 'cucumbers': 333, 'predation': 998, 'kosher-salt': 706, 'lasagna': 712, 'pressure-canner': 1002, 'general-biology': 541, 'blowtorch': 130, 'dulce-de-leche': 402, 'classification': 257, 'prokaryotes': 1008, 'cocaine': 265, 'genomics': 547, 'neapolitan-pizza': 852, 'dna': 381, 'collect-behaviour': 275, 'steamed-pudding': 1226, 'substitutions': 1246, 'chicken-stock': 225, 'injury': 664, 'squid': 1217, 'lungs': 742, 'cardiology': 181, 'infusion': 661, 'food-transport': 499, 'glass': 553, 'antibiotics': 38, 'pectin': 936, 'flan': 474, 'rice-wine': 1082, 'pot-roast': 995, 'presentation': 1001, 'malt': 751, 'bay-leaf': 85, 'german-cuisine': 548, 'crackers': 312, 'addits': 6, 'root': 1096, 'biomedical-engineering': 112, 'vodka': 1362, 'sous-vide': 1196, 'joints': 683, 'honey': 623, 'kefir': 690, 'dna-sequencing': 388, 'blood-transfusion': 129, 'rice-cooker': 1081, 'dendrology': 364, 'recipe-scaling': 1050, 'species': 1202, 'hamburgers': 590, 'aging': 9, 'drying': 400, 'nuts': 872, 'fondant': 490, 'confit': 287, 'finnish-cuisine': 469, 'fudge': 522, 'goat': 560, 'middle-eastern-cuisine': 806, 'sandwich': 1112, 'natural-selection': 850, 'variant': 1337, 'biophysics': 114, 'polymerase': 980, 'bioinformatics': 106, 'human-evolution': 634, 'salsa': 1110, 'codon-usage': 271, 'cytogenetics': 345, 'enzymes': 436, 'recombination': 1052, 'complexity': 283, 'sterilisation': 1229, 'ribosome': 1078, 'wine': 1375, 'cream-cheese': 317, 'botany': 136, 'taxonomy': 1270, 'measuring-scales': 773, 'mousse': 829, 'dough': 394, 'oven': 902, 'staining': 1218, 'computational-model': 284, 'brie': 147, 'extra-cellular-matrix': 456, 'mass-cooking': 765, 'ncbi': 851, 'sodium': 1187, 'pcr': 931, 'soaking': 1183, 'plantation': 970, 'almonds': 23, 'peanuts': 935, 'heart-failure': 597, 'eukaryotic-cells': 443, 'coffee': 272, 'food-safety': 497, 'ghee': 550, 'chromatography': 245, 'food': 492, 'alkalinity': 15, 'entomology': 433, 'wasabi': 1364, 'uht': 1327, 'mass-spec': 766, 'munity': 837, 'silver': 1167, 'bread': 142, 'meat': 774, 'micry': 805, 'potatoes': 996, 'knife-safety': 699, 'dna-methylation': 385, 'stem-cells': 1228, 'filling': 467, 'allergies': 18, 'tomatoes': 1301, 'roast': 1089, 'fitness': 472, 'cutting-boards': 343, 'biscuits': 119, 'exons': 451, 'pathogenesis': 927, 'thermodynamics': 1288, 'energy': 431, 'salad-dressing': 1105, 'olfaction': 880, 'waffle': 1363, 'blind-baking': 123, 'sweet-potatoes': 1252, 'neurology': 857, 'lab-techniques': 708, 'measurement': 771, 'aids': 11, 'sequence-assembly': 1144, 'mexican-cuisine': 796, 'network': 853, 'frying-pan': 520, 'granola': 566, 'safety': 1102, 'sequence-analysis': 1143, 'medicine': 778, 'russian-cuisine': 1100, 'nucleic-acids': 868, 'gustation': 581, 'transcription-factor': 1309, 'perception': 942, 'plasma-membrane': 971, 'cornstarch': 308, 'grapes': 567, 'evaporated-milk': 444, 'fret': 510, 'small-rnaseq': 1174, 'tenderizing': 1278, 'optics': 889, 'alcohol': 12, 'auxology': 64, 'antibiotic-resistance': 37, 'soda': 1186, 'munoglobin': 838, 'chronic': 247, 'sexual-reproduction': 1154, 'stand-mixer': 1220, 'charcuterie': 212, 'conservation-biology': 289, 'tilapia': 1293, 'fruit-leather': 517, 'grade': 563, 'proteomics': 1020, 'maillard': 748, 'pestle': 945, 'doughnuts': 395, 'hearing': 596, 'lettuce': 725, 'tzatziki': 1326, 'tamarind': 1265, 'temperature': 1276, 'spinach': 1209, 'brisket': 149, 'evolutionary-game-theory': 448, 'whipped-cream': 1372, 'analgesia': 32, 'pigmentation': 962, 'peer-review-journal': 940, 'dogs': 390, 'glucose': 556, 'muscles': 841, 'pest-control': 944, 'palaeontology': 909, 'sensation': 1137, 'serotonin': 1146, 'low-carb': 739, 'translation': 1314, 'thawing': 1286, 'syrup': 1259, 'electrocardiography': 422, 'haddock': 585, 'gel-electrophoresis': 531, 'seasoning-pans': 1132, 'evo-devo': 446, 'lab-reagents': 707, 'brining': 148, 'flambe': 473, 'forensics': 501, 'electroencephalography': 423, 'endocrinology': 429, 'cranial-nerves': 314, 'lentivirus': 723, 'ginger': 551, 'raw': 1047, 'information-theory': 660, 'pharmacokinetics': 949, 'coot': 301, 'mint': 813, 'sauce': 1116, 'tortilla-chips': 1303, 'nut-butters': 869, 'storage-method': 1238, 'hydration': 642, 'egg-whites': 416, 'rodents': 1092, 'hollandaise': 616, 'community-ecology': 280, 'puff-pastry': 1029, 'hot-dog': 628, 'memory': 789, 'gravy': 569, 'hibiscus-tea': 604, 'eggs': 418, 'salmon': 1108, 'tortilla-press': 1304, 'anatomy': 33, 'passover': 922, 'virus': 1355, 'shallots': 1157, 'altruism': 24, 'philosophy-of-science': 952, 'refrigerator': 1057, 'blood-pressure': 127, 'chemistry': 218, 'dairy-free': 349, 'leavening': 716, 'introns': 669, 'visual-system': 1357, 'pineapple': 963, 'greek-cuisine': 570, 'molluscs': 824, 'cell-division': 201, 'braising': 141, 'scatology': 1122, 'caffeine': 165, 'host-pathogen-interaction': 626, 'stainless-steel': 1219, 'mathematical-models': 769, 'thickness': 1292, 'emulsion': 428, 'blender': 122, 'indicator': 653, 'circadian-rhythms': 253, 'shellfish': 1159, 'genetic-code': 542, 'sugar': 1247, 'celery': 194, 'lepidoptera': 724, 'polenta': 978, 'chickpeas': 228, 'rice': 1080, 'chicken-wings': 226, 'human-ear': 633, 'hiv': 614, 'hematology': 600, 'trees': 1317, 'watermelon': 1368, 'tuberculosis': 1319, 'frying': 519, 'dose': 393, 'chutney': 249, 'oogenesis': 885, 'greens': 572, 'wasps': 1365, 'virology': 1354, 'griddle': 573, 'microscopy': 803, 'low-fat': 740, 'caramel': 175, 'paella': 906, 'experental-design': 454, 'steak': 1225, 'chip-seq': 235, 'italian-cuisine': 674, 'dutch-oven': 405, 'biological-control': 108, 'vertebrates': 1348, 'lemonade': 721, 'spicy-hot': 1208, 'sex': 1149, 'differentiation': 373, 'cloning': 261, 'carbonation': 180, 'quiche': 1037, 'noodles': 866, 'ichthyology': 649, 'vitamins': 1360, 'tamales': 1264, 'feline': 464, 'munology': 839, 'baby-food': 66, 'melting-sugar': 786, 'pets': 946, 'yogurt': 1380, 'indonesian-cuisine': 654, 'hot-chocolate': 627, 'antipredator-adaptation': 42, 'cast-iron': 188, 'japanese-cuisine': 677, 'raw-meat': 1048, 'allelopathy': 17, 'kitchen': 695, 'behaviour': 92, 'cubes': 332, 'bone-biology': 133, 'restaurant': 1070, 'human-genetics': 636, 'extracts': 457, 'jelly': 678, 'coa': 264, 'hummus': 639, 'stews': 1230, 'cod': 269, 'eggplant': 417, 'pita': 964, 'pate': 926, 'food-history': 493, 'pdb': 932, 'invas-species': 670, 'cakes': 168, 'intracellular-transport': 668, 'codon': 270, 'blood-brain-barrier': 124, 'community': 279, 'molecular-genetics': 823, 'hygiene': 643, 'adaptation': 4, 'bulk-cooking': 158, 'crispr': 322, 'pregnancy': 999, 'souffle': 1191, 'brussels-sprouts': 155, 'openaccess': 886, 'publishing': 1027, 'beef': 88, 'dosage-compensation': 392, 'chirality': 237, 'parsley': 920, 'physiology': 959, 'ting': 1294, 'buttermilk': 162, 'beer': 89, 'maintenance': 749, 'pizza-stone': 966, 'basil': 82, 'ph': 947, 'containers': 291, 'focaccia': 488, 'life': 726, 'flight': 480, 'storage-lifete': 1237, 'mushroom': 842, 'fire': 470, 'peanut-butter': 934, 'gas': 528, 'catering': 189, 'epigenetics': 438, 'cell-signaling': 203, 'chili': 230, 'human-eye': 635, 'respiration': 1069, 'macroevolution': 747, 'bile': 97, 'grains': 565, 'juice': 684, 'frozen': 514, 'hallucinogens': 588, 'calcium': 169, 'sexuality': 1156, 'homework': 618, 'behavior': 91, 'seeds': 1133, 'balance': 75, 'chilling': 232, 'dumplings': 403, 'broth': 152, 'sushi': 1251, 'neuromodulation': 858, 'tissue': 1295, 'signal-processing': 1165, 'pathology': 928, 'mouse': 828, 'concentration': 285, 'chestnuts': 221, 'chloroplasts': 238, 'rna-interference': 1087, 'crocus-sativus': 325, 'ethnobiology': 441, 'toaster': 1297, 'sunchokes': 1249, 'parasitism': 916, 'vegetable': 1340, 'maple-syrup': 754, 'insulin': 666, 'development': 366, 'plating': 974, 'australian-cuisine': 59, 'pulmonology': 1030, 'reproduct-biology': 1062, 'gene-synthesis': 539, 'pomegranate': 982, 'buckwheat': 156, 'garlic': 527, 'cleaning': 259, 'chembl': 216, 'tuna': 1322, 'cycle': 344, 'butter': 161, 'gene': 535, 'romanian-cuisine': 1095, 'database': 352, 'ventricles': 1347, 'chickens': 227, 'pymol': 1035, 'cajun-cuisine': 166, 'cell-biology': 198, 'consistency': 290, 'organization': 896, 'marsupials': 761, 'kns': 701, 'seasonal': 1130, 'protocol': 1021, 'kale': 686, 'biostatistics': 116, 'allium': 20, 'caribbean-cuisine': 182, 'psychophysics': 1025, 'human': 630, 'dopamine': 391, 'ol-oil': 879, 'margarine': 755, 'proofing': 1010, 'visualization': 1358, 'butchering': 160, 'human-anatomy': 631, 'literature-search': 735, 'thickening': 1291, 'cherries': 220, 'cranberries': 313, 'action-potential': 3, 'allele': 16, 'reference-request': 1055, 'transformation': 1312, 'hybridization': 641, 'morphometry': 826, 'minipreps': 812, 'lcr': 713, 'microrna': 802, 'restriction-enzymes': 1072, 'rna': 1086, 'thermometer': 1289, 'blanching': 120, 'melting-chocolate': 785, 'lymphoma': 745, 'burnt': 159, 'melting': 784, 'human-genome': 637, 'hominy': 619, 'pharmacodynamics': 948, 'retrovirus': 1073, 'corned-beef': 306, 'meringue': 792, 'eeg': 413, 'zucchini': 1384, 'terminology': 1280, 'book-recommendation': 135, 'taffy': 1262, 'methods': 795, 'sorbet': 1190, 'autophagy': 62, 'histology': 608, 'cooking-safety': 298, 'extinction': 455, 'okra': 877, 'measurements': 772, 'microwave': 804, 'global-warming': 555, 'porridge': 992, 'life-history': 727, 'peel': 938, 'cedar-plank': 193, 'menu-planning': 791, 'corn': 305, 'pasteurization': 924, 'jicama': 682, 'carob': 183, 'cut-of-meat': 341, 'dna-isolation': 384, 'species-distribution': 1203, 'foil-cooking': 489, 'ribs': 1079, 'cell-based': 197, 'cherism': 219, 'beans': 86, 'gingerbread': 552, 'kombucha': 703, 'canning': 174, 'curry': 339, 'basting': 83, 'flatbread': 475, 'digestion': 375, 'ecophysiology': 411, 'bioenergetics': 102, 'tofu': 1300, 'bioinorganic-chemistry': 107, 'juicing': 685, 'ecology': 410, 'sticky-rice': 1231, 'soy': 1197, 'molecular-gastronomy': 822, 'leeks': 717, 'experental': 453, 'chili-peppers': 231, 'poaching': 976, 'french-cuisine': 506, 'vaccination': 1334, 'caramelization': 176, 'parsnip': 921, 'cell-membrane': 202, 'avocados': 65, 'metabolism': 793, 'medium': 779, 'crab': 311, 'honeycomb': 624, 'ligation': 729, 'skewers': 1169, 'sexual-selection': 1155, 'copper-cookware': 302, 'paneer': 913, 'marinara': 757, 'heat': 599, 'melanin': 781, 'yolk': 1381, 'fluorescent-microscopy': 486, 'uv': 1333, 'sifting': 1164, 'lifespan': 728, 'paprika': 915, 'whiskey': 1374, 'phosphate': 953, 'carbon-steel': 178, 'aspirin': 56, 'research-tools': 1067, 'food-science': 498, 'artificial-selection': 52, 'acidity': 2, 'shortcuts': 1161, 'chai': 210, 'crumble': 329, 'muffins': 835, 'cytoskeleton': 347, 'mold': 819, 'kidney': 693, 'traditional': 1307, 'fat-metabolism': 461, 'lemon': 719, 'protein-interaction': 1017, 'saffron': 1103, 'venison': 1346, 'artificial-life': 51, 'protein-expression': 1015, 'excreta': 449, 'mayonnaise': 770, 'smell': 1175, 'pot-pie': 994, 'baker-percentage': 71, 'truffles': 1318, 'reverse-genetics': 1074, 'mustard': 845, 'diet': 370, 'aluminum-cookware': 25, 'quinoa': 1039, 'rolling': 1093, 'neuroscience': 861, 'reflexes': 1056, 'creme-brulee': 319, 'diy-biology': 380, 'kinetics': 694, 'seitan': 1134, 'biomedical-technology': 113, 'fst': 521, 'teeth': 1273, 'polish-cuisine': 979, 'fresh': 509, 'gamete': 523, 'kettle': 692, 'lymphatic': 744, 'kchi': 688, 'creme-fraiche': 320, 'selection': 1135, 'synapses': 1256, 'population-genetics': 987, 'skin': 1171, 'morphology': 825, 'barbecue': 78, 'guava': 579, 'milk': 808, 'operons': 887, 'homocysteine': 620, 'disposal': 377, 'food-preservation': 495, 'environment': 434, 'casserole': 187, 'melon': 783, 'resources': 1068, 'breathing': 146, 'icing': 650, 'jerk': 679, 'yeast': 1379, 'dessert': 365, 'vegan': 1339, 'mass-spectrometry': 767, 'mixing': 817, 'decorating': 356, 'blast': 121, 'minerals': 810, 'sponge-cake': 1213, 'asparagus': 55, 'kneading': 698, 'standards': 1221, 'red-blood-cell': 1053, 'heart-output': 598, 'science': 1123, 'dip': 376, 'batter': 84, 'pork': 988, 'seasoning': 1131, 'antigen': 40, 'ham': 589, 'literature': 734, 'cost': 309, 'chopping': 242, 'marinade': 756, 'wheat': 1371, 'culinary-uses': 334, 'spaghetti': 1199, 'elisa': 426, 'gnocchi': 559, 'drinks': 397, 'cupcakes': 337, 'tartare': 1267, 'sauerkraut': 1117, 'rum': 1099, 'espresso': 440, 'cell': 196, 'hand-blender': 591, 'horizontal-gene-transfer': 625, 'sex-ratio': 1152, 'twins': 1325, 'american-cuisine': 27, 'carbonara': 179, 'isoforms': 673, 'exercise': 450, 'mussels': 844, 'kangaroo': 687, 'gluten-free': 558, 'water': 1367, 'raspberries': 1044, 'healing': 594, 'congestion': 288, 'vegetarianism': 1343, 'frosting': 513, 'ccp4': 191, 'deep-frying': 358, 'vinegar': 1353, 'cell-sorting': 204, 'dna-repair': 386, 'odour': 874, 'psychoneuropharmacology': 1024, 'sharpening': 1158, 'sauteing': 1119, 'cinnamon': 252, 'breadcrumbs': 144, 'popcorn': 984, 'locomotion': 738, 'history': 613, 'apple': 44, 'kebab': 689, 'scales': 1120, 'liqueur': 733, 'regeneration': 1058, 'sirs': 1168, 'duck': 401, 'bacterial-toxins': 68, 'glucose-syrup': 557, 'synthetic-biology': 1258, 'snacks': 1179, 'korean-cuisine': 704, 'electrical-stulation': 421, 'cultured-food': 336, 'electric-stoves': 420, 'msg': 834, 'biga': 96, 'amino-acids': 28, 'prer': 1000, 'charcoal': 211, 'iris': 672, 'neurophysiology': 859, 'ecoli': 409, 'infection': 656, 'chocolate': 239, 'cookware': 300, 'ceviche': 209, 'rabbit': 1041, 'baking-powder': 73, 'dicing': 369, 'starter': 1223, 'spoilage': 1212, 'biofilms': 104, 'salad': 1104, 'sex-chromosome': 1150, 'golgi-body': 561, 'soup': 1192, 'structural-biology': 1243, 'pumpkin': 1032, 'organic-chemistry': 895, 'chip': 234, 'human-biology': 632, 'bones': 134, 'toasting': 1298, 'chia': 222, 'clothing': 262, 'mune-system': 836, 'lamb': 709, 'territoriality': 1281, 'flavour-pairings': 478, 'outdoor-cooking': 901, 'inheritance': 663, 'onions': 882, 'membrane-transport': 788, 'starch': 1222, 'kitchen-safety': 696, 'durian': 404, 'brown-sugar': 153, 'hypersensitivity': 645, 'cell-culture': 199, 'feta': 466, 'pathway': 930, 'stock': 1233, 'kohlrabi': 702, 'information': 659, 'apple-pie': 45, 'peeling': 939, 'plant-physiology': 969, 'gelatin': 532, 'produce': 1006, 'snp': 1182, 'cabbage': 163, 'curing': 338, 'histone-modifications': 611, 'stress': 1242, 'crepe': 321, 'snail': 1180, 'light': 730, 'rhubarb': 1077, 'celiac-disease': 195, 'purification': 1034, 'mango': 753, 'african': 7, 'tahini': 1263, 'addiction': 5, 'fatty-acid-synthase': 463, 'rye': 1101, 'blood-sugar': 128, 'thai-cuisine': 1284, 'gynecology': 583, 'menstrual-cycle': 790, 'genomes': 546, 'brain': 139, 'pulses': 1031, 'gender': 534, 'astrobiology': 58, 'molecular-evolution': 821, 'sds-page': 1127, 'linguistics': 731, 'le': 714, 'neuroanatomy': 855, 'marshmallow': 760, 'decay': 354, 'smoothie': 1178, 'bagels': 70, 'reverse-transcription': 1075, 'creme-anglaise': 318, 'botulism': 137, 'lr': 741, 'biology-misconceptions': 110, 'forest': 502, 'chromatin': 244, 'gelling-agents': 533, 'citrus': 255, 'flour': 481, 'oranges': 890, 'cutting': 342, 'snake': 1181, 'biodrsity': 101, 'chinese-cuisine': 233, 'pop-rocks': 983, 'grinding': 575, 'coriander': 304, 'cocoa': 267, 'microbiome': 801, 'risotto': 1085, 'cognition': 273, 'proteins': 1019, 'mitosis': 816, 'frittata': 512, 'veins': 1345, 'receptor': 1049, 'pizza': 965, 'protein-structure': 1018, 'shrp': 1163, 'pantry': 914, 'goose': 562, 'allometry': 21, 'growth-media': 578, 'flax': 479, 'separating': 1140, 'neural-engineering': 854, 'agriculture': 10, 'protein-binding': 1012, 'plasmids': 972, 'rolls': 1094, 'biological-networks': 109, 'mate': 768, 'half-and-half': 587, 'spherification': 1206, 'custard': 340, 'induction': 655, 'sensory-systems': 1139, 'invertebrates': 671, 'cold-brew': 274, 'tumeric': 1320, 'molecular-biology': 820, 'statistics': 1224, 'elderberries': 419, 'orf': 892, 'systems-biology': 1260, 'carbohydrates': 177, 'crockpot': 324, 'organic': 894, 'language': 711, 'mortar': 827, 'tasting': 1269, 'calories': 170, 'ethology': 442, 'pudding': 1028, 'flavor-base': 477, 'cheese': 213, 'neurodegerat-disorders': 856, 'meiosis': 780, 'indian-cuisine': 652, 'electromuscular': 424, 'straining': 1240, 'mycoplasma': 849, 'quorum-sensing': 1040, 'ice-cream': 647, 'marrow': 759, 'publication': 1026, 'data': 351, 'sex-determination': 1151, 'convenience-foods': 293, 'renal-physiology': 1060, 'garbage-disposal': 526, 'moisture': 818, 'intelligence': 667, 'neurotransmitter': 862, 'embryology': 427, 'neuroplasticity': 860, 'jewish-cuisine': 681, 'nutrition': 871, 'eyes': 459, 'stomach': 1234, 'instinct': 665, 'chemical-communication': 217, 'legumes': 718, 'photoperiod': 956, 'thai': 1283, 'flowers': 485, 'hyperplasia': 644, 'oats': 873, 'cooking-myth': 297, 'ganache': 525, 'crumb-crust': 328, 'apples': 46, 'reproduction': 1063, 'photosynthesis': 957, 'fermentation': 465, 'migration': 807, 'coconut': 268, 'sweeteners': 1253, 'free-range': 504, 'carrots': 185, 'crossover': 326, 'ant': 35, 'pastry': 925, 'sugar-free': 1248, 'sar': 1113, 'breakfast': 145, 'alcohol-content': 13, 'conversion': 294, 'sprinkles': 1214, 'roux': 1097, 'cellular-respiration': 205, 'gene-annotation': 536, 'transcription': 1308, 'equipment': 439, 'soymilk': 1198, 'research-process': 1066, 'vegetation': 1344, 'teflon': 1274, 'differences': 372, 'pain': 907, 'pretzels': 1004, 'cheesecake': 215, 'pickling': 960, 'turkish-cuisine': 1324, 'telomere': 1275, 'boiling': 132, 'definitions': 359, 'structure-prediction': 1244, 'barbecue-sauce': 79, 'plasticity': 973, 'beets': 90, 'food-processing': 496, 'seafood': 1128, 'thanksgiving': 1285, 'whipper': 1373, 'high-throughput': 606, 'mri': 832, 'professional': 1007, 'human-physiology': 638, 'salt': 1111, 'phenology': 951, 'quantitat-genetics': 1036, 'anal-models': 31, 'tcga': 1271, 'meatballs': 775, 'stove': 1239, 'grilling': 574, 'spanish-cuisine': 1200, 'peaches': 933, 'swiss-roll': 1254, 'serving': 1147, 'almond-milk': 22, 'clinical-trial': 260, 'dna-damage': 382, 'chicken': 223, 'organelle': 893, 'homology': 621, 'chocolate-truffles': 240, 'coloring': 277, 'ratio': 1045, 'dry-aging': 399, 'spliceosome': 1210, 'polyploidy': 981, 'clotted-cream': 263, 'texture': 1282, 'wood': 1377, 'lipids': 732, 'plums': 975, 'toffee': 1299, 'genetic-diagrams': 543, 'wok': 1376, 'pharmacology': 950, 'histone': 609, 'sprouting': 1215, 'food-web': 500, 'photography': 955, 'membrane': 787, 'freezing': 505, 'pathophysiology': 929, 'dehydrating': 361, 'recombinant': 1051, 'chips': 236, 'defrosting': 360, 'evolution': 447, 'pseudogenes': 1022, 'vital-wheat-gluten': 1359, 'saliva': 1107, 'histone-deacetylase': 610, 'bread-pudding': 143, 'abiogenesis': 1, 'gammon': 524, 'tortilla': 1302, 'vision': 1356, 'biogeography': 105, 'transdermal': 1310, 'milling': 809, 'smoke-flavor': 1176, 'cocktails': 266, 'autoreceptor': 63, 'surgery': 1250, 'tumor': 1321, 'centrifugation': 207, 'mutton': 847, 'pedigree': 937, 'camping': 171, 'baking-soda': 74, 'pork-chops': 990, 'crawfish': 315, 'review': 1076, 'glaze': 554, 'kiwifruit': 697, 'speciation': 1201, 'crudo': 327, 'identification': 651, 'hungarian-cuisine': 640, 'ebola': 407, 'carpaccio': 184, 'english-cuisine': 432, 'cauliflower': 190, 'underwater': 1329, 'beverages': 95, 'biosynthesis': 117, 'efficiency': 414, 'sociobiology': 1185, 'event-related-potential': 445, 'binding-sites': 98, 'research-design': 1065, 'western-blot': 1370, 'deep-dish-pizza': 357, 'cornflake': 307, 'nomenclature': 863, 'kosher': 705, 'transplantation': 1315, 'chorizo': 243, 'copy-number-variation': 303, 'filtering': 468, 'cancer': 172, 'color': 276, 'thermophilia': 1290, 'pot': 993, 'packaging': 905, 'homosexuality': 622, 'learning': 715, 'sexual-dorphism': 1153, 'flowering': 484, 'turkey': 1323, 'chronobiology': 248, 'artichokes': 50, 'shortening': 1162, 'spices': 1207, 'jerky': 680, 'cas9': 186, 'ravioli': 1046, 'senses': 1138, 'clate-change': 258, 'french-fries': 507, 'transfusion': 1313, 'serving-suggestion': 1148, 'squash': 1216, 'pie': 961, 'sausages': 1118, 'roasting': 1091, 'bell-peppers': 93, 'smoking': 1177, 'cladistics': 256, 'veterinary-medicine': 1351, 'protein-evolution': 1014, 'gene-expression': 537, 'vanilla': 1336, 'forward-genetics': 503, 'vietnamese-cuisine': 1352, 'ingredient-selection': 662, 'untagged': 1331, 'cryonics': 331, 'stuffing': 1245, 'ripe': 1083, 'ornithology': 898, 'soil': 1189, 'experent': 452, 'lemon-juice': 720, 'ontogeny': 883, 'minestrone': 811, 'assay-development': 57, 'convection': 292, 'budget-cooking': 157, 'icgc': 648, 'developmental-biology': 367, 'radiation': 1042, 'macarons': 746, 'microarray': 799, 'dissociation-constant': 379, 'chromosome': 246, 'units': 1330, 'stoneware': 1235, 'cream': 316, 'asian-cuisine': 54, 'pan': 910, 'sourdough-starter': 1195, 'teratology': 1279, 'oil': 876, 'vestigial': 1350, 'marine-biology': 758, 'foam': 487, 'fruit': 516, 'toxicology': 1306, 'yorkshire-puddings': 1382, 'scientific-literature': 1124, 'broccoli': 150, 'non-stick': 864, 'poultry': 997, 'omelette': 881, 'arachnology': 48, 'organs': 897, 'histamine': 607, 'veal': 1338, 'puree': 1033, 'alfredo': 14, 'comparisons': 281, 'pressure-cooker': 1003, 'gwas': 582, 'bananas': 77, 'food-identification': 494, 'mycology': 848, '3d-structure': 0, 'dehydration': 362, 'cell-cycle': 200, 'herpetology': 603, 'touch': 1305, 'flavor': 476, 'parchment': 918, 'homeostasis': 617, 'aluminum-foil': 26, 'cilantro': 250, 'death': 353, 'blood-group': 126, 'gastroenterology': 529, 'phylogenetics': 958, 'ketchup': 691, 'anal-husbandry': 30, 'treatment': 1316, 'grating': 568, 'sociality': 1184, 'noncoding-rna': 865, 'restaurant-micry': 1071, 'mutations': 846, 'fats': 462, 'speculat': 1205, 'dynorphin': 406, 'vacuum': 1335, 'fryer': 518, 'crock': 323, 'histopathology': 612, 'rrna': 1098, 'prokaryotic-cells': 1009, 'gene-regulation': 538, 'propane-grill': 1011, 'mhc': 797, 'candy': 173, 'oxtail': 904, 'nose': 867, 'demography': 363, 'bacteriology': 69, 'hot-sauce': 629, 'tart': 1266, 'sourdough': 1194, 'opioid': 888, 'oregano': 891, 'habitat': 584, 'drosophila': 398, 'asexual-reproduction': 53, 'hair': 586, 'vessel': 1349, 'growth': 577, 'lobster': 737, 'meatloaf': 776, 'protein-folding': 1016, 'lentils': 722, 'genetics': 545, 'jalapeno': 675, 'benzodiazepine': 94, 'steaming': 1227, 'fondue': 491, 'searing': 1129, 'age-processing': 8, 'hepatitis': 601, 'parasitology': 917, 'decomposition': 355, 'inflammation': 657, 'metabolomics': 794, 'sepsis': 1141, 'dna-replication': 387, 'pepper': 941, 'population-dynamics': 986, 'biofeedback': 103, 'mrna': 833, 'ovulation': 903, 'dissection': 378, 'scrambled-eggs': 1126, 'epidemiology': 437, 'pasta': 923, 'germination': 549, 'ontology': 884, 'tempering': 1277, 'jam': 676, 'ol': 878, 'scottish-cuisine': 1125, 'stir-fry': 1232, 'bio-mechanics': 99, 'diabetes-mellitus': 368, 'hypothalamus': 646, 'aquaculture': 47, 'osmoregulation': 899, 'antibody': 39, 'software': 1188, 'reptile': 1064, 'enzyme-kinetics': 435, 'communication': 278, 'mushrooms': 843, 'ultrasound': 1328, 'rising': 1084, 'dreaming': 396, 'zoology': 1383, 'skillet': 1170, 'xray-crystallography': 1378, 'hard-boiled-eggs': 592, 'brownies': 154, 'vegetables': 1341, 'pairing': 908, 'reduction': 1054, 'symbiosis': 1255, 'gazpacho': 530, 'fish': 471, 'theoretical-biology': 1287, 'graham-crackers': 564, 'sour-cream': 1193, 'mammals': 752, 'strawberries': 1241, 'lymph': 743, 'mice': 798, 'gene-therapy': 540, 'flour-tortilla': 482, 'ecosystem': 412, 'rna-sequencing': 1088, 'frozen-yogurt': 515, 'condents': 286, 'bouillon': 138, 'cake': 167, 'salami': 1106, 'gumbo': 580, 'taste': 1268, 'ground-beef': 576, 'blood-circulation': 125, 'brain-stem': 140, 'cooking-te': 299, 'utensils': 1332, 'synestesia': 1257, 'dnapolymerase': 389, 'shopping': 1160, 'melatonin': 782, 'mash': 764, 'serbian-cuisine': 1145, 'bechamel': 87, 'egg-noodles': 415, 'biochemistry': 100, 'cultural-difference': 335, 'autonomic-nervous-system': 61, 'storage': 1236, 'lnology': 736, 'balkan-cuisine': 76, 'dna-helix': 383, 'fried-eggs': 511, 'hla': 615, 'munosuppression': 840, 'transfection': 1311, 'vocabulary': 1361, 'french-press': 508, 'dashi': 350, 'herbs': 602, 'plant-anatomy': 967, 'nutrient-composition': 870, 'osmosis': 900, 'quickbread': 1038, 'psychology': 1023, 't7-promoter': 1261, 'species-identification': 1204, 'masa': 762, 'anaerobic-respiration': 29, 'population-biology': 985, 'mitochondria': 815, 'websites': 1369, 'cpg': 310, 'central-nervous-system': 206, 'biotechnology': 118, 'signalling': 1166, 'cookbook': 295}\n"
     ]
    }
   ],
   "source": [
    "print vectorizer.vocabulary_"
   ]
  },
  {
   "cell_type": "code",
   "execution_count": 14,
   "metadata": {
    "collapsed": false
   },
   "outputs": [
    {
     "data": {
      "text/plain": [
       "array(['cooking-te', 'food-safety', 'beef'], \n",
       "      dtype='|S25')"
      ]
     },
     "execution_count": 14,
     "metadata": {},
     "output_type": "execute_result"
    }
   ],
   "source": [
    "Z = vectorizer.inverse_transform(Y)\n",
    "Z[6]"
   ]
  },
  {
   "cell_type": "code",
   "execution_count": 15,
   "metadata": {
    "collapsed": false
   },
   "outputs": [
    {
     "name": "stderr",
     "output_type": "stream",
     "text": [
      "Using TensorFlow backend.\n"
     ]
    }
   ],
   "source": [
    "import tensorflow as tf\n",
    "\n",
    "from keras.models import Sequential\n",
    "from keras.layers import Input, Dropout, Flatten, Convolution2D, MaxPooling2D, Dense, Activation\n",
    "from keras.optimizers import RMSprop\n",
    "from keras.callbacks import ModelCheckpoint, Callback, EarlyStopping\n",
    "from keras.utils import np_utils"
   ]
  },
  {
   "cell_type": "code",
   "execution_count": 16,
   "metadata": {
    "collapsed": false
   },
   "outputs": [
    {
     "name": "stdout",
     "output_type": "stream",
     "text": [
      "(28600, 60045)\n",
      "(28600, 1385)\n"
     ]
    }
   ],
   "source": [
    "print np.shape(X)\n",
    "\n",
    "print np.shape(Y)"
   ]
  },
  {
   "cell_type": "code",
   "execution_count": 17,
   "metadata": {
    "collapsed": false
   },
   "outputs": [],
   "source": [
    "optimizer = RMSprop(lr=1e-4)\n",
    "objective = 'binary_crossentropy'\n",
    "\n",
    "model = Sequential()\n",
    "\n",
    "#model.add(Convolution2D(32, 3, 3, border_mode='same', input_shape=[WIDTH, HEIGHT, 3], activation='relu'))\n",
    "#model.add(Flatten())\n",
    "model.add(Dense(512, input_shape=[60045,], activation='relu'))\n",
    "model.add(Dropout(0.5))\n",
    "\n",
    "model.add(Dense(256, activation='relu'))\n",
    "model.add(Dropout(0.6))\n",
    "\n",
    "model.add(Dense(128, activation='relu'))\n",
    "model.add(Dropout(0.5))\n",
    "\n",
    "model.add(Dense(1385))\n",
    "model.add(Activation('sigmoid'))\n",
    "\n",
    "model.compile(loss=objective, optimizer=optimizer, metrics=['accuracy'])"
   ]
  },
  {
   "cell_type": "code",
   "execution_count": 18,
   "metadata": {
    "collapsed": true
   },
   "outputs": [],
   "source": [
    "nb_epoch = 5\n",
    "batch_size = 150\n",
    "\n",
    "## Callback for loss logging per epoch\n",
    "class LossHistory(Callback):\n",
    "    def on_train_begin(self, logs={}):\n",
    "        self.losses = []\n",
    "        self.val_losses = []\n",
    "        \n",
    "    def on_epoch_end(self, batch, logs={}):\n",
    "        self.losses.append(logs.get('loss'))\n",
    "        self.val_losses.append(logs.get('val_loss'))\n",
    "\n",
    "early_stopping = EarlyStopping(monitor='val_loss', patience=3, verbose=1, mode='auto') "
   ]
  },
  {
   "cell_type": "code",
   "execution_count": 19,
   "metadata": {
    "collapsed": false
   },
   "outputs": [],
   "source": [
    "history = LossHistory()\n",
    "\n",
    "\n",
    "#train_x = np.array(train_x).astype(float)\n",
    "\n",
    "\n",
    "\n",
    "\n",
    "#train_y = np.array(train_y).astype(float)\n",
    "\n",
    "\n",
    "#test_x = [test[i] for i in range(len(test))]\n",
    "#test_x = np.array(test_x).astype(float)"
   ]
  },
  {
   "cell_type": "code",
   "execution_count": 20,
   "metadata": {
    "collapsed": true
   },
   "outputs": [],
   "source": [
    "train_X = X.toarray()\n",
    "train_Y = Y.toarray()"
   ]
  },
  {
   "cell_type": "code",
   "execution_count": 21,
   "metadata": {
    "collapsed": false
   },
   "outputs": [],
   "source": [
    "#train_x = [X[i,:] for i in tqdm(range(28600))]\n",
    "#train_y = [Y[i,:] for i in tqdm(range(28600))]"
   ]
  },
  {
   "cell_type": "code",
   "execution_count": 22,
   "metadata": {
    "collapsed": false
   },
   "outputs": [
    {
     "data": {
      "text/plain": [
       "array([[ 0.,  0.,  0., ...,  0.,  0.,  0.],\n",
       "       [ 0.,  0.,  0., ...,  0.,  0.,  0.],\n",
       "       [ 0.,  0.,  0., ...,  0.,  0.,  0.],\n",
       "       ..., \n",
       "       [ 0.,  0.,  0., ...,  0.,  0.,  0.],\n",
       "       [ 0.,  0.,  0., ...,  0.,  0.,  0.],\n",
       "       [ 0.,  0.,  0., ...,  0.,  0.,  0.]], dtype=float32)"
      ]
     },
     "execution_count": 22,
     "metadata": {},
     "output_type": "execute_result"
    }
   ],
   "source": [
    "train_X"
   ]
  },
  {
   "cell_type": "code",
   "execution_count": 23,
   "metadata": {
    "collapsed": false
   },
   "outputs": [
    {
     "name": "stdout",
     "output_type": "stream",
     "text": [
      "Train on 22880 samples, validate on 5720 samples\n",
      "Epoch 1/5\n",
      "22880/22880 [==============================] - 29s - loss: 0.1096 - acc: 0.9835 - val_loss: 0.0139 - val_acc: 0.9981\n",
      "Epoch 2/5\n",
      "22880/22880 [==============================] - 28s - loss: 0.0114 - acc: 0.9983 - val_loss: 0.0129 - val_acc: 0.9981\n",
      "Epoch 3/5\n",
      "22880/22880 [==============================] - 28s - loss: 0.0111 - acc: 0.9983 - val_loss: 0.0128 - val_acc: 0.9981\n",
      "Epoch 4/5\n",
      "22880/22880 [==============================] - 28s - loss: 0.0109 - acc: 0.9983 - val_loss: 0.0127 - val_acc: 0.9981\n",
      "Epoch 5/5\n",
      "22880/22880 [==============================] - 28s - loss: 0.0108 - acc: 0.9983 - val_loss: 0.0125 - val_acc: 0.9981\n"
     ]
    },
    {
     "data": {
      "text/plain": [
       "<keras.callbacks.History at 0x7f330919ea90>"
      ]
     },
     "execution_count": 23,
     "metadata": {},
     "output_type": "execute_result"
    }
   ],
   "source": [
    "model.fit(train_X, train_Y, batch_size=batch_size, nb_epoch=nb_epoch,\n",
    "              validation_split=0.20, verbose=1, shuffle=True, callbacks=[history, early_stopping])"
   ]
  },
  {
   "cell_type": "code",
   "execution_count": 47,
   "metadata": {
    "collapsed": false
   },
   "outputs": [],
   "source": [
    "# now predict training features\n",
    "Z = model.predict(train_X)"
   ]
  },
  {
   "cell_type": "code",
   "execution_count": 48,
   "metadata": {
    "collapsed": true
   },
   "outputs": [],
   "source": [
    "low_values_indices = Z < 0.05  # Where values are low\n",
    "Z[low_values_indices] = 0  # All low values set to 0"
   ]
  },
  {
   "cell_type": "code",
   "execution_count": 49,
   "metadata": {
    "collapsed": true
   },
   "outputs": [],
   "source": [
    "new_Y = vectorizer.inverse_transform(Z)"
   ]
  },
  {
   "cell_type": "code",
   "execution_count": 54,
   "metadata": {
    "collapsed": false
   },
   "outputs": [
    {
     "data": {
      "text/plain": [
       "array(['baking', 'food-safety'], \n",
       "      dtype='|S25')"
      ]
     },
     "execution_count": 54,
     "metadata": {},
     "output_type": "execute_result"
    }
   ],
   "source": [
    "new_Y[4]"
   ]
  },
  {
   "cell_type": "code",
   "execution_count": null,
   "metadata": {
    "collapsed": false
   },
   "outputs": [],
   "source": []
  },
  {
   "cell_type": "code",
   "execution_count": null,
   "metadata": {
    "collapsed": true
   },
   "outputs": [],
   "source": []
  },
  {
   "cell_type": "code",
   "execution_count": null,
   "metadata": {
    "collapsed": true
   },
   "outputs": [],
   "source": []
  }
 ],
 "metadata": {
  "kernelspec": {
   "display_name": "Python 2",
   "language": "python",
   "name": "python2"
  },
  "language_info": {
   "codemirror_mode": {
    "name": "ipython",
    "version": 2
   },
   "file_extension": ".py",
   "mimetype": "text/x-python",
   "name": "python",
   "nbconvert_exporter": "python",
   "pygments_lexer": "ipython2",
   "version": "2.7.12"
  }
 },
 "nbformat": 4,
 "nbformat_minor": 0
}
