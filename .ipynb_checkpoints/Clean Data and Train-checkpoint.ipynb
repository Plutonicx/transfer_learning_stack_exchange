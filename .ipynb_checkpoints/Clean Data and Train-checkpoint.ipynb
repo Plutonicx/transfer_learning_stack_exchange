{
 "cells": [
  {
   "cell_type": "code",
   "execution_count": 1,
   "metadata": {
    "collapsed": true
   },
   "outputs": [],
   "source": [
    "import numpy as np\n",
    "import pandas as pd\n",
    "import re\n",
    "import string\n",
    "from wordcloud import WordCloud\n",
    "import matplotlib.pyplot as plt\n",
    "%matplotlib inline\n",
    "from nltk.corpus import stopwords # Import the stop word list\n",
    "from tqdm import tqdm, tqdm_pandas\n",
    "from sklearn.feature_extraction.text import CountVectorizer"
   ]
  },
  {
   "cell_type": "code",
   "execution_count": 2,
   "metadata": {
    "collapsed": false
   },
   "outputs": [
    {
     "name": "stderr",
     "output_type": "stream",
     "text": [
      "0it [00:00, ?it/s]\n",
      "TqdmDeprecationWarning: Please use `tqdm.pandas(...)` instead of `tqdm_pandas(tqdm(...))`.\n"
     ]
    }
   ],
   "source": [
    "tqdm_pandas(tqdm())\n",
    "\n",
    "removeTag = lambda x : re.sub('<[^>]*>','',x)\n",
    "removeNewLine = lambda x: re.sub('\\\\n',' ', x)\n",
    "removePunc = lambda x: re.sub(\"[^a-zA-Z\\s]\",\"\",string.lower(x.translate(string.maketrans(\"\",\"\"), string.punctuation)))\n",
    "reduceSpaces = lambda x: re.sub(\"[\\s]{2,}\",\" \",x)\n",
    "\n",
    "def stripUnMeaningfulWords(sentance):\n",
    "    words = sentance.split(\" \")\n",
    "    newWorldList = [w for w in words if not w in stopwords.words(\"english\")]\n",
    "    return(string.join(newWorldList))\n",
    "\n",
    "removeUnwantedTag = lambda x : x.replace('please-remove-this-tag','')\n",
    "removeCommonWords = lambda x: x.replace('ive','').replace('im','')\n",
    "\n",
    "def wordCloudGenerator(column_heading):\n",
    "\n",
    "    wordcloud = WordCloud().generate(string.join(cooking_frame[column_heading].tolist()))\n",
    "    # lower max_font_size\n",
    "    #wordcloud = WordCloud().generate(text)\n",
    "    plt.figure()\n",
    "    plt.imshow(wordcloud)\n",
    "    plt.axis(\"off\")\n",
    "    plt.show()\n",
    "    \n",
    "def cleanContent(df, contentColumn):\n",
    "    df['content_clean'] = df[contentColumn].apply(removeTag).apply(removeNewLine).apply(removePunc).apply(reduceSpaces)\n",
    "    df['content_clean'] = df['content_clean'].progress_apply(stripUnMeaningfulWords)\n",
    "    df['content_clean'] = df['content_clean'].apply(removeCommonWords)\n",
    "    return df\n",
    "\n",
    "def cleanTags(df, tagColumn):\n",
    "    df['tags_clean'] = df['tags'].apply(removeUnwantedTag).apply(removeCommonWords)   \n"
   ]
  },
  {
   "cell_type": "code",
   "execution_count": null,
   "metadata": {
    "collapsed": true
   },
   "outputs": [],
   "source": [
    "#cooking_frame = pd.read_csv('..\\Data\\Cooking.csv')\n",
    "biology_frame = pd.read_csv('..\\Data\\Cooking.csv')\n",
    "crypto_frame = pd.read_csv('..\\Data\\Cooking.csv')\n",
    "diy_frame = pd.read_csv('..\\Data\\Cooking.csv')\n",
    "robotics_frame = pd.read_csv('..\\Data\\Cooking.csv')\n",
    "travel_frame = pd.read_csv('..\\Data\\Cooking.csv')\n",
    "\n",
    "\n",
    "#cooking_frame = cleanContent(cooking_frame, 'content')\n",
    "biology_frame = cleanContent(biology_frame, 'content')\n",
    "crypto_frame = cleanContent(crypto_frame, 'content')\n",
    "diy_frame = cleanContent(diy_frame, 'content')\n",
    "robotics_frame = cleanContent(robotics_frame, 'content')\n",
    "travel_frame = travel_frame(cooking_frame, 'content')"
   ]
  }
 ],
 "metadata": {
  "kernelspec": {
   "display_name": "Python 2",
   "language": "python",
   "name": "python2"
  },
  "language_info": {
   "codemirror_mode": {
    "name": "ipython",
    "version": 2
   },
   "file_extension": ".py",
   "mimetype": "text/x-python",
   "name": "python",
   "nbconvert_exporter": "python",
   "pygments_lexer": "ipython2",
   "version": "2.7.12"
  }
 },
 "nbformat": 4,
 "nbformat_minor": 0
}
