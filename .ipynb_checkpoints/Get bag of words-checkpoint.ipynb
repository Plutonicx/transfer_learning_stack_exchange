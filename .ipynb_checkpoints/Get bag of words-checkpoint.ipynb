{
 "cells": [
  {
   "cell_type": "code",
   "execution_count": 3,
   "metadata": {
    "collapsed": false
   },
   "outputs": [
    {
     "name": "stdout",
     "output_type": "stream",
     "text": [
      "[nltk_data] Downloading collection u'book'\n",
      "[nltk_data]    | \n",
      "[nltk_data]    | Downloading package abc to\n",
      "[nltk_data]    |     C:\\Users\\Stevan\\AppData\\Roaming\\nltk_data...\n",
      "[nltk_data]    |   Package abc is already up-to-date!\n",
      "[nltk_data]    | Downloading package brown to\n",
      "[nltk_data]    |     C:\\Users\\Stevan\\AppData\\Roaming\\nltk_data...\n",
      "[nltk_data]    |   Package brown is already up-to-date!\n",
      "[nltk_data]    | Downloading package chat80 to\n",
      "[nltk_data]    |     C:\\Users\\Stevan\\AppData\\Roaming\\nltk_data...\n",
      "[nltk_data]    |   Package chat80 is already up-to-date!\n",
      "[nltk_data]    | Downloading package cmudict to\n",
      "[nltk_data]    |     C:\\Users\\Stevan\\AppData\\Roaming\\nltk_data...\n",
      "[nltk_data]    |   Package cmudict is already up-to-date!\n",
      "[nltk_data]    | Downloading package conll2000 to\n",
      "[nltk_data]    |     C:\\Users\\Stevan\\AppData\\Roaming\\nltk_data...\n",
      "[nltk_data]    |   Package conll2000 is already up-to-date!\n",
      "[nltk_data]    | Downloading package conll2002 to\n",
      "[nltk_data]    |     C:\\Users\\Stevan\\AppData\\Roaming\\nltk_data...\n",
      "[nltk_data]    |   Package conll2002 is already up-to-date!\n",
      "[nltk_data]    | Downloading package dependency_treebank to\n",
      "[nltk_data]    |     C:\\Users\\Stevan\\AppData\\Roaming\\nltk_data...\n",
      "[nltk_data]    |   Package dependency_treebank is already up-to-date!\n",
      "[nltk_data]    | Downloading package genesis to\n",
      "[nltk_data]    |     C:\\Users\\Stevan\\AppData\\Roaming\\nltk_data...\n",
      "[nltk_data]    |   Package genesis is already up-to-date!\n",
      "[nltk_data]    | Downloading package gutenberg to\n",
      "[nltk_data]    |     C:\\Users\\Stevan\\AppData\\Roaming\\nltk_data...\n",
      "[nltk_data]    |   Package gutenberg is already up-to-date!\n",
      "[nltk_data]    | Downloading package ieer to\n",
      "[nltk_data]    |     C:\\Users\\Stevan\\AppData\\Roaming\\nltk_data...\n",
      "[nltk_data]    |   Package ieer is already up-to-date!\n",
      "[nltk_data]    | Downloading package inaugural to\n",
      "[nltk_data]    |     C:\\Users\\Stevan\\AppData\\Roaming\\nltk_data...\n",
      "[nltk_data]    |   Package inaugural is already up-to-date!\n",
      "[nltk_data]    | Downloading package movie_reviews to\n",
      "[nltk_data]    |     C:\\Users\\Stevan\\AppData\\Roaming\\nltk_data...\n",
      "[nltk_data]    |   Package movie_reviews is already up-to-date!\n",
      "[nltk_data]    | Downloading package nps_chat to\n",
      "[nltk_data]    |     C:\\Users\\Stevan\\AppData\\Roaming\\nltk_data...\n",
      "[nltk_data]    |   Package nps_chat is already up-to-date!\n",
      "[nltk_data]    | Downloading package names to\n",
      "[nltk_data]    |     C:\\Users\\Stevan\\AppData\\Roaming\\nltk_data...\n",
      "[nltk_data]    |   Package names is already up-to-date!\n",
      "[nltk_data]    | Downloading package ppattach to\n",
      "[nltk_data]    |     C:\\Users\\Stevan\\AppData\\Roaming\\nltk_data...\n",
      "[nltk_data]    |   Package ppattach is already up-to-date!\n",
      "[nltk_data]    | Downloading package reuters to\n",
      "[nltk_data]    |     C:\\Users\\Stevan\\AppData\\Roaming\\nltk_data...\n",
      "[nltk_data]    |   Package reuters is already up-to-date!\n",
      "[nltk_data]    | Downloading package senseval to\n",
      "[nltk_data]    |     C:\\Users\\Stevan\\AppData\\Roaming\\nltk_data...\n",
      "[nltk_data]    |   Package senseval is already up-to-date!\n",
      "[nltk_data]    | Downloading package state_union to\n",
      "[nltk_data]    |     C:\\Users\\Stevan\\AppData\\Roaming\\nltk_data...\n",
      "[nltk_data]    |   Package state_union is already up-to-date!\n",
      "[nltk_data]    | Downloading package stopwords to\n",
      "[nltk_data]    |     C:\\Users\\Stevan\\AppData\\Roaming\\nltk_data...\n",
      "[nltk_data]    |   Package stopwords is already up-to-date!\n",
      "[nltk_data]    | Downloading package swadesh to\n",
      "[nltk_data]    |     C:\\Users\\Stevan\\AppData\\Roaming\\nltk_data...\n",
      "[nltk_data]    |   Package swadesh is already up-to-date!\n",
      "[nltk_data]    | Downloading package timit to\n",
      "[nltk_data]    |     C:\\Users\\Stevan\\AppData\\Roaming\\nltk_data...\n",
      "[nltk_data]    |   Package timit is already up-to-date!\n",
      "[nltk_data]    | Downloading package treebank to\n",
      "[nltk_data]    |     C:\\Users\\Stevan\\AppData\\Roaming\\nltk_data...\n",
      "[nltk_data]    |   Package treebank is already up-to-date!\n",
      "[nltk_data]    | Downloading package toolbox to\n",
      "[nltk_data]    |     C:\\Users\\Stevan\\AppData\\Roaming\\nltk_data...\n",
      "[nltk_data]    |   Package toolbox is already up-to-date!\n",
      "[nltk_data]    | Downloading package udhr to\n",
      "[nltk_data]    |     C:\\Users\\Stevan\\AppData\\Roaming\\nltk_data...\n",
      "[nltk_data]    |   Package udhr is already up-to-date!\n",
      "[nltk_data]    | Downloading package udhr2 to\n",
      "[nltk_data]    |     C:\\Users\\Stevan\\AppData\\Roaming\\nltk_data...\n",
      "[nltk_data]    |   Package udhr2 is already up-to-date!\n",
      "[nltk_data]    | Downloading package unicode_samples to\n",
      "[nltk_data]    |     C:\\Users\\Stevan\\AppData\\Roaming\\nltk_data...\n",
      "[nltk_data]    |   Package unicode_samples is already up-to-date!\n",
      "[nltk_data]    | Downloading package webtext to\n",
      "[nltk_data]    |     C:\\Users\\Stevan\\AppData\\Roaming\\nltk_data...\n",
      "[nltk_data]    |   Package webtext is already up-to-date!\n",
      "[nltk_data]    | Downloading package wordnet to\n",
      "[nltk_data]    |     C:\\Users\\Stevan\\AppData\\Roaming\\nltk_data...\n",
      "[nltk_data]    |   Package wordnet is already up-to-date!\n",
      "[nltk_data]    | Downloading package wordnet_ic to\n",
      "[nltk_data]    |     C:\\Users\\Stevan\\AppData\\Roaming\\nltk_data...\n",
      "[nltk_data]    |   Package wordnet_ic is already up-to-date!\n",
      "[nltk_data]    | Downloading package words to\n",
      "[nltk_data]    |     C:\\Users\\Stevan\\AppData\\Roaming\\nltk_data...\n",
      "[nltk_data]    |   Package words is already up-to-date!\n",
      "[nltk_data]    | Downloading package maxent_treebank_pos_tagger to\n",
      "[nltk_data]    |     C:\\Users\\Stevan\\AppData\\Roaming\\nltk_data...\n",
      "[nltk_data]    |   Package maxent_treebank_pos_tagger is already up-\n",
      "[nltk_data]    |       to-date!\n",
      "[nltk_data]    | Downloading package maxent_ne_chunker to\n",
      "[nltk_data]    |     C:\\Users\\Stevan\\AppData\\Roaming\\nltk_data...\n",
      "[nltk_data]    |   Package maxent_ne_chunker is already up-to-date!\n",
      "[nltk_data]    | Downloading package universal_tagset to\n",
      "[nltk_data]    |     C:\\Users\\Stevan\\AppData\\Roaming\\nltk_data...\n",
      "[nltk_data]    |   Package universal_tagset is already up-to-date!\n",
      "[nltk_data]    | Downloading package punkt to\n",
      "[nltk_data]    |     C:\\Users\\Stevan\\AppData\\Roaming\\nltk_data...\n",
      "[nltk_data]    |   Package punkt is already up-to-date!\n",
      "[nltk_data]    | Downloading package book_grammars to\n",
      "[nltk_data]    |     C:\\Users\\Stevan\\AppData\\Roaming\\nltk_data...\n",
      "[nltk_data]    |   Package book_grammars is already up-to-date!\n",
      "[nltk_data]    | Downloading package city_database to\n",
      "[nltk_data]    |     C:\\Users\\Stevan\\AppData\\Roaming\\nltk_data...\n",
      "[nltk_data]    |   Package city_database is already up-to-date!\n",
      "[nltk_data]    | Downloading package tagsets to\n",
      "[nltk_data]    |     C:\\Users\\Stevan\\AppData\\Roaming\\nltk_data...\n",
      "[nltk_data]    |   Package tagsets is already up-to-date!\n",
      "[nltk_data]    | Downloading package panlex_swadesh to\n",
      "[nltk_data]    |     C:\\Users\\Stevan\\AppData\\Roaming\\nltk_data...\n",
      "[nltk_data]    |   Package panlex_swadesh is already up-to-date!\n",
      "[nltk_data]    | Downloading package averaged_perceptron_tagger to\n",
      "[nltk_data]    |     C:\\Users\\Stevan\\AppData\\Roaming\\nltk_data...\n",
      "[nltk_data]    |   Package averaged_perceptron_tagger is already up-\n",
      "[nltk_data]    |       to-date!\n",
      "[nltk_data]    | \n",
      "[nltk_data]  Done downloading collection book\n"
     ]
    },
    {
     "data": {
      "text/plain": [
       "True"
      ]
     },
     "execution_count": 3,
     "metadata": {},
     "output_type": "execute_result"
    }
   ],
   "source": [
    "import nltk\n",
    "\n",
    "nltk.download('book')"
   ]
  },
  {
   "cell_type": "code",
   "execution_count": 33,
   "metadata": {
    "collapsed": false
   },
   "outputs": [],
   "source": [
    "import numpy as np\n",
    "import pandas as pd\n",
    "import re\n",
    "import string\n",
    "from wordcloud import WordCloud\n",
    "import matplotlib.pyplot as plt\n",
    "%matplotlib inline\n",
    "from nltk.corpus import stopwords # Import the stop word list\n",
    "from tqdm import tqdm, tqdm_pandas"
   ]
  },
  {
   "cell_type": "code",
   "execution_count": 3,
   "metadata": {
    "collapsed": true
   },
   "outputs": [],
   "source": [
    "cooking_frame = pd.read_csv('..\\Data\\Cooking.csv')"
   ]
  },
  {
   "cell_type": "code",
   "execution_count": 4,
   "metadata": {
    "collapsed": false
   },
   "outputs": [
    {
     "data": {
      "text/plain": [
       "0        <p>My chocolate chips cookies are always too c...\n",
       "1        <p>I've heard of people cooking bacon in an ov...\n",
       "2        <p>I always use brown extra large eggs, but I ...\n",
       "3        <p>And can I use one in place of the other in ...\n",
       "4        <p>It seems that every time I make a tomato sa...\n",
       "5        <p>I have a recipe that calls for fresh parsle...\n",
       "6        <p>I'd like to know when to take my steaks off...\n",
       "7        <p>What's the best method to poach an egg with...\n",
       "8        <p>My ice cream doesn't feel creamy enough.  I...\n",
       "9        <p>I'm interested in baking thighs, legs, brea...\n",
       "10       <p>I've fallen in love with this wonderful <a ...\n",
       "11       <p>Is there really an advantage to sifting flo...\n",
       "12       <p>When I roast a goose, I decant the fat, str...\n",
       "13       <p>Where can safe and reliable instructions (i...\n",
       "14       <p>I know what spices like garlic and black pe...\n",
       "15       <p>Is it safe to leave butter at room temperat...\n",
       "16       <p>In this <a href=\"http://www.chefmichaelsmit...\n",
       "17       <p>I've been watching a lot of Hells Kitchen, ...\n",
       "18       <p>What does splashing in a shot of white vine...\n",
       "19       <p>Why should/shouldn't I store my bread in th...\n",
       "20       <p>What are some good resources for learning k...\n",
       "21       <p>I like to cook from scratch, and I'm curren...\n",
       "22       <p>Spices have always been the hardest thing f...\n",
       "23       <p>The common wisdom I've heard is that dried ...\n",
       "24       <p>I found a recipe that's using one or more m...\n",
       "25       <p>Despite my best efforts, my kitchen (and so...\n",
       "26       <p>I have a wonderful pancake recipe that I wo...\n",
       "27       <p>What is a good technique for initially seas...\n",
       "28       <p>When I grill fish or chicken, often much of...\n",
       "29       <p>I bought some avocados recently, and one of...\n",
       "                               ...                        \n",
       "15374    <p>A while ago we ate at a Vietnamese restaura...\n",
       "15375    <p>is the pizza still ok to eat  after being t...\n",
       "15376    <p>I've recently started looking into making b...\n",
       "15377    <p>When making hamburgers that will be eaten i...\n",
       "15378    <p>I love all kinds of noodles, be it be Schez...\n",
       "15379    <p>If  you wanted to add smoke flavour to a so...\n",
       "15380    <p>I have been cooking a very light tomato top...\n",
       "15381    <p>I need soup help.\\nI am unable to make a ho...\n",
       "15382    <p>How Cani keep greengage jam green rather th...\n",
       "15383    <p>I was watching Sara Moulton's TV show last ...\n",
       "15384    <p>I put a beef roast in the slow cooker (croc...\n",
       "15385    <p>I put some soy sauce and a generous amount ...\n",
       "15386    <p>Is there a way to determine how much salt p...\n",
       "15387    <p>I was doing a home-made, raw chocolate, mad...\n",
       "15388    <p>Recently I went to a restaurant where they ...\n",
       "15389    <p>I have a Pit Barrel Cooker. I have made ham...\n",
       "15390    <p>We have a startup environment at office and...\n",
       "15391    <p>Its well debated topic whether plastic / gl...\n",
       "15392    <p>Bit of an odd one, was half way through coo...\n",
       "15393    <p>I was watching youtube vids about cooking a...\n",
       "15394    <p>I have <a href=\"https://www.nowfoods.com/be...\n",
       "15395    <p>I've found guides online for making carbona...\n",
       "15396    <p>I have a surplus of jelly like chicken stoc...\n",
       "15397    <p>After coating my chicken with Shake &amp; B...\n",
       "15398    <p>I am trying to make Buckwheat noodles (Soba...\n",
       "15399    <p>I recently signed up for America's Test Kit...\n",
       "15400    <p>I made some buttercream frosting for browni...\n",
       "15401    <p>My Italian mom gowould pour flour on a boar...\n",
       "15402    <p>I wonder if an artificial sweetener like su...\n",
       "15403    <p><a href=\"http://i.stack.imgur.com/p45hW.jpg...\n",
       "Name: content, dtype: object"
      ]
     },
     "execution_count": 4,
     "metadata": {},
     "output_type": "execute_result"
    }
   ],
   "source": [
    "cooking_frame['content']"
   ]
  },
  {
   "cell_type": "code",
   "execution_count": 13,
   "metadata": {
    "collapsed": true
   },
   "outputs": [],
   "source": [
    "removeTag = lambda x : re.sub('<[^>]*>','',x)\n",
    "removeNewLine = lambda x: re.sub('\\\\n',' ', x)\n",
    "removePunc = lambda x: re.sub(\"[^a-zA-Z\\s]\",\"\",string.lower(x.translate(string.maketrans(\"\",\"\"), string.punctuation)))\n",
    "reduceSpaces = lambda x: re.sub(\"[\\s]{2,}\",\" \",x)\n",
    "\n",
    "def stripUnMeaningfulWords(sentance):\n",
    "    words = sentance.split(\" \")\n",
    "    newWorldList = [w for w in words if not w in stopwords.words(\"english\")]\n",
    "    return(string.join(newWorldList))\n"
   ]
  },
  {
   "cell_type": "code",
   "execution_count": 6,
   "metadata": {
    "collapsed": false
   },
   "outputs": [
    {
     "data": {
      "text/html": [
       "<div>\n",
       "<table border=\"1\" class=\"dataframe\">\n",
       "  <thead>\n",
       "    <tr style=\"text-align: right;\">\n",
       "      <th></th>\n",
       "      <th>id</th>\n",
       "      <th>title</th>\n",
       "      <th>content</th>\n",
       "      <th>tags</th>\n",
       "    </tr>\n",
       "  </thead>\n",
       "  <tbody>\n",
       "    <tr>\n",
       "      <th>0</th>\n",
       "      <td>1</td>\n",
       "      <td>How can I get chewy chocolate chip cookies?</td>\n",
       "      <td>&lt;p&gt;My chocolate chips cookies are always too c...</td>\n",
       "      <td>baking cookies texture</td>\n",
       "    </tr>\n",
       "    <tr>\n",
       "      <th>1</th>\n",
       "      <td>2</td>\n",
       "      <td>How should I cook bacon in an oven?</td>\n",
       "      <td>&lt;p&gt;I've heard of people cooking bacon in an ov...</td>\n",
       "      <td>oven cooking-time bacon</td>\n",
       "    </tr>\n",
       "  </tbody>\n",
       "</table>\n",
       "</div>"
      ],
      "text/plain": [
       "   id                                        title  \\\n",
       "0   1  How can I get chewy chocolate chip cookies?   \n",
       "1   2          How should I cook bacon in an oven?   \n",
       "\n",
       "                                             content                     tags  \n",
       "0  <p>My chocolate chips cookies are always too c...   baking cookies texture  \n",
       "1  <p>I've heard of people cooking bacon in an ov...  oven cooking-time bacon  "
      ]
     },
     "execution_count": 6,
     "metadata": {},
     "output_type": "execute_result"
    }
   ],
   "source": [
    "cooking_frame.head(2)"
   ]
  },
  {
   "cell_type": "code",
   "execution_count": 14,
   "metadata": {
    "collapsed": false
   },
   "outputs": [],
   "source": [
    "#removetag(cooking_frame['content'][11])\n",
    "\n",
    "cooking_frame['content_clean'] = cooking_frame['content'].apply(removeTag).apply(removeNewLine).apply(removePunc).apply(reduceSpaces)                                \n",
    "#clean = cooking_frame['content'].ix[:10].apply(removeTag).apply(removeNewLine).apply(removePunc).apply(reduceSpaces).apply(stripUnMeaningfulWords)"
   ]
  },
  {
   "cell_type": "code",
   "execution_count": 15,
   "metadata": {
    "collapsed": false
   },
   "outputs": [
    {
     "name": "stderr",
     "output_type": "stream",
     "text": [
      "0it [00:00, ?it/s]\n",
      "TqdmDeprecationWarning: Please use `tqdm.pandas(...)` instead of `tqdm_pandas(tqdm(...))`.\n"
     ]
    }
   ],
   "source": [
    "tqdm_pandas(tqdm())"
   ]
  },
  {
   "cell_type": "code",
   "execution_count": 16,
   "metadata": {
    "collapsed": false
   },
   "outputs": [
    {
     "name": "stderr",
     "output_type": "stream",
     "text": [
      "15404it [04:24, 58.31it/s]\n"
     ]
    }
   ],
   "source": [
    "cooking_frame['content_clean'] = cooking_frame['content_clean'].progress_apply(stripUnMeaningfulWords)  "
   ]
  },
  {
   "cell_type": "code",
   "execution_count": 17,
   "metadata": {
    "collapsed": false
   },
   "outputs": [
    {
     "name": "stdout",
     "output_type": "stream",
     "text": [
      "chocolate chips cookies always crisp get chewy cookies like starbucks thank everyone answered far tip biggest impact chill rest dough however also increased brown sugar ratio increased bit butter also adding maple syrup helped \n"
     ]
    }
   ],
   "source": [
    "print cooking_frame['content_clean'][0]"
   ]
  },
  {
   "cell_type": "code",
   "execution_count": 18,
   "metadata": {
    "collapsed": true
   },
   "outputs": [],
   "source": [
    "from sklearn.feature_extraction.text import CountVectorizer"
   ]
  },
  {
   "cell_type": "code",
   "execution_count": 19,
   "metadata": {
    "collapsed": true
   },
   "outputs": [],
   "source": [
    "vectorizer = CountVectorizer(min_df=1)\n",
    "#http://scikit-learn.org/stable/modules/generated/sklearn.feature_extraction.text.CountVectorizer.html#sklearn.feature_extraction.text.CountVectorizer\n",
    "vectorizer = CountVectorizer(analyzer='word', binary=False, decode_error='strict',\n",
    "        dtype=np.float32, encoding='utf-8', input='content',\n",
    "        lowercase=True, max_df=1.0, max_features=None, min_df=1,\n",
    "        ngram_range=(1, 1), preprocessor=None, stop_words=None,\n",
    "        strip_accents=None, token_pattern='(?u)\\\\b\\\\w\\\\w+\\\\b',\n",
    "        tokenizer=None, vocabulary=None)"
   ]
  },
  {
   "cell_type": "code",
   "execution_count": 20,
   "metadata": {
    "collapsed": false
   },
   "outputs": [
    {
     "data": {
      "text/plain": [
       "<15404x29114 sparse matrix of type '<type 'numpy.float32'>'\n",
       "\twith 556779 stored elements in Compressed Sparse Row format>"
      ]
     },
     "execution_count": 20,
     "metadata": {},
     "output_type": "execute_result"
    }
   ],
   "source": [
    "corpus = cooking_frame['content_clean'].tolist()\n",
    "X = vectorizer.fit_transform(corpus)\n",
    "X                              "
   ]
  },
  {
   "cell_type": "code",
   "execution_count": 21,
   "metadata": {
    "collapsed": false
   },
   "outputs": [
    {
     "data": {
      "text/plain": [
       "0.0"
      ]
     },
     "execution_count": 21,
     "metadata": {},
     "output_type": "execute_result"
    }
   ],
   "source": [
    "X[0,0]"
   ]
  },
  {
   "cell_type": "code",
   "execution_count": 22,
   "metadata": {
    "collapsed": false
   },
   "outputs": [
    {
     "data": {
      "text/plain": [
       "(15404, 29114)"
      ]
     },
     "execution_count": 22,
     "metadata": {},
     "output_type": "execute_result"
    }
   ],
   "source": [
    "np.shape(X)"
   ]
  },
  {
   "cell_type": "code",
   "execution_count": 23,
   "metadata": {
    "collapsed": false
   },
   "outputs": [
    {
     "data": {
      "text/plain": [
       "16.0"
      ]
     },
     "execution_count": 23,
     "metadata": {},
     "output_type": "execute_result"
    }
   ],
   "source": [
    "sum(X.toarray()[1,:])"
   ]
  },
  {
   "cell_type": "code",
   "execution_count": 24,
   "metadata": {
    "collapsed": false
   },
   "outputs": [
    {
     "data": {
      "text/html": [
       "<div>\n",
       "<table border=\"1\" class=\"dataframe\">\n",
       "  <thead>\n",
       "    <tr style=\"text-align: right;\">\n",
       "      <th></th>\n",
       "      <th>id</th>\n",
       "      <th>title</th>\n",
       "      <th>content</th>\n",
       "      <th>tags</th>\n",
       "      <th>content_clean</th>\n",
       "    </tr>\n",
       "  </thead>\n",
       "  <tbody>\n",
       "    <tr>\n",
       "      <th>0</th>\n",
       "      <td>1</td>\n",
       "      <td>How can I get chewy chocolate chip cookies?</td>\n",
       "      <td>&lt;p&gt;My chocolate chips cookies are always too c...</td>\n",
       "      <td>baking cookies texture</td>\n",
       "      <td>chocolate chips cookies always crisp get chewy...</td>\n",
       "    </tr>\n",
       "    <tr>\n",
       "      <th>1</th>\n",
       "      <td>2</td>\n",
       "      <td>How should I cook bacon in an oven?</td>\n",
       "      <td>&lt;p&gt;I've heard of people cooking bacon in an ov...</td>\n",
       "      <td>oven cooking-time bacon</td>\n",
       "      <td>ive heard people cooking bacon oven laying str...</td>\n",
       "    </tr>\n",
       "    <tr>\n",
       "      <th>2</th>\n",
       "      <td>3</td>\n",
       "      <td>What is the difference between white and brown...</td>\n",
       "      <td>&lt;p&gt;I always use brown extra large eggs, but I ...</td>\n",
       "      <td>eggs</td>\n",
       "      <td>always use brown extra large eggs cant honestl...</td>\n",
       "    </tr>\n",
       "    <tr>\n",
       "      <th>3</th>\n",
       "      <td>4</td>\n",
       "      <td>What is the difference between baking soda and...</td>\n",
       "      <td>&lt;p&gt;And can I use one in place of the other in ...</td>\n",
       "      <td>substitutions please-remove-this-tag baking-so...</td>\n",
       "      <td>use one place certain recipes</td>\n",
       "    </tr>\n",
       "    <tr>\n",
       "      <th>4</th>\n",
       "      <td>5</td>\n",
       "      <td>In a tomato sauce recipe, how can I cut the ac...</td>\n",
       "      <td>&lt;p&gt;It seems that every time I make a tomato sa...</td>\n",
       "      <td>sauce pasta tomatoes italian-cuisine</td>\n",
       "      <td>seems every time make tomato sauce pasta sauce...</td>\n",
       "    </tr>\n",
       "    <tr>\n",
       "      <th>5</th>\n",
       "      <td>6</td>\n",
       "      <td>What ingredients (available in specific region...</td>\n",
       "      <td>&lt;p&gt;I have a recipe that calls for fresh parsle...</td>\n",
       "      <td>substitutions herbs parsley</td>\n",
       "      <td>recipe calls fresh parsley substituted fresh h...</td>\n",
       "    </tr>\n",
       "    <tr>\n",
       "      <th>6</th>\n",
       "      <td>9</td>\n",
       "      <td>What is the internal temperature a steak shoul...</td>\n",
       "      <td>&lt;p&gt;I'd like to know when to take my steaks off...</td>\n",
       "      <td>food-safety beef cooking-time</td>\n",
       "      <td>id like know take steaks grill please everybody</td>\n",
       "    </tr>\n",
       "    <tr>\n",
       "      <th>7</th>\n",
       "      <td>11</td>\n",
       "      <td>How should I poach an egg?</td>\n",
       "      <td>&lt;p&gt;What's the best method to poach an egg with...</td>\n",
       "      <td>eggs basics poaching</td>\n",
       "      <td>whats best method poach egg without turning eg...</td>\n",
       "    </tr>\n",
       "    <tr>\n",
       "      <th>8</th>\n",
       "      <td>12</td>\n",
       "      <td>How can I make my Ice Cream \"creamier\"</td>\n",
       "      <td>&lt;p&gt;My ice cream doesn't feel creamy enough.  I...</td>\n",
       "      <td>ice-cream</td>\n",
       "      <td>ice cream doesnt feel creamy enough got recipe...</td>\n",
       "    </tr>\n",
       "    <tr>\n",
       "      <th>9</th>\n",
       "      <td>17</td>\n",
       "      <td>How long and at what temperature do the variou...</td>\n",
       "      <td>&lt;p&gt;I'm interested in baking thighs, legs, brea...</td>\n",
       "      <td>baking chicken cooking-time</td>\n",
       "      <td>im interested baking thighs legs breasts wings...</td>\n",
       "    </tr>\n",
       "    <tr>\n",
       "      <th>10</th>\n",
       "      <td>23</td>\n",
       "      <td>Besides salmon, what other meats can be grille...</td>\n",
       "      <td>&lt;p&gt;I've fallen in love with this wonderful &lt;a ...</td>\n",
       "      <td>grilling salmon cedar-plank</td>\n",
       "      <td>ive fallen love wonderful cedar planked salmon...</td>\n",
       "    </tr>\n",
       "    <tr>\n",
       "      <th>11</th>\n",
       "      <td>27</td>\n",
       "      <td>Do I need to sift flour that is labeled sifted?</td>\n",
       "      <td>&lt;p&gt;Is there really an advantage to sifting flo...</td>\n",
       "      <td>baking flour measurements sifting</td>\n",
       "      <td>really advantage sifting flour bought labeled ...</td>\n",
       "    </tr>\n",
       "    <tr>\n",
       "      <th>12</th>\n",
       "      <td>28</td>\n",
       "      <td>Storage life for goose fat</td>\n",
       "      <td>&lt;p&gt;When I roast a goose, I decant the fat, str...</td>\n",
       "      <td>storage-method storage-lifetime fats</td>\n",
       "      <td>roast goose decant fat strain freeze typically...</td>\n",
       "    </tr>\n",
       "    <tr>\n",
       "      <th>13</th>\n",
       "      <td>30</td>\n",
       "      <td>Pressure canning instructions</td>\n",
       "      <td>&lt;p&gt;Where can safe and reliable instructions (i...</td>\n",
       "      <td>canning pressure-canner food-preservation</td>\n",
       "      <td>safe reliable instructions including high low ...</td>\n",
       "    </tr>\n",
       "    <tr>\n",
       "      <th>14</th>\n",
       "      <td>32</td>\n",
       "      <td>What's a good resource for knowing what spices...</td>\n",
       "      <td>&lt;p&gt;I know what spices like garlic and black pe...</td>\n",
       "      <td>spices resources basics learning</td>\n",
       "      <td>know spices like garlic black pepper foods typ...</td>\n",
       "    </tr>\n",
       "    <tr>\n",
       "      <th>15</th>\n",
       "      <td>36</td>\n",
       "      <td>Is it safe to leave butter at room temperature?</td>\n",
       "      <td>&lt;p&gt;Is it safe to leave butter at room temperat...</td>\n",
       "      <td>food-safety storage-method storage-lifetime bu...</td>\n",
       "      <td>safe leave butter room temperature long safe k...</td>\n",
       "    </tr>\n",
       "    <tr>\n",
       "      <th>16</th>\n",
       "      <td>38</td>\n",
       "      <td>Does resting the dough for a long time reduce ...</td>\n",
       "      <td>&lt;p&gt;In this &lt;a href=\"http://www.chefmichaelsmit...</td>\n",
       "      <td>baking bread dough</td>\n",
       "      <td>article chef michael smith mentions recipe lea...</td>\n",
       "    </tr>\n",
       "    <tr>\n",
       "      <th>17</th>\n",
       "      <td>54</td>\n",
       "      <td>How should I prepare Risotto</td>\n",
       "      <td>&lt;p&gt;I've been watching a lot of Hells Kitchen, ...</td>\n",
       "      <td>rice italian-cuisine risotto</td>\n",
       "      <td>ive watching lot hells kitchen one signature d...</td>\n",
       "    </tr>\n",
       "    <tr>\n",
       "      <th>18</th>\n",
       "      <td>57</td>\n",
       "      <td>How does a splash of vinegar help when poachin...</td>\n",
       "      <td>&lt;p&gt;What does splashing in a shot of white vine...</td>\n",
       "      <td>eggs food-science vinegar poaching</td>\n",
       "      <td>splashing shot white vinegar simmering water p...</td>\n",
       "    </tr>\n",
       "    <tr>\n",
       "      <th>19</th>\n",
       "      <td>61</td>\n",
       "      <td>What are the pros and cons of storing bread in...</td>\n",
       "      <td>&lt;p&gt;Why should/shouldn't I store my bread in th...</td>\n",
       "      <td>storage-method bread</td>\n",
       "      <td>shouldshouldnt store bread fridgefreezerbreadb...</td>\n",
       "    </tr>\n",
       "    <tr>\n",
       "      <th>20</th>\n",
       "      <td>62</td>\n",
       "      <td>What are some good resources for learning Knif...</td>\n",
       "      <td>&lt;p&gt;What are some good resources for learning k...</td>\n",
       "      <td>knife-skills resources learning cutting</td>\n",
       "      <td>good resources learning knife skills specifica...</td>\n",
       "    </tr>\n",
       "    <tr>\n",
       "      <th>21</th>\n",
       "      <td>66</td>\n",
       "      <td>How to calculate the calorie content of cooked...</td>\n",
       "      <td>&lt;p&gt;I like to cook from scratch, and I'm curren...</td>\n",
       "      <td>nutrient-composition calories</td>\n",
       "      <td>like cook scratch im currently trying loose po...</td>\n",
       "    </tr>\n",
       "    <tr>\n",
       "      <th>22</th>\n",
       "      <td>68</td>\n",
       "      <td>Recommendations for spice organization strategies</td>\n",
       "      <td>&lt;p&gt;Spices have always been the hardest thing f...</td>\n",
       "      <td>storage-method spices organization pantry</td>\n",
       "      <td>spices always hardest thing keep track kitchen...</td>\n",
       "    </tr>\n",
       "    <tr>\n",
       "      <th>23</th>\n",
       "      <td>70</td>\n",
       "      <td>Shelf life of spices</td>\n",
       "      <td>&lt;p&gt;The common wisdom I've heard is that dried ...</td>\n",
       "      <td>storage-method storage-lifetime spices</td>\n",
       "      <td>common wisdom ive heard dried herbs spices she...</td>\n",
       "    </tr>\n",
       "    <tr>\n",
       "      <th>24</th>\n",
       "      <td>76</td>\n",
       "      <td>How do I convert between the various measureme...</td>\n",
       "      <td>&lt;p&gt;I found a recipe that's using one or more m...</td>\n",
       "      <td>conversion measurements</td>\n",
       "      <td>found recipe thats using one measurements dont...</td>\n",
       "    </tr>\n",
       "    <tr>\n",
       "      <th>25</th>\n",
       "      <td>81</td>\n",
       "      <td>How do I pound chicken (or other meat) without...</td>\n",
       "      <td>&lt;p&gt;Despite my best efforts, my kitchen (and so...</td>\n",
       "      <td>chicken meat chicken-breast tenderizing</td>\n",
       "      <td>despite best efforts kitchen sometimes chicken...</td>\n",
       "    </tr>\n",
       "    <tr>\n",
       "      <th>26</th>\n",
       "      <td>84</td>\n",
       "      <td>Is there a formula for converting pancake batt...</td>\n",
       "      <td>&lt;p&gt;I have a wonderful pancake recipe that I wo...</td>\n",
       "      <td>baking pancakes conversion waffle</td>\n",
       "      <td>wonderful pancake recipe would like convert wa...</td>\n",
       "    </tr>\n",
       "    <tr>\n",
       "      <th>27</th>\n",
       "      <td>85</td>\n",
       "      <td>Wok preparation and caring</td>\n",
       "      <td>&lt;p&gt;What is a good technique for initially seas...</td>\n",
       "      <td>equipment wok seasoning-pans</td>\n",
       "      <td>good technique initially seasoning wok keeping...</td>\n",
       "    </tr>\n",
       "    <tr>\n",
       "      <th>28</th>\n",
       "      <td>87</td>\n",
       "      <td>How can I keep delicate food from sticking to ...</td>\n",
       "      <td>&lt;p&gt;When I grill fish or chicken, often much of...</td>\n",
       "      <td>grilling</td>\n",
       "      <td>grill fish chicken often much meat andor skin ...</td>\n",
       "    </tr>\n",
       "    <tr>\n",
       "      <th>29</th>\n",
       "      <td>89</td>\n",
       "      <td>What can I do to help my avocados ripen?</td>\n",
       "      <td>&lt;p&gt;I bought some avocados recently, and one of...</td>\n",
       "      <td>storage-method ripe avocados</td>\n",
       "      <td>bought avocados recently one rock hard tried c...</td>\n",
       "    </tr>\n",
       "    <tr>\n",
       "      <th>30</th>\n",
       "      <td>97</td>\n",
       "      <td>How can I improve my barbecue sauce recipe?</td>\n",
       "      <td>&lt;p&gt;I've been trying to refine my BBQ sauce lat...</td>\n",
       "      <td>grilling sauce barbecue condiments</td>\n",
       "      <td>ive trying refine bbq sauce lately im really c...</td>\n",
       "    </tr>\n",
       "    <tr>\n",
       "      <th>31</th>\n",
       "      <td>98</td>\n",
       "      <td>Digital recipes storage?</td>\n",
       "      <td>&lt;p&gt;What works well for storing recipes digital...</td>\n",
       "      <td>organization software</td>\n",
       "      <td>works well storing recipes digitally software ...</td>\n",
       "    </tr>\n",
       "    <tr>\n",
       "      <th>32</th>\n",
       "      <td>101</td>\n",
       "      <td>What are convenient and reliable ways to make ...</td>\n",
       "      <td>&lt;p&gt;The biggest issue with make good rye bread ...</td>\n",
       "      <td>baking bread starter</td>\n",
       "      <td>biggest issue make good rye bread make starter...</td>\n",
       "    </tr>\n",
       "    <tr>\n",
       "      <th>33</th>\n",
       "      <td>105</td>\n",
       "      <td>Is there an alternative to cornstarch when use...</td>\n",
       "      <td>&lt;p&gt;I made a some pies a couple of days ago. Th...</td>\n",
       "      <td>substitutions baking pie cornstarch</td>\n",
       "      <td>made pies couple days ago recipe called cornst...</td>\n",
       "    </tr>\n",
       "    <tr>\n",
       "      <th>34</th>\n",
       "      <td>106</td>\n",
       "      <td>Sniffing out a rotten egg from the dozen</td>\n",
       "      <td>&lt;p&gt;Is it possible to tell if an egg has gone o...</td>\n",
       "      <td>food-safety eggs storage-lifetime</td>\n",
       "      <td>possible tell egg gone referring eggs especial...</td>\n",
       "    </tr>\n",
       "    <tr>\n",
       "      <th>35</th>\n",
       "      <td>109</td>\n",
       "      <td>Why does a brown paper bag speed ripening?</td>\n",
       "      <td>&lt;p&gt;I often see this technique suggested as a w...</td>\n",
       "      <td>storage-method food-science ripe</td>\n",
       "      <td>often see technique suggested way speed ripeni...</td>\n",
       "    </tr>\n",
       "    <tr>\n",
       "      <th>36</th>\n",
       "      <td>119</td>\n",
       "      <td>Is there a milk-free sour cream?</td>\n",
       "      <td>&lt;p&gt;Is there some kind of milk-free sour cream ...</td>\n",
       "      <td>substitutions milk allergy sour-cream dairy-free</td>\n",
       "      <td>kind milkfree sour cream available use substit...</td>\n",
       "    </tr>\n",
       "    <tr>\n",
       "      <th>37</th>\n",
       "      <td>123</td>\n",
       "      <td>Can you hone a knife properly by using another...</td>\n",
       "      <td>&lt;p&gt;I recall seeing this in movies. Can it be c...</td>\n",
       "      <td>equipment knives</td>\n",
       "      <td>recall seeing movies called poor mans steel</td>\n",
       "    </tr>\n",
       "    <tr>\n",
       "      <th>38</th>\n",
       "      <td>125</td>\n",
       "      <td>What's the difference between pan frying, saut...</td>\n",
       "      <td>&lt;p&gt;As I understand it, all of these terms refe...</td>\n",
       "      <td>frying sauteing</td>\n",
       "      <td>understand terms refer cooking food small amou...</td>\n",
       "    </tr>\n",
       "    <tr>\n",
       "      <th>39</th>\n",
       "      <td>134</td>\n",
       "      <td>What makes fleur de sel different from regular...</td>\n",
       "      <td>&lt;p&gt;Fleur de sel is the salt from the top of th...</td>\n",
       "      <td>please-remove-this-tag salt classification</td>\n",
       "      <td>fleur de sel salt top pot heat salted water ma...</td>\n",
       "    </tr>\n",
       "    <tr>\n",
       "      <th>40</th>\n",
       "      <td>138</td>\n",
       "      <td>How long do you let a steak from the fridge co...</td>\n",
       "      <td>&lt;p&gt;Before cooking a steak, you're supposed to ...</td>\n",
       "      <td>meat salt steak</td>\n",
       "      <td>cooking steak youre supposed let sit room temp...</td>\n",
       "    </tr>\n",
       "    <tr>\n",
       "      <th>41</th>\n",
       "      <td>139</td>\n",
       "      <td>How to Store Fresh Herbs</td>\n",
       "      <td>&lt;p&gt;What is the best way to store fresh herbs l...</td>\n",
       "      <td>storage-method herbs cilantro parsley</td>\n",
       "      <td>best way store fresh herbs like parsley cilant...</td>\n",
       "    </tr>\n",
       "    <tr>\n",
       "      <th>42</th>\n",
       "      <td>141</td>\n",
       "      <td>Which vinegars are essential to keep on hand?</td>\n",
       "      <td>&lt;p&gt;There seems to be a large variety of differ...</td>\n",
       "      <td>substitutions vinegar pantry</td>\n",
       "      <td>seems large variety different vinegars called ...</td>\n",
       "    </tr>\n",
       "    <tr>\n",
       "      <th>43</th>\n",
       "      <td>143</td>\n",
       "      <td>Why do my burgers end up round?</td>\n",
       "      <td>&lt;p&gt;When I broil or grill my burgers, I end up ...</td>\n",
       "      <td>meat hamburgers ground-beef</td>\n",
       "      <td>broil grill burgers end burgers round middle g...</td>\n",
       "    </tr>\n",
       "    <tr>\n",
       "      <th>44</th>\n",
       "      <td>149</td>\n",
       "      <td>Once a month cooking</td>\n",
       "      <td>&lt;p&gt;I've heard of \"once a month cooking\" or \"fr...</td>\n",
       "      <td>storage-method freezing bulk-cooking</td>\n",
       "      <td>ive heard month cooking freezer cooking basica...</td>\n",
       "    </tr>\n",
       "    <tr>\n",
       "      <th>45</th>\n",
       "      <td>150</td>\n",
       "      <td>How to dry oregano?</td>\n",
       "      <td>&lt;p&gt;I have oregano in my garden. But I only use...</td>\n",
       "      <td>storage-method spices drying oregano</td>\n",
       "      <td>oregano garden use fresh properly dry oregano ...</td>\n",
       "    </tr>\n",
       "    <tr>\n",
       "      <th>46</th>\n",
       "      <td>153</td>\n",
       "      <td>Is it generally better to cut chicken breast w...</td>\n",
       "      <td>&lt;p&gt;I realize it may depend on what you're doin...</td>\n",
       "      <td>chicken knife-skills</td>\n",
       "      <td>realize may depend youre general rule preferred</td>\n",
       "    </tr>\n",
       "    <tr>\n",
       "      <th>47</th>\n",
       "      <td>154</td>\n",
       "      <td>How do I ripen unripe oranges and grapefruits?</td>\n",
       "      <td>&lt;p&gt;Sometimes when I buy oranges or grapefruits...</td>\n",
       "      <td>fruit ripe citrus</td>\n",
       "      <td>sometimes buy oranges grapefruits find rather ...</td>\n",
       "    </tr>\n",
       "    <tr>\n",
       "      <th>48</th>\n",
       "      <td>164</td>\n",
       "      <td>When, if ever, are dried herbs preferable to f...</td>\n",
       "      <td>&lt;p&gt;Sometimes I see a recipe call for dried her...</td>\n",
       "      <td>herbs please-remove-this-tag comparisons</td>\n",
       "      <td>sometimes see recipe call dried herbs access f...</td>\n",
       "    </tr>\n",
       "    <tr>\n",
       "      <th>49</th>\n",
       "      <td>175</td>\n",
       "      <td>Is there an alternative to condensed milk?</td>\n",
       "      <td>&lt;p&gt;In Denmark we don't have condensed milk in ...</td>\n",
       "      <td>substitutions milk</td>\n",
       "      <td>denmark dont condensed milk regular stores ive...</td>\n",
       "    </tr>\n",
       "  </tbody>\n",
       "</table>\n",
       "</div>"
      ],
      "text/plain": [
       "     id                                              title  \\\n",
       "0     1        How can I get chewy chocolate chip cookies?   \n",
       "1     2                How should I cook bacon in an oven?   \n",
       "2     3  What is the difference between white and brown...   \n",
       "3     4  What is the difference between baking soda and...   \n",
       "4     5  In a tomato sauce recipe, how can I cut the ac...   \n",
       "5     6  What ingredients (available in specific region...   \n",
       "6     9  What is the internal temperature a steak shoul...   \n",
       "7    11                         How should I poach an egg?   \n",
       "8    12             How can I make my Ice Cream \"creamier\"   \n",
       "9    17  How long and at what temperature do the variou...   \n",
       "10   23  Besides salmon, what other meats can be grille...   \n",
       "11   27    Do I need to sift flour that is labeled sifted?   \n",
       "12   28                         Storage life for goose fat   \n",
       "13   30                      Pressure canning instructions   \n",
       "14   32  What's a good resource for knowing what spices...   \n",
       "15   36    Is it safe to leave butter at room temperature?   \n",
       "16   38  Does resting the dough for a long time reduce ...   \n",
       "17   54                       How should I prepare Risotto   \n",
       "18   57  How does a splash of vinegar help when poachin...   \n",
       "19   61  What are the pros and cons of storing bread in...   \n",
       "20   62  What are some good resources for learning Knif...   \n",
       "21   66  How to calculate the calorie content of cooked...   \n",
       "22   68  Recommendations for spice organization strategies   \n",
       "23   70                               Shelf life of spices   \n",
       "24   76  How do I convert between the various measureme...   \n",
       "25   81  How do I pound chicken (or other meat) without...   \n",
       "26   84  Is there a formula for converting pancake batt...   \n",
       "27   85                         Wok preparation and caring   \n",
       "28   87  How can I keep delicate food from sticking to ...   \n",
       "29   89           What can I do to help my avocados ripen?   \n",
       "30   97        How can I improve my barbecue sauce recipe?   \n",
       "31   98                           Digital recipes storage?   \n",
       "32  101  What are convenient and reliable ways to make ...   \n",
       "33  105  Is there an alternative to cornstarch when use...   \n",
       "34  106           Sniffing out a rotten egg from the dozen   \n",
       "35  109         Why does a brown paper bag speed ripening?   \n",
       "36  119                   Is there a milk-free sour cream?   \n",
       "37  123  Can you hone a knife properly by using another...   \n",
       "38  125  What's the difference between pan frying, saut...   \n",
       "39  134  What makes fleur de sel different from regular...   \n",
       "40  138  How long do you let a steak from the fridge co...   \n",
       "41  139                           How to Store Fresh Herbs   \n",
       "42  141      Which vinegars are essential to keep on hand?   \n",
       "43  143                    Why do my burgers end up round?   \n",
       "44  149                               Once a month cooking   \n",
       "45  150                                How to dry oregano?   \n",
       "46  153  Is it generally better to cut chicken breast w...   \n",
       "47  154     How do I ripen unripe oranges and grapefruits?   \n",
       "48  164  When, if ever, are dried herbs preferable to f...   \n",
       "49  175         Is there an alternative to condensed milk?   \n",
       "\n",
       "                                              content  \\\n",
       "0   <p>My chocolate chips cookies are always too c...   \n",
       "1   <p>I've heard of people cooking bacon in an ov...   \n",
       "2   <p>I always use brown extra large eggs, but I ...   \n",
       "3   <p>And can I use one in place of the other in ...   \n",
       "4   <p>It seems that every time I make a tomato sa...   \n",
       "5   <p>I have a recipe that calls for fresh parsle...   \n",
       "6   <p>I'd like to know when to take my steaks off...   \n",
       "7   <p>What's the best method to poach an egg with...   \n",
       "8   <p>My ice cream doesn't feel creamy enough.  I...   \n",
       "9   <p>I'm interested in baking thighs, legs, brea...   \n",
       "10  <p>I've fallen in love with this wonderful <a ...   \n",
       "11  <p>Is there really an advantage to sifting flo...   \n",
       "12  <p>When I roast a goose, I decant the fat, str...   \n",
       "13  <p>Where can safe and reliable instructions (i...   \n",
       "14  <p>I know what spices like garlic and black pe...   \n",
       "15  <p>Is it safe to leave butter at room temperat...   \n",
       "16  <p>In this <a href=\"http://www.chefmichaelsmit...   \n",
       "17  <p>I've been watching a lot of Hells Kitchen, ...   \n",
       "18  <p>What does splashing in a shot of white vine...   \n",
       "19  <p>Why should/shouldn't I store my bread in th...   \n",
       "20  <p>What are some good resources for learning k...   \n",
       "21  <p>I like to cook from scratch, and I'm curren...   \n",
       "22  <p>Spices have always been the hardest thing f...   \n",
       "23  <p>The common wisdom I've heard is that dried ...   \n",
       "24  <p>I found a recipe that's using one or more m...   \n",
       "25  <p>Despite my best efforts, my kitchen (and so...   \n",
       "26  <p>I have a wonderful pancake recipe that I wo...   \n",
       "27  <p>What is a good technique for initially seas...   \n",
       "28  <p>When I grill fish or chicken, often much of...   \n",
       "29  <p>I bought some avocados recently, and one of...   \n",
       "30  <p>I've been trying to refine my BBQ sauce lat...   \n",
       "31  <p>What works well for storing recipes digital...   \n",
       "32  <p>The biggest issue with make good rye bread ...   \n",
       "33  <p>I made a some pies a couple of days ago. Th...   \n",
       "34  <p>Is it possible to tell if an egg has gone o...   \n",
       "35  <p>I often see this technique suggested as a w...   \n",
       "36  <p>Is there some kind of milk-free sour cream ...   \n",
       "37  <p>I recall seeing this in movies. Can it be c...   \n",
       "38  <p>As I understand it, all of these terms refe...   \n",
       "39  <p>Fleur de sel is the salt from the top of th...   \n",
       "40  <p>Before cooking a steak, you're supposed to ...   \n",
       "41  <p>What is the best way to store fresh herbs l...   \n",
       "42  <p>There seems to be a large variety of differ...   \n",
       "43  <p>When I broil or grill my burgers, I end up ...   \n",
       "44  <p>I've heard of \"once a month cooking\" or \"fr...   \n",
       "45  <p>I have oregano in my garden. But I only use...   \n",
       "46  <p>I realize it may depend on what you're doin...   \n",
       "47  <p>Sometimes when I buy oranges or grapefruits...   \n",
       "48  <p>Sometimes I see a recipe call for dried her...   \n",
       "49  <p>In Denmark we don't have condensed milk in ...   \n",
       "\n",
       "                                                 tags  \\\n",
       "0                              baking cookies texture   \n",
       "1                             oven cooking-time bacon   \n",
       "2                                                eggs   \n",
       "3   substitutions please-remove-this-tag baking-so...   \n",
       "4                sauce pasta tomatoes italian-cuisine   \n",
       "5                         substitutions herbs parsley   \n",
       "6                       food-safety beef cooking-time   \n",
       "7                                eggs basics poaching   \n",
       "8                                           ice-cream   \n",
       "9                         baking chicken cooking-time   \n",
       "10                        grilling salmon cedar-plank   \n",
       "11                  baking flour measurements sifting   \n",
       "12               storage-method storage-lifetime fats   \n",
       "13          canning pressure-canner food-preservation   \n",
       "14                   spices resources basics learning   \n",
       "15  food-safety storage-method storage-lifetime bu...   \n",
       "16                                 baking bread dough   \n",
       "17                       rice italian-cuisine risotto   \n",
       "18                 eggs food-science vinegar poaching   \n",
       "19                               storage-method bread   \n",
       "20            knife-skills resources learning cutting   \n",
       "21                      nutrient-composition calories   \n",
       "22          storage-method spices organization pantry   \n",
       "23             storage-method storage-lifetime spices   \n",
       "24                            conversion measurements   \n",
       "25            chicken meat chicken-breast tenderizing   \n",
       "26                  baking pancakes conversion waffle   \n",
       "27                       equipment wok seasoning-pans   \n",
       "28                                           grilling   \n",
       "29                       storage-method ripe avocados   \n",
       "30                 grilling sauce barbecue condiments   \n",
       "31                              organization software   \n",
       "32                               baking bread starter   \n",
       "33                substitutions baking pie cornstarch   \n",
       "34                  food-safety eggs storage-lifetime   \n",
       "35                   storage-method food-science ripe   \n",
       "36   substitutions milk allergy sour-cream dairy-free   \n",
       "37                                   equipment knives   \n",
       "38                                    frying sauteing   \n",
       "39         please-remove-this-tag salt classification   \n",
       "40                                    meat salt steak   \n",
       "41              storage-method herbs cilantro parsley   \n",
       "42                       substitutions vinegar pantry   \n",
       "43                        meat hamburgers ground-beef   \n",
       "44               storage-method freezing bulk-cooking   \n",
       "45               storage-method spices drying oregano   \n",
       "46                               chicken knife-skills   \n",
       "47                                  fruit ripe citrus   \n",
       "48           herbs please-remove-this-tag comparisons   \n",
       "49                                 substitutions milk   \n",
       "\n",
       "                                        content_clean  \n",
       "0   chocolate chips cookies always crisp get chewy...  \n",
       "1   ive heard people cooking bacon oven laying str...  \n",
       "2   always use brown extra large eggs cant honestl...  \n",
       "3                      use one place certain recipes   \n",
       "4   seems every time make tomato sauce pasta sauce...  \n",
       "5   recipe calls fresh parsley substituted fresh h...  \n",
       "6    id like know take steaks grill please everybody   \n",
       "7   whats best method poach egg without turning eg...  \n",
       "8   ice cream doesnt feel creamy enough got recipe...  \n",
       "9   im interested baking thighs legs breasts wings...  \n",
       "10  ive fallen love wonderful cedar planked salmon...  \n",
       "11  really advantage sifting flour bought labeled ...  \n",
       "12  roast goose decant fat strain freeze typically...  \n",
       "13  safe reliable instructions including high low ...  \n",
       "14  know spices like garlic black pepper foods typ...  \n",
       "15  safe leave butter room temperature long safe k...  \n",
       "16  article chef michael smith mentions recipe lea...  \n",
       "17  ive watching lot hells kitchen one signature d...  \n",
       "18  splashing shot white vinegar simmering water p...  \n",
       "19  shouldshouldnt store bread fridgefreezerbreadb...  \n",
       "20  good resources learning knife skills specifica...  \n",
       "21  like cook scratch im currently trying loose po...  \n",
       "22  spices always hardest thing keep track kitchen...  \n",
       "23  common wisdom ive heard dried herbs spices she...  \n",
       "24  found recipe thats using one measurements dont...  \n",
       "25  despite best efforts kitchen sometimes chicken...  \n",
       "26  wonderful pancake recipe would like convert wa...  \n",
       "27  good technique initially seasoning wok keeping...  \n",
       "28  grill fish chicken often much meat andor skin ...  \n",
       "29  bought avocados recently one rock hard tried c...  \n",
       "30  ive trying refine bbq sauce lately im really c...  \n",
       "31  works well storing recipes digitally software ...  \n",
       "32  biggest issue make good rye bread make starter...  \n",
       "33  made pies couple days ago recipe called cornst...  \n",
       "34  possible tell egg gone referring eggs especial...  \n",
       "35  often see technique suggested way speed ripeni...  \n",
       "36  kind milkfree sour cream available use substit...  \n",
       "37       recall seeing movies called poor mans steel   \n",
       "38  understand terms refer cooking food small amou...  \n",
       "39  fleur de sel salt top pot heat salted water ma...  \n",
       "40  cooking steak youre supposed let sit room temp...  \n",
       "41  best way store fresh herbs like parsley cilant...  \n",
       "42  seems large variety different vinegars called ...  \n",
       "43  broil grill burgers end burgers round middle g...  \n",
       "44  ive heard month cooking freezer cooking basica...  \n",
       "45  oregano garden use fresh properly dry oregano ...  \n",
       "46   realize may depend youre general rule preferred   \n",
       "47  sometimes buy oranges grapefruits find rather ...  \n",
       "48  sometimes see recipe call dried herbs access f...  \n",
       "49  denmark dont condensed milk regular stores ive...  "
      ]
     },
     "execution_count": 24,
     "metadata": {},
     "output_type": "execute_result"
    }
   ],
   "source": [
    "cooking_frame.head(50)"
   ]
  },
  {
   "cell_type": "code",
   "execution_count": 25,
   "metadata": {
    "collapsed": true
   },
   "outputs": [],
   "source": [
    "removeUnwantedTag = lambda x : x.replace('please-remove-this-tag','')\n",
    "removeCommonWords = lambda x: x.replace('ive','').replace('im','')"
   ]
  },
  {
   "cell_type": "code",
   "execution_count": 26,
   "metadata": {
    "collapsed": true
   },
   "outputs": [],
   "source": [
    "cooking_frame['tags_clean'] = cooking_frame['tags'].apply(removeUnwantedTag).apply(removeCommonWords)                            \n",
    "cooking_frame['content_clean'] = cooking_frame['content_clean'].apply(removeCommonWords)"
   ]
  },
  {
   "cell_type": "code",
   "execution_count": 27,
   "metadata": {
    "collapsed": false
   },
   "outputs": [
    {
     "data": {
      "text/plain": [
       "<15404x744 sparse matrix of type '<type 'numpy.float32'>'\n",
       "\twith 42116 stored elements in Compressed Sparse Row format>"
      ]
     },
     "execution_count": 27,
     "metadata": {},
     "output_type": "execute_result"
    }
   ],
   "source": [
    "corpus = cooking_frame['tags_clean'].tolist()\n",
    "Y = vectorizer.fit_transform(corpus)\n",
    "Y   "
   ]
  },
  {
   "cell_type": "code",
   "execution_count": 28,
   "metadata": {
    "collapsed": false
   },
   "outputs": [],
   "source": [
    "def wordCloudGenerator(column_heading):\n",
    "\n",
    "    wordcloud = WordCloud().generate(string.join(cooking_frame[column_heading].tolist()))\n",
    "    # lower max_font_size\n",
    "    #wordcloud = WordCloud().generate(text)\n",
    "    plt.figure()\n",
    "    plt.imshow(wordcloud)\n",
    "    plt.axis(\"off\")\n",
    "    plt.show()"
   ]
  },
  {
   "cell_type": "code",
   "execution_count": 34,
   "metadata": {
    "collapsed": false
   },
   "outputs": [
    {
     "data": {
      "image/png": "[encoded data removed]",
      "text/plain": [
       "<matplotlib.figure.Figure at 0xc92f470>"
      ]
     },
     "metadata": {},
     "output_type": "display_data"
    }
   ],
   "source": [
    "#wordcloud = WordCloud().generate(string.join(cooking_frame['content_clean'].tolist()))\n",
    "wordCloudGenerator('content_clean')"
   ]
  },
  {
   "cell_type": "code",
   "execution_count": 35,
   "metadata": {
    "collapsed": false
   },
   "outputs": [
    {
     "data": {
      "image/png": "[encoded data removed]",
      "text/plain": [
       "<matplotlib.figure.Figure at 0xcae6c88>"
      ]
     },
     "metadata": {},
     "output_type": "display_data"
    }
   ],
   "source": [
    "wordCloudGenerator('tags_clean')"
   ]
  },
  {
   "cell_type": "code",
   "execution_count": 36,
   "metadata": {
    "collapsed": true
   },
   "outputs": [],
   "source": [
    "corpus = cooking_frame['tags_clean'].tolist()\n",
    "Y = vectorizer.fit_transform(corpus)\n",
    "\n",
    "corpus = cooking_frame['content_clean'].tolist()\n",
    "X = vectorizer.fit_transform(corpus)\n",
    "\n"
   ]
  },
  {
   "cell_type": "code",
   "execution_count": 37,
   "metadata": {
    "collapsed": false
   },
   "outputs": [
    {
     "data": {
      "text/plain": [
       "<15404x28993 sparse matrix of type '<type 'numpy.float32'>'\n",
       "\twith 549431 stored elements in Compressed Sparse Row format>"
      ]
     },
     "execution_count": 37,
     "metadata": {},
     "output_type": "execute_result"
    }
   ],
   "source": [
    "X"
   ]
  },
  {
   "cell_type": "code",
   "execution_count": 47,
   "metadata": {
    "collapsed": true
   },
   "outputs": [],
   "source": [
    "def cleanContent(df, contentColumn):\n",
    "    df['content_clean'] = df[contentColumn].apply(removeTag).apply(removeNewLine).apply(removePunc).apply(reduceSpaces)\n",
    "    df['content_clean'] = df['content_clean'].progress_apply(stripUnMeaningfulWords)\n",
    "    df['content_clean'] = df['content_clean'].apply(removeCommonWords)\n",
    "    return df\n",
    "\n",
    "def cleanTags(df, tagColumn):\n",
    "    df['tags_clean'] = df['tags'].apply(removeUnwantedTag).apply(removeCommonWords)\n",
    "    return df\n",
    "    "
   ]
  },
  {
   "cell_type": "markdown",
   "metadata": {},
   "source": [
    "# Apply methods above to clean all data."
   ]
  },
  {
   "cell_type": "code",
   "execution_count": 49,
   "metadata": {
    "collapsed": false
   },
   "outputs": [
    {
     "name": "stderr",
     "output_type": "stream",
     "text": [
      "100%|████████████████████████████████████| 15404/15404 [04:24<00:00, 58.18it/s]\n"
     ]
    }
   ],
   "source": [
    "cooking_frame = pd.read_csv('..\\Data\\Cooking.csv')\n",
    "\n",
    "\n",
    "\n",
    "cooking_frame = cleanContent(cooking_frame, 'content')\n"
   ]
  },
  {
   "cell_type": "code",
   "execution_count": 50,
   "metadata": {
    "collapsed": false
   },
   "outputs": [],
   "source": [
    "cooking_frame = cleanTags(cooking_frame, 'tags')"
   ]
  },
  {
   "cell_type": "code",
   "execution_count": 51,
   "metadata": {
    "collapsed": false
   },
   "outputs": [
    {
     "data": {
      "text/html": [
       "<div>\n",
       "<table border=\"1\" class=\"dataframe\">\n",
       "  <thead>\n",
       "    <tr style=\"text-align: right;\">\n",
       "      <th></th>\n",
       "      <th>id</th>\n",
       "      <th>title</th>\n",
       "      <th>content</th>\n",
       "      <th>tags</th>\n",
       "      <th>content_clean</th>\n",
       "      <th>tags_clean</th>\n",
       "    </tr>\n",
       "  </thead>\n",
       "  <tbody>\n",
       "    <tr>\n",
       "      <th>0</th>\n",
       "      <td>1</td>\n",
       "      <td>How can I get chewy chocolate chip cookies?</td>\n",
       "      <td>&lt;p&gt;My chocolate chips cookies are always too c...</td>\n",
       "      <td>baking cookies texture</td>\n",
       "      <td>chocolate chips cookies always crisp get chewy...</td>\n",
       "      <td>baking cookies texture</td>\n",
       "    </tr>\n",
       "    <tr>\n",
       "      <th>1</th>\n",
       "      <td>2</td>\n",
       "      <td>How should I cook bacon in an oven?</td>\n",
       "      <td>&lt;p&gt;I've heard of people cooking bacon in an ov...</td>\n",
       "      <td>oven cooking-time bacon</td>\n",
       "      <td>heard people cooking bacon oven laying strips...</td>\n",
       "      <td>oven cooking-te bacon</td>\n",
       "    </tr>\n",
       "    <tr>\n",
       "      <th>2</th>\n",
       "      <td>3</td>\n",
       "      <td>What is the difference between white and brown...</td>\n",
       "      <td>&lt;p&gt;I always use brown extra large eggs, but I ...</td>\n",
       "      <td>eggs</td>\n",
       "      <td>always use brown extra large eggs cant honestl...</td>\n",
       "      <td>eggs</td>\n",
       "    </tr>\n",
       "    <tr>\n",
       "      <th>3</th>\n",
       "      <td>4</td>\n",
       "      <td>What is the difference between baking soda and...</td>\n",
       "      <td>&lt;p&gt;And can I use one in place of the other in ...</td>\n",
       "      <td>substitutions please-remove-this-tag baking-so...</td>\n",
       "      <td>use one place certain recipes</td>\n",
       "      <td>substitutions  baking-soda baking-powder</td>\n",
       "    </tr>\n",
       "    <tr>\n",
       "      <th>4</th>\n",
       "      <td>5</td>\n",
       "      <td>In a tomato sauce recipe, how can I cut the ac...</td>\n",
       "      <td>&lt;p&gt;It seems that every time I make a tomato sa...</td>\n",
       "      <td>sauce pasta tomatoes italian-cuisine</td>\n",
       "      <td>seems every te make tomato sauce pasta sauce l...</td>\n",
       "      <td>sauce pasta tomatoes italian-cuisine</td>\n",
       "    </tr>\n",
       "    <tr>\n",
       "      <th>5</th>\n",
       "      <td>6</td>\n",
       "      <td>What ingredients (available in specific region...</td>\n",
       "      <td>&lt;p&gt;I have a recipe that calls for fresh parsle...</td>\n",
       "      <td>substitutions herbs parsley</td>\n",
       "      <td>recipe calls fresh parsley substituted fresh h...</td>\n",
       "      <td>substitutions herbs parsley</td>\n",
       "    </tr>\n",
       "    <tr>\n",
       "      <th>6</th>\n",
       "      <td>9</td>\n",
       "      <td>What is the internal temperature a steak shoul...</td>\n",
       "      <td>&lt;p&gt;I'd like to know when to take my steaks off...</td>\n",
       "      <td>food-safety beef cooking-time</td>\n",
       "      <td>id like know take steaks grill please everybody</td>\n",
       "      <td>food-safety beef cooking-te</td>\n",
       "    </tr>\n",
       "    <tr>\n",
       "      <th>7</th>\n",
       "      <td>11</td>\n",
       "      <td>How should I poach an egg?</td>\n",
       "      <td>&lt;p&gt;What's the best method to poach an egg with...</td>\n",
       "      <td>eggs basics poaching</td>\n",
       "      <td>whats best method poach egg without turning eg...</td>\n",
       "      <td>eggs basics poaching</td>\n",
       "    </tr>\n",
       "    <tr>\n",
       "      <th>8</th>\n",
       "      <td>12</td>\n",
       "      <td>How can I make my Ice Cream \"creamier\"</td>\n",
       "      <td>&lt;p&gt;My ice cream doesn't feel creamy enough.  I...</td>\n",
       "      <td>ice-cream</td>\n",
       "      <td>ice cream doesnt feel creamy enough got recipe...</td>\n",
       "      <td>ice-cream</td>\n",
       "    </tr>\n",
       "    <tr>\n",
       "      <th>9</th>\n",
       "      <td>17</td>\n",
       "      <td>How long and at what temperature do the variou...</td>\n",
       "      <td>&lt;p&gt;I'm interested in baking thighs, legs, brea...</td>\n",
       "      <td>baking chicken cooking-time</td>\n",
       "      <td>interested baking thighs legs breasts wings l...</td>\n",
       "      <td>baking chicken cooking-te</td>\n",
       "    </tr>\n",
       "  </tbody>\n",
       "</table>\n",
       "</div>"
      ],
      "text/plain": [
       "   id                                              title  \\\n",
       "0   1        How can I get chewy chocolate chip cookies?   \n",
       "1   2                How should I cook bacon in an oven?   \n",
       "2   3  What is the difference between white and brown...   \n",
       "3   4  What is the difference between baking soda and...   \n",
       "4   5  In a tomato sauce recipe, how can I cut the ac...   \n",
       "5   6  What ingredients (available in specific region...   \n",
       "6   9  What is the internal temperature a steak shoul...   \n",
       "7  11                         How should I poach an egg?   \n",
       "8  12             How can I make my Ice Cream \"creamier\"   \n",
       "9  17  How long and at what temperature do the variou...   \n",
       "\n",
       "                                             content  \\\n",
       "0  <p>My chocolate chips cookies are always too c...   \n",
       "1  <p>I've heard of people cooking bacon in an ov...   \n",
       "2  <p>I always use brown extra large eggs, but I ...   \n",
       "3  <p>And can I use one in place of the other in ...   \n",
       "4  <p>It seems that every time I make a tomato sa...   \n",
       "5  <p>I have a recipe that calls for fresh parsle...   \n",
       "6  <p>I'd like to know when to take my steaks off...   \n",
       "7  <p>What's the best method to poach an egg with...   \n",
       "8  <p>My ice cream doesn't feel creamy enough.  I...   \n",
       "9  <p>I'm interested in baking thighs, legs, brea...   \n",
       "\n",
       "                                                tags  \\\n",
       "0                             baking cookies texture   \n",
       "1                            oven cooking-time bacon   \n",
       "2                                               eggs   \n",
       "3  substitutions please-remove-this-tag baking-so...   \n",
       "4               sauce pasta tomatoes italian-cuisine   \n",
       "5                        substitutions herbs parsley   \n",
       "6                      food-safety beef cooking-time   \n",
       "7                               eggs basics poaching   \n",
       "8                                          ice-cream   \n",
       "9                        baking chicken cooking-time   \n",
       "\n",
       "                                       content_clean  \\\n",
       "0  chocolate chips cookies always crisp get chewy...   \n",
       "1   heard people cooking bacon oven laying strips...   \n",
       "2  always use brown extra large eggs cant honestl...   \n",
       "3                     use one place certain recipes    \n",
       "4  seems every te make tomato sauce pasta sauce l...   \n",
       "5  recipe calls fresh parsley substituted fresh h...   \n",
       "6   id like know take steaks grill please everybody    \n",
       "7  whats best method poach egg without turning eg...   \n",
       "8  ice cream doesnt feel creamy enough got recipe...   \n",
       "9   interested baking thighs legs breasts wings l...   \n",
       "\n",
       "                                 tags_clean  \n",
       "0                    baking cookies texture  \n",
       "1                     oven cooking-te bacon  \n",
       "2                                      eggs  \n",
       "3  substitutions  baking-soda baking-powder  \n",
       "4      sauce pasta tomatoes italian-cuisine  \n",
       "5               substitutions herbs parsley  \n",
       "6               food-safety beef cooking-te  \n",
       "7                      eggs basics poaching  \n",
       "8                                 ice-cream  \n",
       "9                 baking chicken cooking-te  "
      ]
     },
     "execution_count": 51,
     "metadata": {},
     "output_type": "execute_result"
    }
   ],
   "source": [
    "cooking_frame.head(10)"
   ]
  },
  {
   "cell_type": "code",
   "execution_count": 52,
   "metadata": {
    "collapsed": true
   },
   "outputs": [],
   "source": [
    "corpus = cooking_frame['tags_clean'].tolist()\n",
    "Y = vectorizer.fit_transform(corpus)\n",
    "\n",
    "corpus = cooking_frame['content_clean'].tolist()\n",
    "X = vectorizer.fit_transform(corpus)"
   ]
  },
  {
   "cell_type": "code",
   "execution_count": 53,
   "metadata": {
    "collapsed": true
   },
   "outputs": [],
   "source": [
    "from sklearn import linear_model"
   ]
  },
  {
   "cell_type": "code",
   "execution_count": 95,
   "metadata": {
    "collapsed": true
   },
   "outputs": [],
   "source": []
  },
  {
   "cell_type": "code",
   "execution_count": 96,
   "metadata": {
    "collapsed": false
   },
   "outputs": [
    {
     "data": {
      "text/plain": [
       "(15404, 1)"
      ]
     },
     "execution_count": 96,
     "metadata": {},
     "output_type": "execute_result"
    }
   ],
   "source": [
    "\n",
    "\n",
    "np.shape(Y1)"
   ]
  },
  {
   "cell_type": "code",
   "execution_count": 97,
   "metadata": {
    "collapsed": false
   },
   "outputs": [
    {
     "data": {
      "text/plain": [
       "LogisticRegression(C=1000.0, class_weight=None, dual=False,\n",
       "          fit_intercept=True, intercept_scaling=1, max_iter=100,\n",
       "          multi_class='ovr', n_jobs=1, penalty='l2', random_state=None,\n",
       "          solver='liblinear', tol=0.0001, verbose=0, warm_start=False)"
      ]
     },
     "execution_count": 97,
     "metadata": {},
     "output_type": "execute_result"
    }
   ],
   "source": []
  },
  {
   "cell_type": "code",
   "execution_count": 98,
   "metadata": {
    "collapsed": true
   },
   "outputs": [],
   "source": [
    "Y_resp = logreg.predict(X)"
   ]
  },
  {
   "cell_type": "code",
   "execution_count": 105,
   "metadata": {
    "collapsed": false
   },
   "outputs": [
    {
     "data": {
      "text/plain": [
       "15404"
      ]
     },
     "execution_count": 105,
     "metadata": {},
     "output_type": "execute_result"
    }
   ],
   "source": []
  },
  {
   "cell_type": "code",
   "execution_count": 100,
   "metadata": {
    "collapsed": false
   },
   "outputs": [
    {
     "data": {
      "text/plain": [
       "(array([ 15363.,      0.,      0.,      0.,      0.,      0.,      0.,\n",
       "             0.,      0.,     41.]),\n",
       " array([ 0. ,  0.1,  0.2,  0.3,  0.4,  0.5,  0.6,  0.7,  0.8,  0.9,  1. ]),\n",
       " <a list of 10 Patch objects>)"
      ]
     },
     "execution_count": 100,
     "metadata": {},
     "output_type": "execute_result"
    },
    {
     "data": {
      "image/png": "[encoded data removed]",
      "text/plain": [
       "<matplotlib.figure.Figure at 0x12431ac8>"
      ]
     },
     "metadata": {},
     "output_type": "display_data"
    }
   ],
   "source": [
    "plt.hist(Y_resp)"
   ]
  },
  {
   "cell_type": "code",
   "execution_count": 107,
   "metadata": {
    "collapsed": false
   },
   "outputs": [
    {
     "name": "stderr",
     "output_type": "stream",
     "text": [
      "100%|████████████████████████████████████████| 744/744 [09:35<00:00,  1.23it/s]\n"
     ]
    }
   ],
   "source": [
    "logLinModels = []\n",
    "\n",
    "numObs = np.shape(Y)[0]\n",
    "\n",
    "for i in tqdm(range(np.shape(Y)[1])):\n",
    "    logreg = linear_model.LogisticRegression(C=1e3)\n",
    "    Y1 = Y[:,i]\n",
    "    logreg.fit(X,Y1.toarray().reshape(numObs,))\n",
    "    logLinModels.append(logreg)\n"
   ]
  },
  {
   "cell_type": "code",
   "execution_count": 109,
   "metadata": {
    "collapsed": false
   },
   "outputs": [],
   "source": [
    "Y_pred = []\n",
    "\n",
    "for model in logLinModels:\n",
    "    y = model.predict(X)\n",
    "    Y_pred.append(y)"
   ]
  },
  {
   "cell_type": "code",
   "execution_count": 112,
   "metadata": {
    "collapsed": true
   },
   "outputs": [],
   "source": [
    "Y_pred = np.transpose(np.matrix(Y_pred))"
   ]
  },
  {
   "cell_type": "code",
   "execution_count": 113,
   "metadata": {
    "collapsed": false
   },
   "outputs": [
    {
     "data": {
      "text/plain": [
       "(15404L, 744L)"
      ]
     },
     "execution_count": 113,
     "metadata": {},
     "output_type": "execute_result"
    }
   ],
   "source": [
    "np.shape(Y_pred)"
   ]
  },
  {
   "cell_type": "code",
   "execution_count": 114,
   "metadata": {
    "collapsed": true
   },
   "outputs": [],
   "source": [
    "diff = Y_pred - Y"
   ]
  },
  {
   "cell_type": "code",
   "execution_count": 116,
   "metadata": {
    "collapsed": false
   },
   "outputs": [
    {
     "data": {
      "text/plain": [
       "0.0"
      ]
     },
     "execution_count": 116,
     "metadata": {},
     "output_type": "execute_result"
    }
   ],
   "source": [
    "np.min(diff)"
   ]
  },
  {
   "cell_type": "code",
   "execution_count": null,
   "metadata": {
    "collapsed": true
   },
   "outputs": [],
   "source": []
  }
 ],
 "metadata": {
  "anaconda-cloud": {},
  "kernelspec": {
   "display_name": "Python 2",
   "language": "python",
   "name": "python2"
  },
  "language_info": {
   "codemirror_mode": {
    "name": "ipython",
    "version": 2
   },
   "file_extension": ".py",
   "mimetype": "text/x-python",
   "name": "python",
   "nbconvert_exporter": "python",
   "pygments_lexer": "ipython2",
   "version": "2.7.12"
  }
 },
 "nbformat": 4,
 "nbformat_minor": 1
}
