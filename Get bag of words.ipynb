{
 "cells": [
  {
   "cell_type": "code",
   "execution_count": 1,
   "metadata": {
    "collapsed": false
   },
   "outputs": [],
   "source": [
    "import numpy as np\n",
    "import pandas as pd\n",
    "import re\n",
    "import string\n",
    "from nltk.corpus import stopwords # Import the stop word list\n",
    "from tqdm import tqdm, tqdm_pandas"
   ]
  },
  {
   "cell_type": "code",
   "execution_count": 2,
   "metadata": {
    "collapsed": true
   },
   "outputs": [],
   "source": [
    "cooking_frame = pd.read_csv('..\\Data\\Cooking.csv')"
   ]
  },
  {
   "cell_type": "code",
   "execution_count": 3,
   "metadata": {
    "collapsed": false
   },
   "outputs": [
    {
     "data": {
      "text/plain": [
       "0        <p>My chocolate chips cookies are always too c...\n",
       "1        <p>I've heard of people cooking bacon in an ov...\n",
       "2        <p>I always use brown extra large eggs, but I ...\n",
       "3        <p>And can I use one in place of the other in ...\n",
       "4        <p>It seems that every time I make a tomato sa...\n",
       "5        <p>I have a recipe that calls for fresh parsle...\n",
       "6        <p>I'd like to know when to take my steaks off...\n",
       "7        <p>What's the best method to poach an egg with...\n",
       "8        <p>My ice cream doesn't feel creamy enough.  I...\n",
       "9        <p>I'm interested in baking thighs, legs, brea...\n",
       "10       <p>I've fallen in love with this wonderful <a ...\n",
       "11       <p>Is there really an advantage to sifting flo...\n",
       "12       <p>When I roast a goose, I decant the fat, str...\n",
       "13       <p>Where can safe and reliable instructions (i...\n",
       "14       <p>I know what spices like garlic and black pe...\n",
       "15       <p>Is it safe to leave butter at room temperat...\n",
       "16       <p>In this <a href=\"http://www.chefmichaelsmit...\n",
       "17       <p>I've been watching a lot of Hells Kitchen, ...\n",
       "18       <p>What does splashing in a shot of white vine...\n",
       "19       <p>Why should/shouldn't I store my bread in th...\n",
       "20       <p>What are some good resources for learning k...\n",
       "21       <p>I like to cook from scratch, and I'm curren...\n",
       "22       <p>Spices have always been the hardest thing f...\n",
       "23       <p>The common wisdom I've heard is that dried ...\n",
       "24       <p>I found a recipe that's using one or more m...\n",
       "25       <p>Despite my best efforts, my kitchen (and so...\n",
       "26       <p>I have a wonderful pancake recipe that I wo...\n",
       "27       <p>What is a good technique for initially seas...\n",
       "28       <p>When I grill fish or chicken, often much of...\n",
       "29       <p>I bought some avocados recently, and one of...\n",
       "                               ...                        \n",
       "15374    <p>A while ago we ate at a Vietnamese restaura...\n",
       "15375    <p>is the pizza still ok to eat  after being t...\n",
       "15376    <p>I've recently started looking into making b...\n",
       "15377    <p>When making hamburgers that will be eaten i...\n",
       "15378    <p>I love all kinds of noodles, be it be Schez...\n",
       "15379    <p>If  you wanted to add smoke flavour to a so...\n",
       "15380    <p>I have been cooking a very light tomato top...\n",
       "15381    <p>I need soup help.\\nI am unable to make a ho...\n",
       "15382    <p>How Cani keep greengage jam green rather th...\n",
       "15383    <p>I was watching Sara Moulton's TV show last ...\n",
       "15384    <p>I put a beef roast in the slow cooker (croc...\n",
       "15385    <p>I put some soy sauce and a generous amount ...\n",
       "15386    <p>Is there a way to determine how much salt p...\n",
       "15387    <p>I was doing a home-made, raw chocolate, mad...\n",
       "15388    <p>Recently I went to a restaurant where they ...\n",
       "15389    <p>I have a Pit Barrel Cooker. I have made ham...\n",
       "15390    <p>We have a startup environment at office and...\n",
       "15391    <p>Its well debated topic whether plastic / gl...\n",
       "15392    <p>Bit of an odd one, was half way through coo...\n",
       "15393    <p>I was watching youtube vids about cooking a...\n",
       "15394    <p>I have <a href=\"https://www.nowfoods.com/be...\n",
       "15395    <p>I've found guides online for making carbona...\n",
       "15396    <p>I have a surplus of jelly like chicken stoc...\n",
       "15397    <p>After coating my chicken with Shake &amp; B...\n",
       "15398    <p>I am trying to make Buckwheat noodles (Soba...\n",
       "15399    <p>I recently signed up for America's Test Kit...\n",
       "15400    <p>I made some buttercream frosting for browni...\n",
       "15401    <p>My Italian mom gowould pour flour on a boar...\n",
       "15402    <p>I wonder if an artificial sweetener like su...\n",
       "15403    <p><a href=\"http://i.stack.imgur.com/p45hW.jpg...\n",
       "Name: content, dtype: object"
      ]
     },
     "execution_count": 3,
     "metadata": {},
     "output_type": "execute_result"
    }
   ],
   "source": [
    "cooking_frame['content']"
   ]
  },
  {
   "cell_type": "code",
   "execution_count": 4,
   "metadata": {
    "collapsed": true
   },
   "outputs": [],
   "source": [
    "removeTag = lambda x : re.sub('<[^>]*>','',x)\n",
    "removeNewLine = lambda x: re.sub('\\\\n',' ', x)\n",
    "removePunc = lambda x: re.sub(\"[^a-zA-Z\\s]\",\"\",string.lower(x.translate(string.maketrans(\"\",\"\"), string.punctuation)))\n",
    "reduceSpaces = lambda x: re.sub(\"[\\s]{2,}\",\" \",x)\n",
    "\n",
    "def stripUnMeaningfulWords(sentance):\n",
    "    words = sentance.split(\" \")\n",
    "    newWorldList = [w for w in words if not w in stopwords.words(\"english\")]\n",
    "    return(string.join(newWorldList))\n"
   ]
  },
  {
   "cell_type": "code",
   "execution_count": 5,
   "metadata": {
    "collapsed": false
   },
   "outputs": [
    {
     "data": {
      "text/html": [
       "<div>\n",
       "<table border=\"1\" class=\"dataframe\">\n",
       "  <thead>\n",
       "    <tr style=\"text-align: right;\">\n",
       "      <th></th>\n",
       "      <th>id</th>\n",
       "      <th>title</th>\n",
       "      <th>content</th>\n",
       "      <th>tags</th>\n",
       "    </tr>\n",
       "  </thead>\n",
       "  <tbody>\n",
       "    <tr>\n",
       "      <th>0</th>\n",
       "      <td>1</td>\n",
       "      <td>How can I get chewy chocolate chip cookies?</td>\n",
       "      <td>&lt;p&gt;My chocolate chips cookies are always too c...</td>\n",
       "      <td>baking cookies texture</td>\n",
       "    </tr>\n",
       "    <tr>\n",
       "      <th>1</th>\n",
       "      <td>2</td>\n",
       "      <td>How should I cook bacon in an oven?</td>\n",
       "      <td>&lt;p&gt;I've heard of people cooking bacon in an ov...</td>\n",
       "      <td>oven cooking-time bacon</td>\n",
       "    </tr>\n",
       "  </tbody>\n",
       "</table>\n",
       "</div>"
      ],
      "text/plain": [
       "   id                                        title  \\\n",
       "0   1  How can I get chewy chocolate chip cookies?   \n",
       "1   2          How should I cook bacon in an oven?   \n",
       "\n",
       "                                             content                     tags  \n",
       "0  <p>My chocolate chips cookies are always too c...   baking cookies texture  \n",
       "1  <p>I've heard of people cooking bacon in an ov...  oven cooking-time bacon  "
      ]
     },
     "execution_count": 5,
     "metadata": {},
     "output_type": "execute_result"
    }
   ],
   "source": [
    "cooking_frame.head(2)"
   ]
  },
  {
   "cell_type": "code",
   "execution_count": 7,
   "metadata": {
    "collapsed": false
   },
   "outputs": [],
   "source": [
    "#removetag(cooking_frame['content'][11])\n",
    "\n",
    "cooking_frame['content_clean'] = cooking_frame['content'].apply(removeTag).apply(removeNewLine).apply(removePunc).apply(reduceSpaces)                                \n",
    "#clean = cooking_frame['content'].ix[:10].apply(removeTag).apply(removeNewLine).apply(removePunc).apply(reduceSpaces).apply(stripUnMeaningfulWords)"
   ]
  },
  {
   "cell_type": "code",
   "execution_count": null,
   "metadata": {
    "collapsed": true
   },
   "outputs": [],
   "source": [
    "tqdm_pandas(tqdm())"
   ]
  },
  {
   "cell_type": "code",
   "execution_count": 10,
   "metadata": {
    "collapsed": false
   },
   "outputs": [
    {
     "name": "stderr",
     "output_type": "stream",
     "text": [
      "15404it [10:05, 25.45it/s]\n"
     ]
    }
   ],
   "source": [
    "cooking_frame['content_clean'] = cooking_frame['content_clean'].progress_apply(stripUnMeaningfulWords)  "
   ]
  },
  {
   "cell_type": "code",
   "execution_count": 11,
   "metadata": {
    "collapsed": false
   },
   "outputs": [
    {
     "name": "stdout",
     "output_type": "stream",
     "text": [
      "chocolate chips cookies always crisp get chewy cookies like starbucks thank everyone answered far tip biggest impact chill rest dough however also increased brown sugar ratio increased bit butter also adding maple syrup helped \n"
     ]
    }
   ],
   "source": [
    "print cooking_frame['content_clean'][0]"
   ]
  },
  {
   "cell_type": "code",
   "execution_count": 12,
   "metadata": {
    "collapsed": true
   },
   "outputs": [],
   "source": [
    "from sklearn.feature_extraction.text import CountVectorizer"
   ]
  },
  {
   "cell_type": "code",
   "execution_count": 15,
   "metadata": {
    "collapsed": true
   },
   "outputs": [],
   "source": [
    "vectorizer = CountVectorizer(min_df=1)\n",
    "#http://scikit-learn.org/stable/modules/generated/sklearn.feature_extraction.text.CountVectorizer.html#sklearn.feature_extraction.text.CountVectorizer\n",
    "vectorizer = CountVectorizer(analyzer='word', binary=False, decode_error='strict',\n",
    "        dtype=np.float32, encoding='utf-8', input='content',\n",
    "        lowercase=True, max_df=1.0, max_features=None, min_df=1,\n",
    "        ngram_range=(1, 1), preprocessor=None, stop_words=None,\n",
    "        strip_accents=None, token_pattern='(?u)\\\\b\\\\w\\\\w+\\\\b',\n",
    "        tokenizer=None, vocabulary=None)"
   ]
  },
  {
   "cell_type": "code",
   "execution_count": 16,
   "metadata": {
    "collapsed": false
   },
   "outputs": [
    {
     "data": {
      "text/plain": [
       "<15404x29114 sparse matrix of type '<type 'numpy.float32'>'\n",
       "\twith 556779 stored elements in Compressed Sparse Row format>"
      ]
     },
     "execution_count": 16,
     "metadata": {},
     "output_type": "execute_result"
    }
   ],
   "source": [
    "corpus = cooking_frame['content_clean'].tolist()\n",
    "X = vectorizer.fit_transform(corpus)\n",
    "X                              "
   ]
  },
  {
   "cell_type": "code",
   "execution_count": 17,
   "metadata": {
    "collapsed": false
   },
   "outputs": [
    {
     "data": {
      "text/plain": [
       "0.0"
      ]
     },
     "execution_count": 17,
     "metadata": {},
     "output_type": "execute_result"
    }
   ],
   "source": [
    "X[0,0]"
   ]
  },
  {
   "cell_type": "code",
   "execution_count": 18,
   "metadata": {
    "collapsed": false
   },
   "outputs": [
    {
     "data": {
      "text/plain": [
       "(15404, 29114)"
      ]
     },
     "execution_count": 18,
     "metadata": {},
     "output_type": "execute_result"
    }
   ],
   "source": [
    "np.shape(X)"
   ]
  },
  {
   "cell_type": "code",
   "execution_count": 26,
   "metadata": {
    "collapsed": false
   },
   "outputs": [
    {
     "data": {
      "text/plain": [
       "34.0"
      ]
     },
     "execution_count": 26,
     "metadata": {},
     "output_type": "execute_result"
    }
   ],
   "source": [
    "sum(X.toarray()[0,:])"
   ]
  },
  {
   "cell_type": "code",
   "execution_count": null,
   "metadata": {
    "collapsed": true
   },
   "outputs": [],
   "source": []
  }
 ],
 "metadata": {
  "anaconda-cloud": {},
  "kernelspec": {
   "display_name": "Python [conda root]",
   "language": "python",
   "name": "conda-root-py"
  },
  "language_info": {
   "codemirror_mode": {
    "name": "ipython",
    "version": 2
   },
   "file_extension": ".py",
   "mimetype": "text/x-python",
   "name": "python",
   "nbconvert_exporter": "python",
   "pygments_lexer": "ipython2",
   "version": "2.7.12"
  }
 },
 "nbformat": 4,
 "nbformat_minor": 1
}
